{
 "cells": [
  {
   "cell_type": "code",
   "execution_count": 33,
   "id": "fa145212-e351-410c-83c2-876de63fefcf",
   "metadata": {},
   "outputs": [],
   "source": [
    "import numpy as np\n",
    "import math"
   ]
  },
  {
   "cell_type": "markdown",
   "id": "e1eeb1e9-701f-4a1a-bf68-334eb271e35b",
   "metadata": {},
   "source": [
    "# Procesos de Poisson"
   ]
  },
  {
   "cell_type": "markdown",
   "id": "f4dcc1d5-484a-4a92-abb3-74acc5ce5e2d",
   "metadata": {},
   "source": [
    "Los procesos de Poisson, son procesos estocasticos que describen los arribos a lo largo del tiempo. Creado por <b>Siméon Poisson</b>. Este proceso tiene la caracteristica de que los arribos son aleatorios e independientes."
   ]
  },
  {
   "cell_type": "markdown",
   "id": "2b36a73f-95ea-4b5c-8591-7ed4d063c4ed",
   "metadata": {},
   "source": [
    "### Distribucion de Poisson"
   ]
  },
  {
   "cell_type": "markdown",
   "id": "788a3d11-34db-4ab4-be7a-d4b30317e6ec",
   "metadata": {},
   "source": [
    "Probabilidad de que halla n arribos en el intervalo (s,t]:"
   ]
  },
  {
   "cell_type": "markdown",
   "id": "708365e0-d8c0-4833-9da3-30d4680ffb3b",
   "metadata": {},
   "source": [
    "\\begin{equation}\n",
    "P(N_{(s,t]}=n) = \\frac{e^{-\\lambda (t-s)} (\\lambda (t-s))^n }{n!}\n",
    "\\end{equation}"
   ]
  },
  {
   "cell_type": "markdown",
   "id": "d4b93bdf-d8b5-454f-9968-d114a990a328",
   "metadata": {},
   "source": [
    "Donde $\\lambda$ es la tasa de arribos."
   ]
  },
  {
   "cell_type": "markdown",
   "id": "869772fb-f40d-410f-a19b-9605b7da67ad",
   "metadata": {},
   "source": [
    "#### Ejemplo"
   ]
  },
  {
   "cell_type": "markdown",
   "id": "fd43971d-6003-42d8-a09b-0b85dad2b6d1",
   "metadata": {},
   "source": [
    "La tasa de arribos a un estacionamiento es de 1 por minuto, calcule la probabilidad de que entre las 15:30 y 16:00 halla exactamente 20 arribos. Y tambien calcular la probabildad de que en ese tiempo halla mas de 20 arribos."
   ]
  },
  {
   "cell_type": "markdown",
   "id": "1ff15082-3a94-41f2-93f0-a1b7e3f57940",
   "metadata": {},
   "source": [
    "\\begin{equation}\n",
    "P(20) = \\frac{e^{- 1 * 30} (1 * 30)^{20} }{20!}\n",
    "\\end{equation}"
   ]
  },
  {
   "cell_type": "markdown",
   "id": "ebea7f5e-f154-4f8a-aff7-95bcc03d315d",
   "metadata": {},
   "source": [
    "\\begin{equation}\n",
    "P(20) = \\frac{e^{-30} 30^{20} }{20!}\n",
    "\\end{equation}"
   ]
  },
  {
   "cell_type": "markdown",
   "id": "d24feb7f-ca33-441e-9851-72d3c6879b58",
   "metadata": {},
   "source": [
    "$$\n",
    "P(20) = 0.013\n",
    "$$"
   ]
  },
  {
   "cell_type": "code",
   "execution_count": 38,
   "id": "2d4b39d3-bb79-409f-b779-3f8c9b5b5102",
   "metadata": {},
   "outputs": [],
   "source": [
    "def poisson_prob(lambda_, interval, n):\n",
    "    return ((np.e ** (-lambda_ * interval)) * (lambda_ * interval) ** n) / math.factorial(n)"
   ]
  },
  {
   "cell_type": "code",
   "execution_count": 55,
   "id": "473c88fd-e2d0-4dc0-be26-e336b47b60f7",
   "metadata": {},
   "outputs": [
    {
     "data": {
      "text/plain": [
       "0.01341115001283781"
      ]
     },
     "execution_count": 55,
     "metadata": {},
     "output_type": "execute_result"
    }
   ],
   "source": [
    "n_arribos = 20\n",
    "intervalo = 30\n",
    "tasa = 1\n",
    "poisson_prob(tasa, intervalo, n_arribos)"
   ]
  },
  {
   "cell_type": "markdown",
   "id": "1b3d7212-3b93-42f1-b453-b9b4b3b0cb93",
   "metadata": {},
   "source": [
    "$$\n",
    "P(N > 20) = 1 - P(N \\leq 20)\n",
    "$$"
   ]
  },
  {
   "cell_type": "markdown",
   "id": "aa396299-6485-4982-96ea-78a934606096",
   "metadata": {},
   "source": [
    "$$\n",
    "P(N \\leq 20) = \\sum_{i = 0}^{20} P(N = i)\n",
    "$$"
   ]
  },
  {
   "cell_type": "code",
   "execution_count": 63,
   "id": "d757bb4e-36fb-4b6e-9a03-26402ccfdf0e",
   "metadata": {},
   "outputs": [
    {
     "data": {
      "text/plain": [
       "0.9781265315586091"
      ]
     },
     "execution_count": 63,
     "metadata": {},
     "output_type": "execute_result"
    }
   ],
   "source": [
    "total = 0\n",
    "for i in range(20):\n",
    "    total = total + poisson_prob(tasa, intervalo, i)\n",
    "1 - total"
   ]
  },
  {
   "cell_type": "markdown",
   "id": "d56af377-c3ef-405b-ab07-3248f7aba5c7",
   "metadata": {},
   "source": [
    "Un 97% de probabilidades de que en menos de 30 minutos arriben mas de 20 autos."
   ]
  },
  {
   "cell_type": "markdown",
   "id": "c2afa4ab-e81f-43cf-b112-453d2d246a87",
   "metadata": {},
   "source": [
    "Esto es un resultado esperado ya que si arriba 1 auto por minuto en promedio, es muy probable que arriben mas de 20 autos en 30 minutos."
   ]
  }
 ],
 "metadata": {
  "kernelspec": {
   "display_name": "Python 3 (ipykernel)",
   "language": "python",
   "name": "python3"
  },
  "language_info": {
   "codemirror_mode": {
    "name": "ipython",
    "version": 3
   },
   "file_extension": ".py",
   "mimetype": "text/x-python",
   "name": "python",
   "nbconvert_exporter": "python",
   "pygments_lexer": "ipython3",
   "version": "3.11.1"
  }
 },
 "nbformat": 4,
 "nbformat_minor": 5
}
