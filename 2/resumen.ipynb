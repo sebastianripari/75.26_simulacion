{
 "cells": [
  {
   "cell_type": "markdown",
   "id": "e1eeb1e9-701f-4a1a-bf68-334eb271e35b",
   "metadata": {},
   "source": [
    "# Procesos de Poisson"
   ]
  },
  {
   "cell_type": "markdown",
   "id": "f4dcc1d5-484a-4a92-abb3-74acc5ce5e2d",
   "metadata": {},
   "source": [
    "Los procesos de Poisson, son procesos estocasticos que describen los arribos a lo largo del tiempo. Creado por <b>Siméon Poisson</b>. Este proceso tiene la caracteristica de que los arribos son aleatorios e independientes."
   ]
  },
  {
   "cell_type": "markdown",
   "id": "2b36a73f-95ea-4b5c-8591-7ed4d063c4ed",
   "metadata": {},
   "source": [
    "### Distribucion de Poisson"
   ]
  },
  {
   "cell_type": "markdown",
   "id": "788a3d11-34db-4ab4-be7a-d4b30317e6ec",
   "metadata": {},
   "source": [
    "Probabilidad de que halla n arribos en el intervalo (s,t]:"
   ]
  },
  {
   "cell_type": "markdown",
   "id": "708365e0-d8c0-4833-9da3-30d4680ffb3b",
   "metadata": {},
   "source": [
    "\\begin{equation}\n",
    "P(N_{(s,t]}=n) = \\frac{e^{-\\lambda (t-s)} (\\lambda (t-s))^n }{n!}\n",
    "\\end{equation}"
   ]
  },
  {
   "cell_type": "markdown",
   "id": "d4b93bdf-d8b5-454f-9968-d114a990a328",
   "metadata": {},
   "source": [
    "Donde $\\lambda$ es la tasa de arribos."
   ]
  },
  {
   "cell_type": "markdown",
   "id": "869772fb-f40d-410f-a19b-9605b7da67ad",
   "metadata": {},
   "source": [
    "#### Ejemplo"
   ]
  },
  {
   "cell_type": "markdown",
   "id": "fd43971d-6003-42d8-a09b-0b85dad2b6d1",
   "metadata": {},
   "source": [
    "La tasa de arribos a un estacionamiento es de 1 por minuto, calcule la probabilidad de que entre las 15:30 y 16:00 halla 20 arribos."
   ]
  },
  {
   "cell_type": "markdown",
   "id": "1ff15082-3a94-41f2-93f0-a1b7e3f57940",
   "metadata": {},
   "source": [
    "\\begin{equation}\n",
    "P(10) = \\frac{e^{- 1 * 30} (1 * 30)^{20} }{20!}\n",
    "\\end{equation}"
   ]
  },
  {
   "cell_type": "markdown",
   "id": "ebea7f5e-f154-4f8a-aff7-95bcc03d315d",
   "metadata": {},
   "source": [
    "\\begin{equation}\n",
    "P(10) = \\frac{e^{-30} 30^{20} }{20!}\n",
    "\\end{equation}"
   ]
  },
  {
   "cell_type": "markdown",
   "id": "d24feb7f-ca33-441e-9851-72d3c6879b58",
   "metadata": {},
   "source": [
    "$$\n",
    "P(10) = 0.013\n",
    "$$"
   ]
  }
 ],
 "metadata": {
  "kernelspec": {
   "display_name": "Python 3 (ipykernel)",
   "language": "python",
   "name": "python3"
  },
  "language_info": {
   "codemirror_mode": {
    "name": "ipython",
    "version": 3
   },
   "file_extension": ".py",
   "mimetype": "text/x-python",
   "name": "python",
   "nbconvert_exporter": "python",
   "pygments_lexer": "ipython3",
   "version": "3.11.1"
  }
 },
 "nbformat": 4,
 "nbformat_minor": 5
}
