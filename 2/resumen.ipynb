{
 "cells": [
  {
   "cell_type": "markdown",
   "id": "e1eeb1e9-701f-4a1a-bf68-334eb271e35b",
   "metadata": {},
   "source": [
    "# Procesos de Poisson"
   ]
  },
  {
   "cell_type": "code",
   "execution_count": null,
   "id": "2cf23508-9bc7-4755-9057-5913d53c9494",
   "metadata": {},
   "outputs": [],
   "source": []
  }
 ],
 "metadata": {
  "kernelspec": {
   "display_name": "Python 3 (ipykernel)",
   "language": "python",
   "name": "python3"
  },
  "language_info": {
   "codemirror_mode": {
    "name": "ipython",
    "version": 3
   },
   "file_extension": ".py",
   "mimetype": "text/x-python",
   "name": "python",
   "nbconvert_exporter": "python",
   "pygments_lexer": "ipython3",
   "version": "3.11.1"
  }
 },
 "nbformat": 4,
 "nbformat_minor": 5
}
