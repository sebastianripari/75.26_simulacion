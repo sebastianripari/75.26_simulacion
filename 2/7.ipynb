{
 "cells": [
  {
   "cell_type": "markdown",
   "metadata": {},
   "source": [
    "Escribir un codigo que genera una realizacion de un proceso aleatorio de Poisson."
   ]
  },
  {
   "cell_type": "markdown",
   "metadata": {},
   "source": [
    "<br>"
   ]
  },
  {
   "cell_type": "markdown",
   "metadata": {},
   "source": [
    "Sabemos que en un proceso de Poisson el tiempo entre arribos sigue una distribucion exponencial."
   ]
  },
  {
   "cell_type": "code",
   "execution_count": 2,
   "metadata": {},
   "outputs": [],
   "source": [
    "import numpy as np\n",
    "import matplotlib.pyplot as plt"
   ]
  },
  {
   "cell_type": "code",
   "execution_count": 3,
   "metadata": {},
   "outputs": [],
   "source": [
    "# cantidad de arribos\n",
    "n = 10\n",
    "\n",
    "# tasa de arribos\n",
    "lamda = 0.5\n",
    "\n",
    "# arribos\n",
    "t = []\n",
    "\n",
    "arribo = 0\n",
    "\n",
    "for i in range(n):\n",
    "    z = np.random.exponential(1/lamda)\n",
    "    arribo = arribo + z\n",
    "    t.append(arribo)"
   ]
  },
  {
   "cell_type": "code",
   "execution_count": 4,
   "metadata": {},
   "outputs": [
    {
     "data": {
      "text/plain": [
       "[6.4459441140581,\n",
       " 9.080316076705243,\n",
       " 9.932918715671219,\n",
       " 10.389860174548037,\n",
       " 12.530687065369353,\n",
       " 13.366400926255364,\n",
       " 15.517146775259047,\n",
       " 16.534795650771553,\n",
       " 22.24000895375117,\n",
       " 24.02083349261496]"
      ]
     },
     "execution_count": 4,
     "metadata": {},
     "output_type": "execute_result"
    }
   ],
   "source": [
    "t"
   ]
  },
  {
   "cell_type": "code",
   "execution_count": 10,
   "metadata": {},
   "outputs": [
    {
     "data": {
      "image/png": "[encoded data removed]",
      "text/plain": [
       "<Figure size 432x288 with 1 Axes>"
      ]
     },
     "metadata": {
      "needs_background": "light"
     },
     "output_type": "display_data"
    }
   ],
   "source": [
    "plt.step(t, range(n))\n",
    "plt.xlabel('Tiempo')\n",
    "plt.ylabel('Cantidad de Arribos')\n",
    "plt.show()"
   ]
  }
 ],
 "metadata": {
  "kernelspec": {
   "display_name": "Python 3",
   "language": "python",
   "name": "python3"
  },
  "language_info": {
   "codemirror_mode": {
    "name": "ipython",
    "version": 3
   },
   "file_extension": ".py",
   "mimetype": "text/x-python",
   "name": "python",
   "nbconvert_exporter": "python",
   "pygments_lexer": "ipython3",
   "version": "3.7.6"
  }
 },
 "nbformat": 4,
 "nbformat_minor": 4
}
