{
 "cells": [
  {
   "cell_type": "markdown",
   "metadata": {},
   "source": [
    "Estudie el comportamiento asintotico teorico del siguiente modelo lineal de tres variables dado por las ecuaciones de diferencia:"
   ]
  },
  {
   "cell_type": "markdown",
   "metadata": {},
   "source": [
    "\\begin{equation}\n",
    "x_t = x_{t-1} - y_{t-1}\n",
    "\\end{equation}"
   ]
  },
  {
   "cell_type": "markdown",
   "metadata": {},
   "source": [
    "\\begin{equation}\n",
    "y_t = -x_{t-1} - 3 y_{t-1} + z_{t-1}\n",
    "\\end{equation}"
   ]
  },
  {
   "cell_type": "markdown",
   "metadata": {},
   "source": [
    "\\begin{equation}\n",
    "z_t = y_{t-1} + z_{t-1}\n",
    "\\end{equation}"
   ]
  },
  {
   "cell_type": "markdown",
   "metadata": {},
   "source": [
    "<hr>"
   ]
  },
  {
   "cell_type": "markdown",
   "metadata": {},
   "source": [
    "Pasamos el sistema de ecuaciones a una matriz"
   ]
  },
  {
   "cell_type": "markdown",
   "metadata": {},
   "source": [
    "$$A = \\begin{bmatrix}\n",
    "1  & -1 & 0\\\\\n",
    "-1 & -3 & 1\\\\\n",
    "0  &  1 & 1\n",
    "\\end{bmatrix}$$"
   ]
  },
  {
   "cell_type": "markdown",
   "metadata": {},
   "source": [
    "Para estudiar el comportamiento de este sistema, lo haremos mediante los autovalores."
   ]
  },
  {
   "cell_type": "markdown",
   "metadata": {},
   "source": [
    "\\begin{equation}\n",
    "det(A - \\lambda I)  = 0\n",
    "\\end{equation}"
   ]
  },
  {
   "cell_type": "markdown",
   "metadata": {},
   "source": [
    "$$A = \\begin{bmatrix}\n",
    "1  & -1 & 0\\\\\n",
    "-1 & -3 & 1\\\\\n",
    "0  &  1 & 1\n",
    "\\end{bmatrix}$$\n",
    "\n",
    "$$I = \\begin{bmatrix}\n",
    "1  & 0 & 0\\\\\n",
    "0  & 1 & 0\\\\\n",
    "0  & 0 & 1\n",
    "\\end{bmatrix}$$\n",
    "\n",
    "$$ det(A - \\lambda I) = \\begin{bmatrix}\n",
    "1 - \\lambda  & -1 & 0\\\\\n",
    "-1  & -3 - \\lambda & 1\\\\\n",
    "0   &  1 & 1 - \\lambda\n",
    "\\end{bmatrix}$$"
   ]
  },
  {
   "cell_type": "markdown",
   "metadata": {},
   "source": [
    "$$\n",
    "det(A - \\lambda I) =\n",
    "0 * (+1) * \\begin{bmatrix}\n",
    "-1           & 0\\\\\n",
    "-3 - \\lambda & 1\\\\\n",
    "\\end{bmatrix}\n",
    "+\n",
    "1 * (-1) * \\begin{bmatrix}\n",
    "1 - \\lambda & 0\\\\\n",
    "-3          & 1\\\\\n",
    "\\end{bmatrix}\n",
    "+\n",
    "(1 - \\lambda) * (+1) * \\begin{bmatrix}\n",
    "1 - \\lambda & -1          \\\\\n",
    "-1          & -3 - \\lambda\\\\\n",
    "\\end{bmatrix}\n",
    "$$"
   ]
  },
  {
   "cell_type": "markdown",
   "metadata": {},
   "source": [
    "$$det(A - \\lambda I) = [0] - [(1 - \\lambda)] + (1 - \\lambda) [(1 - \\lambda) * (-3 - \\lambda) - 1] $$"
   ]
  },
  {
   "cell_type": "markdown",
   "metadata": {},
   "source": [
    "$$det(A - \\lambda I) = -(1 - \\lambda) + (1 - \\lambda) [(1 - \\lambda) * (-3 - \\lambda) - 1] $$"
   ]
  },
  {
   "cell_type": "markdown",
   "metadata": {},
   "source": [
    "$$det(A - \\lambda I) = (1 - \\lambda) * (-1 + [(1 - \\lambda) * (-3 - \\lambda) - 1]) = 0 $$"
   ]
  },
  {
   "cell_type": "markdown",
   "metadata": {},
   "source": [
    "Por lo tanto una solucion es 1"
   ]
  },
  {
   "cell_type": "markdown",
   "metadata": {},
   "source": [
    "Buscamos las otras:"
   ]
  },
  {
   "cell_type": "markdown",
   "metadata": {},
   "source": [
    "$$ -1 + (1 - \\lambda) * (-3 - \\lambda) - 1 = 0 $$"
   ]
  },
  {
   "cell_type": "markdown",
   "metadata": {},
   "source": [
    "$$ -1 - 1 + (1 - \\lambda) * (-3 - \\lambda) = 0 $$"
   ]
  },
  {
   "cell_type": "markdown",
   "metadata": {},
   "source": [
    "$$ -2 + (1 - \\lambda) * (-3 - \\lambda) = 0 $$"
   ]
  },
  {
   "cell_type": "markdown",
   "metadata": {},
   "source": [
    "$$ -2 -3 -\\lambda + 3 \\lambda + \\lambda ^2 = 0 $$"
   ]
  },
  {
   "cell_type": "markdown",
   "metadata": {},
   "source": [
    "$$ -5 + 2 \\lambda + \\lambda ^2 = 0 $$"
   ]
  },
  {
   "cell_type": "markdown",
   "metadata": {},
   "source": [
    "Estas son 1.449 y - 3.449"
   ]
  }
 ],
 "metadata": {
  "kernelspec": {
   "display_name": "Python 3",
   "language": "python",
   "name": "python3"
  },
  "language_info": {
   "codemirror_mode": {
    "name": "ipython",
    "version": 3
   },
   "file_extension": ".py",
   "mimetype": "text/x-python",
   "name": "python",
   "nbconvert_exporter": "python",
   "pygments_lexer": "ipython3",
   "version": "3.7.6"
  }
 },
 "nbformat": 4,
 "nbformat_minor": 4
}
