{
 "cells": [
  {
   "cell_type": "code",
   "execution_count": 21,
   "metadata": {},
   "outputs": [],
   "source": [
    "import matplotlib.pyplot as plt\n",
    "import simpy\n",
    "import random\n",
    "import math"
   ]
  },
  {
   "cell_type": "code",
   "execution_count": 22,
   "metadata": {},
   "outputs": [],
   "source": [
    "class Constants:\n",
    "    max_time = 24.0  # hours\n",
    "    arrival_rate = 100  # per hour\n",
    "    parking_time = 2.0  # hours\n",
    "    a_seed = 1234"
   ]
  },
  {
   "cell_type": "code",
   "execution_count": 23,
   "metadata": {},
   "outputs": [],
   "source": [
    "class Car(object):\n",
    "    \"\"\"\n",
    "        Cars arrives, parks for a while, and leaves\n",
    "        Maintain a count of the number of parked cars as cars arrive and leave\n",
    "    \"\"\"\n",
    "\n",
    "    parked_cars = 0\n",
    "    data = []\n",
    "\n",
    "    def __init__(self, env):\n",
    "        self.env = env\n",
    "\n",
    "    def visit(self, time_parking):\n",
    "        Car.parked_cars += 1\n",
    "        Car.data.append((self.env.now, Car.parked_cars))\n",
    "\n",
    "        yield self.env.timeout(time_parking)\n",
    "\n",
    "        Car.parked_cars -= 1\n",
    "        Car.data.append((self.env.now, Car.parked_cars))"
   ]
  },
  {
   "cell_type": "code",
   "execution_count": 24,
   "metadata": {},
   "outputs": [],
   "source": [
    "class Arrival(object):\n",
    "\n",
    "    \"\"\"\n",
    "        Source generates cars at random\n",
    "        Arrivals are at a time-dependent rate\n",
    "    \"\"\"\n",
    "\n",
    "    def __init__(self, env):\n",
    "        self.env = env\n",
    "\n",
    "    def generate(self):\n",
    "        i = 0\n",
    "        while self.env.now < Constants.max_time:\n",
    "            t_now = self.env.now\n",
    "            arrival_rate = 100 + 10 * math.sin(math.pi * t_now/12.0)\n",
    "            t = random.expovariate(arrival_rate)\n",
    "            yield self.env.timeout(t)\n",
    "\n",
    "            time_parking = random.expovariate(1.0/Constants.parking_time)\n",
    "            car = Car(self.env)\n",
    "            self.env.process(car.visit(time_parking))\n",
    "            i += 1\n",
    "\n",
    "\n",
    "class Parking(object):\n",
    "\n",
    "    def __init__(self, env):\n",
    "        self.env = env\n",
    "\n",
    "    def run(self, aseed):\n",
    "        random.seed(aseed)\n",
    "        s = Arrival(self.env)\n",
    "        yield self.env.process(s.generate())"
   ]
  },
  {
   "cell_type": "code",
   "execution_count": 25,
   "metadata": {},
   "outputs": [
    {
     "data": {
      "image/png": "[encoded data removed]",
      "text/plain": [
       "<Figure size 396x288 with 1 Axes>"
      ]
     },
     "metadata": {
      "needs_background": "light"
     },
     "output_type": "display_data"
    }
   ],
   "source": [
    "env = simpy.Environment()\n",
    "\n",
    "parking = Parking(env)\n",
    "env.process(parking.run(Constants.a_seed))\n",
    "env.run(until=Constants.max_time)\n",
    "\n",
    "\n",
    "plt.figure(figsize=(5.5, 4))\n",
    "plt.plot(*zip(*Car.data))\n",
    "plt.xlabel('Time')\n",
    "plt.ylabel('Number of cars')\n",
    "plt.xlim(0, 24)\n",
    "plt.show()"
   ]
  }
 ],
 "metadata": {
  "kernelspec": {
   "display_name": "Python 3",
   "language": "python",
   "name": "python3"
  },
  "language_info": {
   "codemirror_mode": {
    "name": "ipython",
    "version": 3
   },
   "file_extension": ".py",
   "mimetype": "text/x-python",
   "name": "python",
   "nbconvert_exporter": "python",
   "pygments_lexer": "ipython3",
   "version": "3.7.6"
  }
 },
 "nbformat": 4,
 "nbformat_minor": 4
}
