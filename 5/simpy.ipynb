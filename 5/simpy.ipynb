{
 "cells": [
  {
   "cell_type": "markdown",
   "metadata": {},
   "source": [
    "#### Libs"
   ]
  },
  {
   "cell_type": "code",
   "execution_count": 51,
   "metadata": {},
   "outputs": [],
   "source": [
    "import simpy"
   ]
  },
  {
   "cell_type": "markdown",
   "metadata": {},
   "source": [
    "### Clock example"
   ]
  },
  {
   "cell_type": "code",
   "execution_count": 52,
   "metadata": {},
   "outputs": [],
   "source": [
    "def clock(env, name, tick):\n",
    "     while True:\n",
    "        print(name, env.now)\n",
    "        yield env.timeout(tick)"
   ]
  },
  {
   "cell_type": "markdown",
   "metadata": {},
   "source": [
    "#### Environment"
   ]
  },
  {
   "cell_type": "code",
   "execution_count": 53,
   "metadata": {},
   "outputs": [],
   "source": [
    "env = simpy.Environment()"
   ]
  },
  {
   "cell_type": "markdown",
   "metadata": {},
   "source": [
    "#### Process"
   ]
  },
  {
   "cell_type": "markdown",
   "metadata": {},
   "source": [
    "Los dos procesos corren en paralelo"
   ]
  },
  {
   "cell_type": "code",
   "execution_count": 54,
   "metadata": {},
   "outputs": [
    {
     "data": {
      "text/plain": [
       "<Process(clock) object at 0x7f9a201cd590>"
      ]
     },
     "execution_count": 54,
     "metadata": {},
     "output_type": "execute_result"
    }
   ],
   "source": [
    "env.process(clock(env, 'process: 0 | simula que paso', 0.1)) # clock se ejectua cada 0.1\n",
    "env.process(clock(env, 'process: 1 | sumula que paso', 0.5)) # clock se ejecuta cada 0.5"
   ]
  },
  {
   "cell_type": "markdown",
   "metadata": {},
   "source": [
    "Los procesos corren hasta que lleguen a 2"
   ]
  },
  {
   "cell_type": "code",
   "execution_count": 55,
   "metadata": {},
   "outputs": [
    {
     "name": "stdout",
     "output_type": "stream",
     "text": [
      "process: 0 | simula que paso 0\n",
      "process: 1 | sumula que paso 0\n",
      "process: 0 | simula que paso 0.1\n",
      "process: 0 | simula que paso 0.2\n",
      "process: 0 | simula que paso 0.30000000000000004\n",
      "process: 0 | simula que paso 0.4\n",
      "process: 1 | sumula que paso 0.5\n",
      "process: 0 | simula que paso 0.5\n",
      "process: 0 | simula que paso 0.6\n",
      "process: 0 | simula que paso 0.7\n",
      "process: 0 | simula que paso 0.7999999999999999\n",
      "process: 0 | simula que paso 0.8999999999999999\n",
      "process: 0 | simula que paso 0.9999999999999999\n",
      "process: 1 | sumula que paso 1.0\n",
      "process: 0 | simula que paso 1.0999999999999999\n",
      "process: 0 | simula que paso 1.2\n",
      "process: 0 | simula que paso 1.3\n",
      "process: 0 | simula que paso 1.4000000000000001\n",
      "process: 1 | sumula que paso 1.5\n",
      "process: 0 | simula que paso 1.5000000000000002\n",
      "process: 0 | simula que paso 1.6000000000000003\n",
      "process: 0 | simula que paso 1.7000000000000004\n",
      "process: 0 | simula que paso 1.8000000000000005\n",
      "process: 0 | simula que paso 1.9000000000000006\n"
     ]
    }
   ],
   "source": [
    "env.run(until=2)"
   ]
  }
 ],
 "metadata": {
  "kernelspec": {
   "display_name": "Python 3",
   "language": "python",
   "name": "python3"
  },
  "language_info": {
   "codemirror_mode": {
    "name": "ipython",
    "version": 3
   },
   "file_extension": ".py",
   "mimetype": "text/x-python",
   "name": "python",
   "nbconvert_exporter": "python",
   "pygments_lexer": "ipython3",
   "version": "3.7.6"
  }
 },
 "nbformat": 4,
 "nbformat_minor": 4
}
