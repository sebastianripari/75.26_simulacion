{
 "cells": [
  {
   "cell_type": "markdown",
   "metadata": {},
   "source": [
    "Suponga que los clientes llegan a un comercio como un proceso de Poisson con tasa $\\lambda=12$ clientes por hora. El comercio tiene dos empleados. Suponga que el tiempo que le toma a cada empleado atender a un cliente tiene distribucion exponencial con media igual a 5 minutos por cliente.<br>\n",
    "<br>\n",
    "Cual es la probabilidad de que un cliente tenga que esperar en la cola para ser atendido?<br>\n",
    "<br>\n",
    "Encuentre le numero promedio de clientes en el sistema y el tiempo promedio en el sistema.<br>\n",
    "<br>\n",
    "Encuentre la probabilidad de que haya mas de 4 clientes en el sistema."
   ]
  },
  {
   "cell_type": "markdown",
   "metadata": {},
   "source": [
    "<hr>"
   ]
  },
  {
   "cell_type": "markdown",
   "metadata": {},
   "source": [
    "Vemos que el comercio tiene dos empleados, estas son las cajas de atencion, como hay 2. Es un <b>M/M/2</b>"
   ]
  },
  {
   "cell_type": "markdown",
   "metadata": {},
   "source": [
    "#### Probabilidad de que un cliente tenga que esperar"
   ]
  },
  {
   "cell_type": "markdown",
   "metadata": {},
   "source": [
    "Para que ocurra esto cuando llega un cliente, deben estar los dos empleados ocupados. Esto pasa cuando <b>N</b> que es la cantidad de clientes en el sistema es mayor o igual a 2."
   ]
  },
  {
   "cell_type": "markdown",
   "metadata": {},
   "source": [
    "$$\n",
    "P(N \\geq 2)\n",
    "$$"
   ]
  },
  {
   "cell_type": "markdown",
   "metadata": {},
   "source": [
    "Esta se calcula de la siguiente manera:"
   ]
  },
  {
   "cell_type": "markdown",
   "metadata": {},
   "source": [
    "$$\n",
    "P(N \\geq 2) = C(c = 2, a = 1)\n",
    "$$"
   ]
  },
  {
   "cell_type": "markdown",
   "metadata": {},
   "source": [
    "Donde <b>C</b> es la funcion de <b>Erlang</b>, <b>c</b> es la cantidad de canales de atencion, y <b>a</b> es:"
   ]
  },
  {
   "cell_type": "markdown",
   "metadata": {},
   "source": [
    "$$\n",
    "a = \\frac{\\lambda}{\\mu}\n",
    "$$"
   ]
  },
  {
   "cell_type": "markdown",
   "metadata": {},
   "source": [
    "$$\n",
    "\\lambda = \\frac{12}{60} = 0.2\n",
    "$$"
   ]
  },
  {
   "cell_type": "markdown",
   "metadata": {},
   "source": [
    "$$\n",
    "\\mu = \\frac{1}{5} = 0.2\n",
    "$$"
   ]
  },
  {
   "cell_type": "markdown",
   "metadata": {},
   "source": [
    "$$\n",
    "\\rho = \\frac{0.2}{0.2} = 1\n",
    "$$"
   ]
  },
  {
   "cell_type": "markdown",
   "metadata": {},
   "source": [
    "$$\n",
    "P(N \\geq 2) = C(c = 2, a = 1) = \\frac{P_2}{1 - \\rho}\n",
    "$$"
   ]
  },
  {
   "cell_type": "markdown",
   "metadata": {},
   "source": [
    "$P_2$ es la probabilidad de que halla exactamente dos clientes en el sistema."
   ]
  },
  {
   "cell_type": "markdown",
   "metadata": {},
   "source": [
    "$\\rho$ es el factor de trafico, se calcula:"
   ]
  },
  {
   "cell_type": "markdown",
   "metadata": {},
   "source": [
    "$$\n",
    "\\rho = \\frac{\\lambda}{2\\mu} = \\frac{0.2}{2 * 0.2} = \\frac{1}{2}\n",
    "$$"
   ]
  },
  {
   "cell_type": "markdown",
   "metadata": {},
   "source": [
    "Como $\\rho$ es distinto de 1:"
   ]
  },
  {
   "cell_type": "markdown",
   "metadata": {},
   "source": [
    "TODO:\n",
    "- Entender que es $\\rho_0$"
   ]
  },
  {
   "cell_type": "markdown",
   "metadata": {},
   "source": [
    "$$\n",
    "P_2 = \\frac{\\rho_0 a^2}{2!} P_0 = \\frac{P_0}{2}\n",
    "$$"
   ]
  },
  {
   "cell_type": "markdown",
   "metadata": {},
   "source": [
    "Reemplazamos $P_2$:"
   ]
  },
  {
   "cell_type": "markdown",
   "metadata": {},
   "source": [
    "$$\n",
    "P(N \\geq 2) = \\frac{P_0}{2(1 - \\rho)}\n",
    "$$"
   ]
  },
  {
   "cell_type": "markdown",
   "metadata": {},
   "source": [
    "\\begin{equation}\n",
    "P_0 = \\frac{1}{\\sum_{j = 0}^{c - 1}{\\frac{a^j}{j!} + \\frac{a^c}{c!} \\frac{1}{1 - \\rho}}}\n",
    "\\end{equation}"
   ]
  },
  {
   "cell_type": "markdown",
   "metadata": {},
   "source": [
    "\\begin{equation}\n",
    "P_0 = \\frac{1}{\\sum_{j = 0}^{2 - 1}{\\frac{1^j}{j!} + \\frac{1^2}{2!} \\frac{1}{1 - \\frac{1}{2}}}}\n",
    "\\end{equation}"
   ]
  },
  {
   "cell_type": "markdown",
   "metadata": {},
   "source": [
    "\\begin{equation}\n",
    "P_0 = \\frac{1}{ (\\frac{1^0}{0!} + \\frac{1^2}{2!} \\frac{1}{1 - \\frac{1}{2}}) + (\\frac{1^1}{1!} + \\frac{1^2}{2!} \\frac{1}{1 - \\frac{1}{2}}) }\n",
    "\\end{equation}"
   ]
  },
  {
   "cell_type": "markdown",
   "metadata": {},
   "source": [
    "\\begin{equation}\n",
    "P_0 = \\frac{1}{ (1 + 1) + (1 + 1) } = \\frac{1}{4}\n",
    "\\end{equation}"
   ]
  },
  {
   "cell_type": "markdown",
   "metadata": {},
   "source": [
    "$$\n",
    "P(N \\geq 2) = \\frac{1}{4}\n",
    "$$"
   ]
  },
  {
   "cell_type": "markdown",
   "metadata": {},
   "source": [
    "#### Encuentre le numero promedio de clientes en el sistema y el tiempo promedio en el sistema."
   ]
  },
  {
   "cell_type": "markdown",
   "metadata": {},
   "source": [
    "Formula para colas multiserver:"
   ]
  },
  {
   "cell_type": "markdown",
   "metadata": {},
   "source": [
    "$$\n",
    "E[N] = \\frac{\\rho}{1 - \\rho} C(c,a) + a\n",
    "$$"
   ]
  },
  {
   "cell_type": "markdown",
   "metadata": {},
   "source": [
    "$$\n",
    "E[N] = \\frac{\\frac{1}{2}}{1 - \\frac{1}{2}} C(2,1) + 1\n",
    "$$"
   ]
  },
  {
   "cell_type": "markdown",
   "metadata": {},
   "source": [
    "$$\n",
    "E[N] = C(2,1) + 1 = \\frac{1}{4} + 1 = \\frac{5}{4}\n",
    "$$"
   ]
  },
  {
   "cell_type": "markdown",
   "metadata": {},
   "source": [
    "Ahora usando la formula de Little podemos encontrar el tiempo promedio:"
   ]
  },
  {
   "cell_type": "markdown",
   "metadata": {},
   "source": [
    "$$\n",
    "E[N] = \\lambda E[T]\n",
    "$$"
   ]
  },
  {
   "cell_type": "markdown",
   "metadata": {},
   "source": [
    "$$\n",
    "E[T] = \\frac{E[N]}{\\lambda} = \\frac{\\frac{5}{4}}{\\frac{1}{5}} = \\frac{25}{4} = 6.25\n",
    "$$"
   ]
  },
  {
   "cell_type": "markdown",
   "metadata": {},
   "source": [
    "#### Encuentre la probabilidad de que haya mas de 4 clientes en el sistema"
   ]
  },
  {
   "cell_type": "markdown",
   "metadata": {},
   "source": [
    "$$\n",
    "P(N \\geq 4) = 1 - P(N \\leq 4)\n",
    "$$"
   ]
  },
  {
   "cell_type": "markdown",
   "metadata": {},
   "source": [
    "$$\n",
    "P(N \\leq 4) = P(N = 0) + P(N = 1) + P(N = 2) + P(N = 3) + P(N = 4)\n",
    "$$"
   ]
  },
  {
   "cell_type": "markdown",
   "metadata": {},
   "source": [
    "$$\n",
    "P(N = j) = p_j\n",
    "$$"
   ]
  },
  {
   "cell_type": "markdown",
   "metadata": {},
   "source": [
    "Si $i \\leq c$ usamos la siguiente formula:"
   ]
  },
  {
   "cell_type": "markdown",
   "metadata": {},
   "source": [
    "$$\n",
    "p_i = \\frac{a^j}{j!} p_0\n",
    "$$"
   ]
  },
  {
   "cell_type": "markdown",
   "metadata": {},
   "source": [
    "Si $i \\geq c$ usamos la siguiente formula:"
   ]
  },
  {
   "cell_type": "markdown",
   "metadata": {},
   "source": [
    "$$\n",
    "p_j = \\rho^{j-c} p_c = \\frac{\\rho^{j-c}a^c}{c!}p_0\n",
    "$$"
   ]
  },
  {
   "cell_type": "markdown",
   "metadata": {},
   "source": [
    "Entonces:"
   ]
  },
  {
   "cell_type": "markdown",
   "metadata": {},
   "source": [
    "$$\n",
    "P(N = 0) = \\frac{1^1}{0!} p_0\n",
    "$$"
   ]
  },
  {
   "cell_type": "markdown",
   "metadata": {},
   "source": [
    "$p_0$ ya la tenemos calculada, vale $\\frac{1}{4}$"
   ]
  },
  {
   "cell_type": "markdown",
   "metadata": {},
   "source": [
    "$$\n",
    "P(N = 0) = \\frac{1}{4}\n",
    "$$"
   ]
  },
  {
   "cell_type": "markdown",
   "metadata": {},
   "source": [
    "$$\n",
    "P(N = 1) = \\frac{1^1}{1!} p_0 = \\frac{1}{4}\n",
    "$$"
   ]
  },
  {
   "cell_type": "markdown",
   "metadata": {},
   "source": [
    "$$\n",
    "P(N = 2) = \\frac{\\rho^{2-2}1^2}{2!} p_0 = \\frac{\\rho^0}{2} p_0 = \\frac{1}{8}\n",
    "$$"
   ]
  },
  {
   "cell_type": "markdown",
   "metadata": {},
   "source": [
    "$$\n",
    "P(N = 2) = \\frac{\\rho^{3-2}1^2}{2!} p_0 = \\frac{\\rho^1}{2} p_0 = \\frac{\\rho p_0}{2} = \\frac{\\frac{1}{2} \\frac{1}{4}}{2}\n",
    "$$"
   ]
  },
  {
   "cell_type": "code",
   "execution_count": null,
   "metadata": {},
   "outputs": [],
   "source": []
  }
 ],
 "metadata": {
  "kernelspec": {
   "display_name": "Python 3",
   "language": "python",
   "name": "python3"
  },
  "language_info": {
   "codemirror_mode": {
    "name": "ipython",
    "version": 3
   },
   "file_extension": ".py",
   "mimetype": "text/x-python",
   "name": "python",
   "nbconvert_exporter": "python",
   "pygments_lexer": "ipython3",
   "version": "3.7.6"
  }
 },
 "nbformat": 4,
 "nbformat_minor": 4
}
