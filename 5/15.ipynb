{
 "cells": [
  {
   "cell_type": "markdown",
   "metadata": {},
   "source": [
    "Suponga que los clientes llegan a un comercio como un proceso de Poisson con tasa $\\lambda=12$ clientes por hora. El comercio tiene dos empleados. Suponga que el tiempo que le toma a cada empleado atender a un cliente tiene distribucion exponencial con media igual a 5 minutos por cliente.<br>\n",
    "<br>\n",
    "Cual es la probabilidad de que un cliente tenga que esperar en la cola para ser atendido?<br>\n",
    "<br>\n",
    "Encuentre le numero promedio de clientes en el sistema y el tiempo promedio en el sistema.<br>\n",
    "<br>\n",
    "Encuentre la probabilidad de que haya mas de 4 clientes en el sistema."
   ]
  },
  {
   "cell_type": "markdown",
   "metadata": {},
   "source": [
    "<hr>"
   ]
  },
  {
   "cell_type": "markdown",
   "metadata": {},
   "source": [
    "Vemos que el comercio tiene dos empleados, estas son las cajas de atencion, como hay 2. Es un <b>M/M/2</b>"
   ]
  },
  {
   "cell_type": "markdown",
   "metadata": {},
   "source": [
    "#### Probabilidad de que un cliente tenga que esperar"
   ]
  },
  {
   "cell_type": "markdown",
   "metadata": {},
   "source": [
    "Para que ocurra esto cuando llega un cliente, deben estar los dos empleados ocupados. Esto pasa cuando <b>N</b> que es la cantidad de clientes en el sistema es mayor o igual a 2."
   ]
  },
  {
   "cell_type": "markdown",
   "metadata": {},
   "source": [
    "$$\n",
    "P(N \\geq 2)\n",
    "$$"
   ]
  },
  {
   "cell_type": "markdown",
   "metadata": {},
   "source": [
    "Esta se calcula de la siguiente manera:"
   ]
  },
  {
   "cell_type": "markdown",
   "metadata": {},
   "source": [
    "$$\n",
    "P(N \\geq 2) = C(c = 2, a = 1)\n",
    "$$"
   ]
  },
  {
   "cell_type": "markdown",
   "metadata": {},
   "source": [
    "Donde <b>C</b> es la funcion de <b>Erlang</b>, <b>c</b> es la cantidad de canales de atencion, y <b>a</b> es el factor de trafico $\\rho$."
   ]
  },
  {
   "cell_type": "markdown",
   "metadata": {},
   "source": [
    "$$\n",
    "\\rho = \\frac{\\lambda}{\\mu}\n",
    "$$"
   ]
  },
  {
   "cell_type": "markdown",
   "metadata": {},
   "source": [
    "$$\n",
    "\\lambda = \\frac{12}{60} = 0.2\n",
    "$$"
   ]
  },
  {
   "cell_type": "markdown",
   "metadata": {},
   "source": [
    "$$\n",
    "\\mu = \\frac{1}{5} = 0.2\n",
    "$$"
   ]
  },
  {
   "cell_type": "markdown",
   "metadata": {},
   "source": [
    "$$\n",
    "\\rho = \\frac{0.2}{0.2} = 1\n",
    "$$"
   ]
  },
  {
   "cell_type": "markdown",
   "metadata": {},
   "source": []
  }
 ],
 "metadata": {
  "kernelspec": {
   "display_name": "Python 3",
   "language": "python",
   "name": "python3"
  },
  "language_info": {
   "codemirror_mode": {
    "name": "ipython",
    "version": 3
   },
   "file_extension": ".py",
   "mimetype": "text/x-python",
   "name": "python",
   "nbconvert_exporter": "python",
   "pygments_lexer": "ipython3",
   "version": "3.7.6"
  }
 },
 "nbformat": 4,
 "nbformat_minor": 4
}
