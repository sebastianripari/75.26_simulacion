{
 "cells": [
  {
   "cell_type": "markdown",
   "metadata": {},
   "source": [
    "Un router recibe paquetes y los transmite sobre una unica linea de transmision. Suponga que los paquetes llegan siguiendo un proceso de Poisson con tasa de 1 paquete cada 4ms, y demora en ser transmitido un tiempo que sigue una distribucion exponencial de media 3ms."
   ]
  },
  {
   "cell_type": "markdown",
   "metadata": {},
   "source": [
    "Encuentre la cantidad media de paquetes en el sistema y el tiempo medio que los paquetes estan en el sistema."
   ]
  },
  {
   "cell_type": "markdown",
   "metadata": {},
   "source": [
    "Que porcentaje de incremento en la tasa de arribos genera que se duplique la media del tiempo total en el sistema."
   ]
  },
  {
   "cell_type": "markdown",
   "metadata": {},
   "source": [
    "<hr>"
   ]
  },
  {
   "cell_type": "markdown",
   "metadata": {},
   "source": [
    "\n",
    "- Tasa de arribos es <b>Poisson</b> => M\n",
    "- Los tiempos entre arribos siguen una distribucion exponencial, entonces el proceso el <b>Poisson</b> => M\n",
    "- Hay una <b>unica</b> linea de tranmision => 1"
   ]
  },
  {
   "cell_type": "markdown",
   "metadata": {},
   "source": [
    "Por lo tanto es un <b>M/M/1</b>"
   ]
  },
  {
   "cell_type": "markdown",
   "metadata": {},
   "source": [
    "Empecemos con el tiempo medio:"
   ]
  },
  {
   "cell_type": "markdown",
   "metadata": {},
   "source": [
    "$$\n",
    "E[T] = \\frac{1}{\\mu - \\lambda}\n",
    "$$"
   ]
  },
  {
   "cell_type": "code",
   "execution_count": 2,
   "metadata": {},
   "outputs": [],
   "source": [
    "# lambda\n",
    "# 1 ___ 4 ms\n",
    "# x ___ 1 ms\n",
    "#\n",
    "# x = 1 * 1 / 4 = 1 / 4"
   ]
  },
  {
   "cell_type": "markdown",
   "metadata": {},
   "source": [
    "$$\n",
    "\\lambda = \\frac{1}{4}\n",
    "$$"
   ]
  },
  {
   "cell_type": "markdown",
   "metadata": {},
   "source": [
    "Los tiempos entre arribos siguen una distribucion exponencial de media 3ms."
   ]
  },
  {
   "cell_type": "code",
   "execution_count": 3,
   "metadata": {},
   "outputs": [],
   "source": [
    "# mu\n",
    "# 1 ___ 3 ms\n",
    "# x ___ 1 ms\n",
    "#\n",
    "# x = 1 * 1 / 3 = 1/3"
   ]
  },
  {
   "cell_type": "markdown",
   "metadata": {},
   "source": [
    "$$\n",
    "\\mu = \\frac{1}{3}\n",
    "$$"
   ]
  },
  {
   "cell_type": "markdown",
   "metadata": {},
   "source": [
    "Finalmente:"
   ]
  },
  {
   "cell_type": "markdown",
   "metadata": {},
   "source": [
    "$$\n",
    "E[T] = \\frac{1}{ \\frac{1}{3} - \\frac{1}{4} } = 12\n",
    "$$"
   ]
  },
  {
   "cell_type": "markdown",
   "metadata": {},
   "source": []
  }
 ],
 "metadata": {
  "kernelspec": {
   "display_name": "Python 3",
   "language": "python",
   "name": "python3"
  },
  "language_info": {
   "codemirror_mode": {
    "name": "ipython",
    "version": 3
   },
   "file_extension": ".py",
   "mimetype": "text/x-python",
   "name": "python",
   "nbconvert_exporter": "python",
   "pygments_lexer": "ipython3",
   "version": "3.7.6"
  }
 },
 "nbformat": 4,
 "nbformat_minor": 4
}
