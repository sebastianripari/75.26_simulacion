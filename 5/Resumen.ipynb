{
 "cells": [
  {
   "cell_type": "markdown",
   "metadata": {},
   "source": [
    "# Teoria de Colas"
   ]
  },
  {
   "cell_type": "markdown",
   "metadata": {},
   "source": [
    "En los sistemas de colas, se usan dos tasas:"
   ]
  },
  {
   "cell_type": "markdown",
   "metadata": {},
   "source": [
    "La <b>tasa de arribos</b> que viene a ser la velocidad con la que ingresan clientes a un sistema, a esta se la indica con la letra $\\lambda$."
   ]
  },
  {
   "cell_type": "markdown",
   "metadata": {},
   "source": [
    "La <b>tasa de servicio</b> que viene a ser la velocidad con la se atienden a los clientes, a esta se la indica con la letra $\\mu$."
   ]
  },
  {
   "cell_type": "markdown",
   "metadata": {},
   "source": [
    "## Sistemas M/M/1"
   ]
  },
  {
   "cell_type": "markdown",
   "metadata": {},
   "source": [
    "Son sistemas con un unico canal de atencion, y con capacidad infinita, es decir su queue no tiene limite."
   ]
  },
  {
   "cell_type": "markdown",
   "metadata": {},
   "source": [
    "#### Formula de Little"
   ]
  },
  {
   "cell_type": "markdown",
   "metadata": {},
   "source": [
    "Permite relacionar el <b>tiempo</b> de los clientes en un sistema (promedio) con la <b>cantidad</b> en ellos (promedio)."
   ]
  },
  {
   "cell_type": "markdown",
   "metadata": {},
   "source": [
    "$$\n",
    "E[T] = \\lambda E[N]\n",
    "$$"
   ]
  },
  {
   "cell_type": "markdown",
   "metadata": {},
   "source": [
    "Este <b>tiempo</b> es la suma del tiempo que esperan mas el tiempo de atencion."
   ]
  }
 ],
 "metadata": {
  "kernelspec": {
   "display_name": "Python 3",
   "language": "python",
   "name": "python3"
  },
  "language_info": {
   "codemirror_mode": {
    "name": "ipython",
    "version": 3
   },
   "file_extension": ".py",
   "mimetype": "text/x-python",
   "name": "python",
   "nbconvert_exporter": "python",
   "pygments_lexer": "ipython3",
   "version": "3.7.6"
  }
 },
 "nbformat": 4,
 "nbformat_minor": 4
}
