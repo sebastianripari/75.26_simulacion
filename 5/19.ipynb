{
 "cells": [
  {
   "cell_type": "markdown",
   "metadata": {},
   "source": [
    "Considere un sistema <b>M/M/5/5</b> en el cual la tasa de arribos es de 10 clientes por minuto y el tiempo de servicio promedio es de medio minuto."
   ]
  },
  {
   "cell_type": "markdown",
   "metadata": {},
   "source": [
    "a) Encuentre la probabilidad de un cliente sea rechazado."
   ]
  },
  {
   "cell_type": "markdown",
   "metadata": {},
   "source": [
    "Ayuda: puede usar la siguiente formula para el numero de Erlang B:"
   ]
  },
  {
   "cell_type": "markdown",
   "metadata": {},
   "source": [
    "$$\n",
    "B(c,a) = \\frac{a B(c-1, a)}{c + aB(c-1, a)}\n",
    "$$"
   ]
  },
  {
   "cell_type": "markdown",
   "metadata": {},
   "source": [
    "Donde $a=\\lambda E[\\tau]$ "
   ]
  },
  {
   "cell_type": "markdown",
   "metadata": {},
   "source": [
    "b) Cuantos servidores adicionales se requieren para reducir la probabilidad de rechazo al 10%?"
   ]
  },
  {
   "cell_type": "markdown",
   "metadata": {},
   "source": [
    "<hr>"
   ]
  },
  {
   "cell_type": "markdown",
   "metadata": {},
   "source": [
    "Entonces tenemos, la tasa de arribos y la tasa de servicio:"
   ]
  },
  {
   "cell_type": "markdown",
   "metadata": {},
   "source": [
    "$$\n",
    "\\lambda = 10\n",
    "$$"
   ]
  },
  {
   "cell_type": "markdown",
   "metadata": {},
   "source": [
    "$$\n",
    "\\mu = \\frac{1}{\\frac{1}{2}} = 2\n",
    "$$"
   ]
  },
  {
   "cell_type": "markdown",
   "metadata": {},
   "source": [
    "#### Encuentre la probabilidad de un cliente sea rechazado."
   ]
  },
  {
   "cell_type": "markdown",
   "metadata": {},
   "source": [
    "Esto es:"
   ]
  },
  {
   "cell_type": "markdown",
   "metadata": {},
   "source": [
    "$$\n",
    "P(N = 5)\n",
    "$$"
   ]
  },
  {
   "cell_type": "markdown",
   "metadata": {},
   "source": [
    "Usando la formula de Erlang:"
   ]
  },
  {
   "cell_type": "markdown",
   "metadata": {},
   "source": [
    "$$\n",
    "P(N = 5) = B(c = 5, a = 5)\n",
    "$$"
   ]
  },
  {
   "cell_type": "markdown",
   "metadata": {},
   "source": [
    "Usando la ayuda:"
   ]
  },
  {
   "cell_type": "markdown",
   "metadata": {},
   "source": [
    "$$\n",
    "B(5,5) = \\frac{5 B(4, 5)}{5 + 5 B(4, 5)}\n",
    "$$"
   ]
  },
  {
   "cell_type": "markdown",
   "metadata": {},
   "source": [
    "Por lo tanto necesitamos el $B(4, 5)$"
   ]
  },
  {
   "cell_type": "markdown",
   "metadata": {},
   "source": [
    "Lo planteamos de la misma manera, y sucesivamente..., vamos a necesitar el $B(0,5)$"
   ]
  },
  {
   "cell_type": "markdown",
   "metadata": {},
   "source": [
    "$$\n",
    "B(c = 0, a = 5) = \\frac{\\frac{5^0}{0!}}{\\sum^0_{j=0}{\\frac{5^j}{j!}}} \n",
    "$$"
   ]
  },
  {
   "cell_type": "markdown",
   "metadata": {},
   "source": [
    "$$\n",
    "B(c = 0, a = 5) = \\frac{\\frac{1}{1}}{\\frac{5^0}{0!}} = 1 \n",
    "$$"
   ]
  },
  {
   "cell_type": "markdown",
   "metadata": {},
   "source": [
    "$$\n",
    "B(c = 1, a = 5) = \\frac{5 B(0, 5)}{1 + 5B(0, 5)}\n",
    "$$"
   ]
  },
  {
   "cell_type": "markdown",
   "metadata": {},
   "source": [
    "$$\n",
    "B(c = 1, a = 5) = \\frac{5}{1 + 5} = \\frac{5}{6}\n",
    "$$"
   ]
  },
  {
   "cell_type": "markdown",
   "metadata": {},
   "source": [
    "$$\n",
    "B(c = 2, a = 5) = \\frac{5 B(1, 5)}{2 + 5B(1, 5)} = \\frac{5 \\frac{5}{6}}{1 + 5\\frac{5}{6}} = \\frac{25}{37}\n",
    "$$"
   ]
  },
  {
   "cell_type": "markdown",
   "metadata": {},
   "source": [
    "$$\n",
    "B(c = 3, a = 5) = \\frac{5 B(2, 5)}{3 + 5B(2, 5)}\n",
    "$$"
   ]
  },
  {
   "cell_type": "markdown",
   "metadata": {},
   "source": [
    "$$\n",
    "B(c = 3, a = 5) = \\frac{5 \\frac{25}{37}}{3 + 5\\frac{25}{37}} = \\frac{125}{236}\n",
    "$$"
   ]
  },
  {
   "cell_type": "markdown",
   "metadata": {},
   "source": [
    "$$\n",
    "B(c = 4, a = 5) = \\frac{5 B(3, 5)}{4 + 5B(3, 5)}\n",
    "$$"
   ]
  },
  {
   "cell_type": "markdown",
   "metadata": {},
   "source": [
    "$$\n",
    "B(c = 4, a = 5) = \\frac{5 \\frac{125}{236}}{4 + 5\\frac{125}{236}} = \\frac{625}{159}\n",
    "$$"
   ]
  },
  {
   "cell_type": "markdown",
   "metadata": {},
   "source": [
    "$$\n",
    "B(5,5) = \\frac{5 \\frac{625}{159}}{5 + 5 \\frac{625}{159}} = 0.285\n",
    "$$"
   ]
  },
  {
   "cell_type": "markdown",
   "metadata": {},
   "source": [
    "La probabilidad de que un cliente sea rechazado es 0.285, osea un 28.5%."
   ]
  }
 ],
 "metadata": {
  "kernelspec": {
   "display_name": "Python 3",
   "language": "python",
   "name": "python3"
  },
  "language_info": {
   "codemirror_mode": {
    "name": "ipython",
    "version": 3
   },
   "file_extension": ".py",
   "mimetype": "text/x-python",
   "name": "python",
   "nbconvert_exporter": "python",
   "pygments_lexer": "ipython3",
   "version": "3.7.6"
  }
 },
 "nbformat": 4,
 "nbformat_minor": 4
}
