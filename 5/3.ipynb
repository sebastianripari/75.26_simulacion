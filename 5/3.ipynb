{
 "cells": [
  {
   "cell_type": "markdown",
   "metadata": {},
   "source": [
    "Se colocan 3 colas formando un loop como el de la figura de abajo. Asuma que el tiempo de servicio promedio en la cola i es $m_i=\\frac{1}{u_i}$"
   ]
  },
  {
   "cell_type": "markdown",
   "metadata": {},
   "source": [
    "<img src=\"imagenes/3_colas.png\" />"
   ]
  },
  {
   "cell_type": "markdown",
   "metadata": {},
   "source": [
    "a) Suponga que la cola tiene un unico cliente circulando en el loop. Encuentre el tiempo promedio $E[T]$ que le toma al cliente completar un ciclo en el loop. Deduzca, a partir de $E[T]$, la tasa de arribos promedio $\\lambda_i$ en cada una de las colas. Verifique la formula de Little para estos valores."
   ]
  },
  {
   "cell_type": "markdown",
   "metadata": {},
   "source": [
    "b) Si hay N clientes circulando en el loop. Como se relacionan la tasa promedio de arribos y el tiempo de ciclo promedio?"
   ]
  },
  {
   "cell_type": "markdown",
   "metadata": {},
   "source": [
    "<hr>"
   ]
  },
  {
   "cell_type": "code",
   "execution_count": null,
   "metadata": {},
   "outputs": [],
   "source": []
  }
 ],
 "metadata": {
  "kernelspec": {
   "display_name": "Python 3",
   "language": "python",
   "name": "python3"
  },
  "language_info": {
   "codemirror_mode": {
    "name": "ipython",
    "version": 3
   },
   "file_extension": ".py",
   "mimetype": "text/x-python",
   "name": "python",
   "nbconvert_exporter": "python",
   "pygments_lexer": "ipython3",
   "version": "3.7.6"
  }
 },
 "nbformat": 4,
 "nbformat_minor": 4
}
