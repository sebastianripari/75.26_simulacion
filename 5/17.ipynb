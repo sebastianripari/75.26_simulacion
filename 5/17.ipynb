{
 "cells": [
  {
   "cell_type": "markdown",
   "metadata": {},
   "source": [
    "Un centro de informacion recibe pedidos con una distribucion de Poisson con una tasa de 10 pedidos por segundo. Cada pedido requiere un promedio de medio segundo para atendido."
   ]
  },
  {
   "cell_type": "markdown",
   "metadata": {},
   "source": [
    "a) Cuantos servidores se necesitan si se requiere que el delay total en promedio para cada pedido no exceda los 4 segundos, y el 90% de los pedidos deban esperar menos de 8 segundosen la cola?"
   ]
  },
  {
   "cell_type": "markdown",
   "metadata": {},
   "source": [
    "b) Cual es la probabilidad de que todos los servidores esten ocupados? Y desocupados?"
   ]
  },
  {
   "cell_type": "markdown",
   "metadata": {},
   "source": [
    "<hr>"
   ]
  },
  {
   "cell_type": "markdown",
   "metadata": {},
   "source": []
  }
 ],
 "metadata": {
  "kernelspec": {
   "display_name": "Python 3",
   "language": "python",
   "name": "python3"
  },
  "language_info": {
   "codemirror_mode": {
    "name": "ipython",
    "version": 3
   },
   "file_extension": ".py",
   "mimetype": "text/x-python",
   "name": "python",
   "nbconvert_exporter": "python",
   "pygments_lexer": "ipython3",
   "version": "3.7.6"
  }
 },
 "nbformat": 4,
 "nbformat_minor": 4
}
