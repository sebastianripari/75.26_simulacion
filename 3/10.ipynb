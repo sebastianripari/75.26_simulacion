{
 "cells": [
  {
   "cell_type": "markdown",
   "metadata": {},
   "source": [
    "Una persona llega tarde al trabajo el primer dia con probabilidad 0.1. En los dias siguientes llega tarde con probabilidad 0.2 si llego targe el dia anterior, y con probabilidad 0.4 si fue puntual el dia anterior. Cual es el porcentaje de llegar tarde en el largo plazo? Utilizando Matlab, Octave o Python simule el comportamiento de 10 empleados a lo largo de 20 dias de trabajo."
   ]
  },
  {
   "cell_type": "markdown",
   "metadata": {},
   "source": [
    "<hr>"
   ]
  },
  {
   "cell_type": "markdown",
   "metadata": {},
   "source": [
    "Estados:\n",
    "- $S_1$: Tarde\n",
    "- $S_2$: Puntual"
   ]
  },
  {
   "cell_type": "markdown",
   "metadata": {},
   "source": [
    "$P_{11}=0.2$"
   ]
  },
  {
   "cell_type": "markdown",
   "metadata": {},
   "source": [
    "$P_{12}=0.8$"
   ]
  },
  {
   "cell_type": "markdown",
   "metadata": {},
   "source": [
    "$P_{21}=0.4$"
   ]
  },
  {
   "cell_type": "markdown",
   "metadata": {},
   "source": [
    "$P_{22}=0.6$"
   ]
  },
  {
   "cell_type": "markdown",
   "metadata": {},
   "source": [
    "$$\n",
    "P =\n",
    "\\begin{bmatrix}\n",
    "0.2 & 0.8\\\\\n",
    "0.4 & 0.6\\\\\n",
    "\\end{bmatrix}\n",
    "$$"
   ]
  },
  {
   "cell_type": "markdown",
   "metadata": {},
   "source": [
    "Vallamos entonces al largo plazo:"
   ]
  },
  {
   "cell_type": "markdown",
   "metadata": {},
   "source": [
    "$$\n",
    "det(P - \\lambda I) = 0\n",
    "$$"
   ]
  },
  {
   "cell_type": "markdown",
   "metadata": {},
   "source": [
    "$$\n",
    "det\\begin{bmatrix}\n",
    "0.2 - \\lambda & 0.8 \\\\\n",
    "0.4           & 0.6 - \\lambda \\\\\n",
    "\\end{bmatrix} = 0\n",
    "$$"
   ]
  },
  {
   "cell_type": "markdown",
   "metadata": {},
   "source": [
    "$$\n",
    "(0.2 - \\lambda) (0.6 - \\lambda) - 0.8 * 0.4 = 0\n",
    "$$"
   ]
  },
  {
   "cell_type": "markdown",
   "metadata": {},
   "source": [
    "$$\n",
    "(0.2 - \\lambda) (0.6 - \\lambda) - 0.8 * 0.4 = 0.2 * 0.6 - 0.2\\lambda - 0.6\\lambda + \\lambda^2 = 0\n",
    "$$"
   ]
  },
  {
   "cell_type": "markdown",
   "metadata": {},
   "source": [
    "$$\n",
    "\\lambda^2 -0.8\\lambda + 0.12 = 0\n",
    "$$"
   ]
  },
  {
   "cell_type": "markdown",
   "metadata": {},
   "source": [
    "$$\n",
    "\\lambda_1 = 0.2\n",
    "$$"
   ]
  },
  {
   "cell_type": "markdown",
   "metadata": {},
   "source": [
    "$$\n",
    "\\lambda_2 = 0.6\n",
    "$$"
   ]
  },
  {
   "cell_type": "markdown",
   "metadata": {},
   "source": [
    "Ambos son menores que 1 asi que el sistema converge."
   ]
  },
  {
   "cell_type": "markdown",
   "metadata": {},
   "source": [
    "$$\n",
    "(\\pi_1, \\pi_2)\n",
    "\\begin{bmatrix}\n",
    "0.2 & 0.8\\\\\n",
    "0.4 & 0.6\\\\\n",
    "\\end{bmatrix} = (\\pi_1, \\pi_2)\n",
    "$$"
   ]
  },
  {
   "cell_type": "markdown",
   "metadata": {},
   "source": [
    "Resolvamos el sistema:"
   ]
  },
  {
   "cell_type": "markdown",
   "metadata": {},
   "source": [
    "$$\n",
    "\\pi_1 0.2 + \\pi_2 0.4 = \\pi_1\n",
    "$$"
   ]
  },
  {
   "cell_type": "markdown",
   "metadata": {},
   "source": [
    "$$\n",
    "\\pi_1 0.8 + \\pi_2 0.6 = \\pi_2\n",
    "$$"
   ]
  },
  {
   "cell_type": "markdown",
   "metadata": {},
   "source": [
    "$$\n",
    "\\pi_1 + \\pi_2 = 1\n",
    "$$"
   ]
  },
  {
   "cell_type": "markdown",
   "metadata": {},
   "source": [
    "Despejemos:"
   ]
  },
  {
   "cell_type": "markdown",
   "metadata": {},
   "source": [
    "$$\n",
    "\\pi_1 = 1 - \\pi_2\n",
    "$$"
   ]
  },
  {
   "cell_type": "markdown",
   "metadata": {},
   "source": [
    "$$\n",
    "(1 - \\pi_2) 0.2 + \\pi_2 0.4 = 1 - \\pi_2\n",
    "$$"
   ]
  },
  {
   "cell_type": "markdown",
   "metadata": {},
   "source": [
    "$$\n",
    "\\pi_2 0.4 = (1 - 0,2) (1 - \\pi_2) = 0.8 (1 - \\pi_2) = 0.8 - 0.8 \\pi_2\n",
    "$$"
   ]
  },
  {
   "cell_type": "markdown",
   "metadata": {},
   "source": [
    "$$\n",
    "(0.4 + 0.8)\\pi_2 = 0.8\n",
    "$$"
   ]
  },
  {
   "cell_type": "markdown",
   "metadata": {},
   "source": [
    "$$\n",
    "1.2 \\pi_2 = 0.8\n",
    "$$"
   ]
  },
  {
   "cell_type": "markdown",
   "metadata": {},
   "source": [
    "$$\n",
    "\\pi_2 = \\frac{0.8}{1.2} = 0.66\n",
    "$$"
   ]
  },
  {
   "cell_type": "markdown",
   "metadata": {},
   "source": [
    "$$\n",
    "\\pi_1 = 1 - \\frac{0.8}{1.2} = 0.33\n",
    "$$"
   ]
  },
  {
   "cell_type": "markdown",
   "metadata": {},
   "source": [
    "El porcentaje de llegar tarde a largo plazo es 0.33"
   ]
  },
  {
   "cell_type": "markdown",
   "metadata": {},
   "source": [
    "Ahora hagamos la simulacion:"
   ]
  },
  {
   "cell_type": "code",
   "execution_count": 45,
   "metadata": {},
   "outputs": [],
   "source": [
    "import random\n",
    "def simulation(n):\n",
    "    TARDE = 1\n",
    "    PUNTUAL = 2\n",
    "\n",
    "    PROB_TARDE_TO_TARDE = 0.2\n",
    "    PROB_PUNTUAL_TO_PUNTUAL = 0.6\n",
    "    \n",
    "    state = TARDE\n",
    "    states = [state]\n",
    "    \n",
    "    for i in range(n):\n",
    "        value = random.random()\n",
    "        state = states[i]\n",
    "        if state == TARDE:\n",
    "            if value <= PROB_TARDE_TO_TARDE:\n",
    "                states.append(TARDE)\n",
    "            else:\n",
    "                states.append(PUNTUAL)\n",
    "        elif state == PUNTUAL:\n",
    "            if value <= PROB_PUNTUAL_TO_PUNTUAL:\n",
    "                states.append(PUNTUAL)\n",
    "            else:\n",
    "                states.append(TARDE)\n",
    "        else:\n",
    "            raise \"invalid state\"\n",
    "    \n",
    "    return states"
   ]
  },
  {
   "cell_type": "code",
   "execution_count": 61,
   "metadata": {},
   "outputs": [
    {
     "name": "stdout",
     "output_type": "stream",
     "text": [
      "Ratio tarde empleado 0 es 0.38095238095238093\n",
      "Ratio tarde empleado 1 es 0.47619047619047616\n",
      "Ratio tarde empleado 2 es 0.2857142857142857\n",
      "Ratio tarde empleado 3 es 0.42857142857142855\n",
      "Ratio tarde empleado 4 es 0.19047619047619047\n",
      "Ratio tarde empleado 5 es 0.23809523809523808\n",
      "Ratio tarde empleado 6 es 0.3333333333333333\n",
      "Ratio tarde empleado 7 es 0.47619047619047616\n",
      "Ratio tarde empleado 8 es 0.3333333333333333\n",
      "Ratio tarde empleado 9 es 0.38095238095238093\n"
     ]
    }
   ],
   "source": [
    "TARDE = 1\n",
    "for empleado in range(10):\n",
    "    states = simulation(20)\n",
    "    count_tarde = 0\n",
    "    count_puntual = 0\n",
    "    for state in states:\n",
    "        if state == TARDE:\n",
    "            count_tarde += 1\n",
    "        else:\n",
    "            count_puntual += 1\n",
    "    print(\"Ratio tarde empleado {} es {}\".format(empleado, count_tarde / len(states)))"
   ]
  }
 ],
 "metadata": {
  "kernelspec": {
   "display_name": "Python 3",
   "language": "python",
   "name": "python3"
  },
  "language_info": {
   "codemirror_mode": {
    "name": "ipython",
    "version": 3
   },
   "file_extension": ".py",
   "mimetype": "text/x-python",
   "name": "python",
   "nbconvert_exporter": "python",
   "pygments_lexer": "ipython3",
   "version": "3.7.6"
  }
 },
 "nbformat": 4,
 "nbformat_minor": 4
}
