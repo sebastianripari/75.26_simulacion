{
 "cells": [
  {
   "cell_type": "markdown",
   "metadata": {},
   "source": [
    "Dadas las siguientes matrices de transicion de estados determine cuales estados son transitorios, recurrentes y absorbentes."
   ]
  },
  {
   "cell_type": "markdown",
   "metadata": {},
   "source": [
    "$$\n",
    "P_a =\n",
    "\\begin{bmatrix}\n",
    "0 & 0 & 1/3 & 2/3 \\\\\n",
    "1 & 0 & 0   & 0   \\\\\n",
    "0 & 1 & 0   & 0   \\\\\n",
    "0 & 1 & 0   & 0   \\\\\n",
    "\\end{bmatrix}\n",
    "$$"
   ]
  },
  {
   "cell_type": "markdown",
   "metadata": {},
   "source": [
    "$$\n",
    "P_b =\n",
    "\\begin{bmatrix}\n",
    "1   & 0   & 0   & 0  \\\\\n",
    "0   & 1/2 & 1/2 & 0  \\\\\n",
    "0   & 1/2 & 1/2 & 0  \\\\\n",
    "1/2 & 0   & 0   & 1/2\\\\\n",
    "\\end{bmatrix}\n",
    "$$"
   ]
  },
  {
   "cell_type": "markdown",
   "metadata": {},
   "source": [
    "$$\n",
    "P_c =\n",
    "\\begin{bmatrix}\n",
    "0   & 1/2 & 1/2 \\\\\n",
    "1/2 & 0   & 1/2 \\\\\n",
    "1/2 & 1/2 & 0   \\\\\n",
    "\\end{bmatrix}\n",
    "$$"
   ]
  },
  {
   "cell_type": "markdown",
   "metadata": {},
   "source": [
    "<hr>"
   ]
  },
  {
   "cell_type": "markdown",
   "metadata": {},
   "source": [
    "<b>Absorvente</b>: estado en el cual si cayo no sale mas."
   ]
  },
  {
   "cell_type": "markdown",
   "metadata": {},
   "source": [
    "<b>Transitorio</b>: estado en el cual se encuentra el sistema y hay chance de que no vuelva a ese estado."
   ]
  },
  {
   "cell_type": "markdown",
   "metadata": {},
   "source": [
    "<b>Recurrente</b>: estado en el cual cuando el sistema sale no vuelve."
   ]
  },
  {
   "cell_type": "markdown",
   "metadata": {},
   "source": [
    "$$\n",
    "P_b =\n",
    "\\begin{bmatrix}\n",
    "1   & 0   & 0   & 0  \\\\\n",
    "0   & 1/2 & 1/2 & 0  \\\\\n",
    "0   & 1/2 & 1/2 & 0  \\\\\n",
    "1/2 & 0   & 0   & 1/2\\\\\n",
    "\\end{bmatrix}\n",
    "$$"
   ]
  },
  {
   "cell_type": "code",
   "execution_count": null,
   "metadata": {},
   "outputs": [],
   "source": []
  }
 ],
 "metadata": {
  "kernelspec": {
   "display_name": "Python 3",
   "language": "python",
   "name": "python3"
  },
  "language_info": {
   "codemirror_mode": {
    "name": "ipython",
    "version": 3
   },
   "file_extension": ".py",
   "mimetype": "text/x-python",
   "name": "python",
   "nbconvert_exporter": "python",
   "pygments_lexer": "ipython3",
   "version": "3.7.6"
  }
 },
 "nbformat": 4,
 "nbformat_minor": 4
}
