{
 "cells": [
  {
   "cell_type": "markdown",
   "metadata": {},
   "source": [
    "Para la siguiente matriz de transiciones de probabilidades"
   ]
  },
  {
   "cell_type": "markdown",
   "metadata": {},
   "source": [
    "$$\n",
    "P = \n",
    "\\begin{bmatrix}\n",
    "1/2 & 1/2 & 0  \\\\\n",
    "0   & 1/2 & 1/2\\\\\n",
    "1/2 & 0   & 1/2\\\\\n",
    "\\end{bmatrix}\n",
    "$$"
   ]
  },
  {
   "cell_type": "markdown",
   "metadata": {},
   "source": [
    "Determine si $P_n$ converge para n -> $\\infty$"
   ]
  },
  {
   "cell_type": "markdown",
   "metadata": {},
   "source": [
    "<hr>"
   ]
  },
  {
   "cell_type": "markdown",
   "metadata": {},
   "source": [
    "Para terminar si la matriz P converge, tenemos que encontrar los autovalores y ver que sean menores o iguales que 1."
   ]
  },
  {
   "cell_type": "markdown",
   "metadata": {},
   "source": [
    "$$\n",
    "det(P - \\lambda I) = 0\n",
    "$$"
   ]
  },
  {
   "cell_type": "markdown",
   "metadata": {},
   "source": [
    "$$\n",
    "det(P - \\lambda I) = \n",
    "\\begin{bmatrix}\n",
    "1/2 - \\lambda & 1/2           & 0  \\\\\n",
    "0             & 1/2 - \\lambda & 1/2\\\\\n",
    "1/2           & 0             & 1/2 - \\lambda \\\\\n",
    "\\end{bmatrix}\n",
    "$$"
   ]
  },
  {
   "cell_type": "markdown",
   "metadata": {},
   "source": [
    "$$\n",
    "det(P - \\lambda I) = 1/2  \n",
    "\\begin{bmatrix}\n",
    "1/2           & 0   \\\\\n",
    "1/2 - \\lambda & 1/2 \\\\\n",
    "\\end{bmatrix} +\n",
    "(1/2 - \\lambda)\n",
    "\\begin{bmatrix}\n",
    "1/2 - \\lambda & 1/2 \\\\\n",
    "0             & 1/2 - \\lambda\n",
    "\\end{bmatrix}\n",
    "$$"
   ]
  },
  {
   "cell_type": "markdown",
   "metadata": {},
   "source": [
    "$$\n",
    "det(P - \\lambda I) = \\frac{1}{2} \\frac{1}{4} + (1/2 - \\lambda) (1/2  - \\lambda) ^ 2 \n",
    "$$"
   ]
  },
  {
   "cell_type": "markdown",
   "metadata": {},
   "source": [
    "$$\n",
    "det(P - \\lambda I) = \\frac{1}{8} + (1/2 - \\lambda) (1/2  - \\lambda) ^ 2 = 0\n",
    "$$"
   ]
  },
  {
   "cell_type": "markdown",
   "metadata": {},
   "source": [
    "$$\n",
    "det(P - \\lambda I) = \\frac{1}{8} + (\\frac{1}{2}  - \\lambda) ^ 3 = 0\n",
    "$$"
   ]
  },
  {
   "cell_type": "markdown",
   "metadata": {},
   "source": [
    "$$\n",
    "\\lambda = 1\n",
    "$$"
   ]
  },
  {
   "cell_type": "markdown",
   "metadata": {},
   "source": [
    "$$\n",
    "\\lambda = \\frac{1}{4} - i \\frac{\\sqrt 3}{4}\n",
    "$$"
   ]
  },
  {
   "cell_type": "markdown",
   "metadata": {},
   "source": [
    "$$\n",
    "\\lambda = \\frac{1}{4} + i \\frac{\\sqrt 3}{4}\n",
    "$$"
   ]
  }
 ],
 "metadata": {
  "kernelspec": {
   "display_name": "Python 3",
   "language": "python",
   "name": "python3"
  },
  "language_info": {
   "codemirror_mode": {
    "name": "ipython",
    "version": 3
   },
   "file_extension": ".py",
   "mimetype": "text/x-python",
   "name": "python",
   "nbconvert_exporter": "python",
   "pygments_lexer": "ipython3",
   "version": "3.7.6"
  }
 },
 "nbformat": 4,
 "nbformat_minor": 4
}
