{
 "cells": [
  {
   "cell_type": "markdown",
   "metadata": {},
   "source": [
    "Una maquina de una linea de produccion se puede encontrar en alguno de los siguientes estados:"
   ]
  },
  {
   "cell_type": "markdown",
   "metadata": {},
   "source": [
    "$$\n",
    "S_1 = Trabajando\n",
    "$$"
   ]
  },
  {
   "cell_type": "markdown",
   "metadata": {},
   "source": [
    "$$\n",
    "S_2 = Rota\n",
    "$$"
   ]
  },
  {
   "cell_type": "markdown",
   "metadata": {},
   "source": [
    "La empresa cuenta con un sistema de control que verifica el funcionamiento de la maquina cada 1 minuto."
   ]
  },
  {
   "cell_type": "markdown",
   "metadata": {},
   "source": [
    "Si en un control la maquina se encuentra en estado \"Trabajando\" la prababilidad que en el siguiente control este en estado \"Rota\" es $P_{12}$ = 0.05"
   ]
  },
  {
   "cell_type": "markdown",
   "metadata": {},
   "source": [
    "Si la maquina se encuentra operativa la probabilidad que continue en el mismo estado en la siguiente verificacion es $P_{11}=0.95$ "
   ]
  },
  {
   "cell_type": "markdown",
   "metadata": {},
   "source": [
    "Si se verifica que la maquina esta en estado \"Rota\" la probabilidad que en la siguiente verificacion este en estado \"Trabajando\" es $P_{21}=0.4$"
   ]
  },
  {
   "cell_type": "markdown",
   "metadata": {},
   "source": [
    "Y si la maquina se encuentra en estado \"Rota\" la proababilidad que continue en el mismo estado en la proxima verificacion es $P_{22}=0.6$"
   ]
  },
  {
   "cell_type": "markdown",
   "metadata": {},
   "source": [
    "a) Determine la matriz de cambio de estado.<br>\n",
    "b) Sabiendo que la maquina se encuentra trabajando, determinar la probabilidad que la maquina se encuentre operativa luego de 2 verificaciones.<br>\n",
    "c) Determine la fraccion de tiempo que la maquina no se encuentra trabajando.<br>\n",
    "d) Utilizando Matlab, Octave o Python simule 20 verificaciones realizadas por el sistema de control, mostrando en un grafico el estado en el que se encuentra la maquina en cada verificacion."
   ]
  },
  {
   "cell_type": "markdown",
   "metadata": {},
   "source": [
    "<hr>"
   ]
  },
  {
   "cell_type": "markdown",
   "metadata": {},
   "source": [
    "a)"
   ]
  },
  {
   "cell_type": "markdown",
   "metadata": {},
   "source": [
    "Matriz de cambio de estado:"
   ]
  },
  {
   "cell_type": "markdown",
   "metadata": {},
   "source": [
    "$$\n",
    "P = \\begin{bmatrix}\n",
    "P_{1/1} & P_{2/1} \\\\\n",
    "P_{1/2} & P_{2/2} \\\\\n",
    "\\end{bmatrix}\n",
    "$$"
   ]
  },
  {
   "cell_type": "markdown",
   "metadata": {},
   "source": [
    "Nos dan todos los datos para completar la matriz."
   ]
  },
  {
   "cell_type": "markdown",
   "metadata": {},
   "source": [
    "$$\n",
    "P = \\begin{bmatrix}\n",
    "P_{1/1} & P_{2/1} \\\\\n",
    "P_{1/2} & P_{1/2} \\\\\n",
    "\\end{bmatrix}\n",
    "$$"
   ]
  },
  {
   "cell_type": "markdown",
   "metadata": {},
   "source": [
    "$$\n",
    "P(1/1) = P_{11} = 0.95\n",
    "$$"
   ]
  },
  {
   "cell_type": "markdown",
   "metadata": {},
   "source": [
    "$$\n",
    "P(2/1) = P_{12} = 0.05\n",
    "$$"
   ]
  },
  {
   "cell_type": "markdown",
   "metadata": {},
   "source": [
    "$$\n",
    "P(1/2) = P_{21} = 0.4\n",
    "$$"
   ]
  },
  {
   "cell_type": "markdown",
   "metadata": {},
   "source": [
    "$$\n",
    "P(2/2) = P_{22} = 0.6\n",
    "$$"
   ]
  },
  {
   "cell_type": "markdown",
   "metadata": {},
   "source": [
    "Entonces:"
   ]
  },
  {
   "cell_type": "markdown",
   "metadata": {},
   "source": [
    "$$\n",
    "P = \\begin{bmatrix}\n",
    "0.95 & 0.05 \\\\\n",
    "0.4  & 0.6 \\\\\n",
    "\\end{bmatrix}\n",
    "$$"
   ]
  },
  {
   "cell_type": "markdown",
   "metadata": {},
   "source": [
    "b)"
   ]
  },
  {
   "cell_type": "markdown",
   "metadata": {},
   "source": [
    "La maquina se encuentra en estado trabajando, esto es 1. Luego de dos verificaciones para que este rota pueden ocurrir los siguientes caminos:"
   ]
  },
  {
   "cell_type": "markdown",
   "metadata": {},
   "source": [
    "$$\n",
    "S_1 -> S_2 y S_2 -> S_2\n",
    "$$"
   ]
  },
  {
   "cell_type": "markdown",
   "metadata": {},
   "source": [
    "$$\n",
    "S_1 -> S_1 y S_1 -> S_2\n",
    "$$"
   ]
  },
  {
   "cell_type": "markdown",
   "metadata": {},
   "source": [
    "Entonces:"
   ]
  },
  {
   "cell_type": "markdown",
   "metadata": {},
   "source": [
    "$$\n",
    "P_{{en dos pasos}_{12}} = P_{12} P_{22} + P_{11} P_{12}\n",
    "$$"
   ]
  },
  {
   "cell_type": "markdown",
   "metadata": {},
   "source": [
    "$$\n",
    "0.05 * 0.6 + 0.95 * 0.05 = 0.0775\n",
    "$$"
   ]
  },
  {
   "cell_type": "markdown",
   "metadata": {},
   "source": [
    "Ahora hagamos lo mismo, pero usando la matriz de cambio de estados, usando la propiedad de que multiplicar la matriz por si misma n veces nos da las probabilidad en n pasos."
   ]
  },
  {
   "cell_type": "markdown",
   "metadata": {},
   "source": [
    "$$\n",
    "P^2 = P * P\n",
    "$$"
   ]
  },
  {
   "cell_type": "markdown",
   "metadata": {},
   "source": [
    "$$\n",
    "P^2 = \\begin{bmatrix}\n",
    "P_{1/1} & P_{2/1} \\\\\n",
    "P_{1/2} & P_{2/2} \\\\\n",
    "\\end{bmatrix} *\n",
    "\\begin{bmatrix}\n",
    "P_{1/1} & P_{2/1} \\\\\n",
    "P_{1/2} & P_{2/2} \\\\\n",
    "\\end{bmatrix}\n",
    "$$"
   ]
  },
  {
   "cell_type": "markdown",
   "metadata": {},
   "source": [
    "$$\n",
    "P^2 = \\begin{bmatrix}\n",
    "0.95 & 0.05 \\\\\n",
    "0.4  & 0.6 \\\\\n",
    "\\end{bmatrix} *\n",
    "\\begin{bmatrix}\n",
    "0.95 & 0.05 \\\\\n",
    "0.4  & 0.6 \\\\\n",
    "\\end{bmatrix}\n",
    "$$"
   ]
  },
  {
   "cell_type": "markdown",
   "metadata": {},
   "source": [
    "Nos interesa el valor de P_{2/1} de la matriz $P^2$ asi que solo hago la multiplicacion de la primera fila por la segunda columna: $0.95 * 0.05 + 0.05 * 0.6$, notar que es la misma cuenta que nos dio antes, por lo tanto el resultados es 0.0775."
   ]
  },
  {
   "cell_type": "markdown",
   "metadata": {},
   "source": [
    "c)"
   ]
  },
  {
   "cell_type": "markdown",
   "metadata": {},
   "source": [
    "#### Comportamiento asintotico"
   ]
  },
  {
   "cell_type": "code",
   "execution_count": 11,
   "metadata": {},
   "outputs": [
    {
     "data": {
      "text/plain": [
       "matrix([[0.95, 0.05],\n",
       "        [0.4 , 0.6 ]])"
      ]
     },
     "execution_count": 11,
     "metadata": {},
     "output_type": "execute_result"
    }
   ],
   "source": [
    "import numpy as np\n",
    "P = np.matrix(\"0.95 0.05 ; 0.4 0.6\")\n",
    "P"
   ]
  },
  {
   "cell_type": "code",
   "execution_count": 10,
   "metadata": {},
   "outputs": [
    {
     "data": {
      "text/plain": [
       "matrix([[0.9225, 0.0775],\n",
       "        [0.62  , 0.38  ]])"
      ]
     },
     "execution_count": 10,
     "metadata": {},
     "output_type": "execute_result"
    }
   ],
   "source": [
    "P * P"
   ]
  },
  {
   "cell_type": "code",
   "execution_count": 15,
   "metadata": {},
   "outputs": [
    {
     "data": {
      "text/plain": [
       "matrix([[0.88917033, 0.11082967],\n",
       "        [0.88663738, 0.11336262]])"
      ]
     },
     "execution_count": 15,
     "metadata": {},
     "output_type": "execute_result"
    }
   ],
   "source": [
    "P ** 10"
   ]
  },
  {
   "cell_type": "code",
   "execution_count": 16,
   "metadata": {},
   "outputs": [
    {
     "data": {
      "text/plain": [
       "matrix([[0.8888896 , 0.1111104 ],\n",
       "        [0.88888319, 0.11111681]])"
      ]
     },
     "execution_count": 16,
     "metadata": {},
     "output_type": "execute_result"
    }
   ],
   "source": [
    "P ** 20"
   ]
  },
  {
   "cell_type": "code",
   "execution_count": 17,
   "metadata": {},
   "outputs": [
    {
     "data": {
      "text/plain": [
       "matrix([[0.88888889, 0.11111111],\n",
       "        [0.88888889, 0.11111111]])"
      ]
     },
     "execution_count": 17,
     "metadata": {},
     "output_type": "execute_result"
    }
   ],
   "source": [
    "P ** 50"
   ]
  },
  {
   "cell_type": "code",
   "execution_count": 18,
   "metadata": {},
   "outputs": [
    {
     "data": {
      "text/plain": [
       "matrix([[0.88888889, 0.11111111],\n",
       "        [0.88888889, 0.11111111]])"
      ]
     },
     "execution_count": 18,
     "metadata": {},
     "output_type": "execute_result"
    }
   ],
   "source": [
    "P ** 100"
   ]
  },
  {
   "cell_type": "markdown",
   "metadata": {},
   "source": [
    "Se observa que las columnas tienen el mismo valor."
   ]
  },
  {
   "cell_type": "markdown",
   "metadata": {},
   "source": [
    "Que quiere decir esto? que no importa de que estado parto, si de 1 o de 2, luego de una gran cantidad de pasos el experimento tiene probabilidad de terminar de la misma forma. En este caso no importa si la maquina estaba rota o trabajando en el primer paso, luego de una gran cantidad de pasos la probabilidad de que la maquina este funcionando es 0.88888889 y que no lo este un 0.11111111"
   ]
  },
  {
   "cell_type": "markdown",
   "metadata": {},
   "source": [
    "Notacion:"
   ]
  },
  {
   "cell_type": "markdown",
   "metadata": {},
   "source": [
    "$$\n",
    "\\lim_{n \\to \\infty} P_{ij} = \\pi_j\n",
    "$$"
   ]
  },
  {
   "cell_type": "markdown",
   "metadata": {},
   "source": [
    "Donde n es la cantidad de pasos."
   ]
  },
  {
   "cell_type": "markdown",
   "metadata": {},
   "source": [
    "Entonces, $\\pi_j$ es la probabilidad de que el sistema se encuentre en el estado j sin importar del estado inicial"
   ]
  },
  {
   "cell_type": "markdown",
   "metadata": {},
   "source": [
    "Entonces se cumple que:"
   ]
  },
  {
   "cell_type": "markdown",
   "metadata": {},
   "source": [
    "$$\n",
    "\\sum_{j=0}^{M} \\pi_j = 1\n",
    "$$"
   ]
  },
  {
   "cell_type": "markdown",
   "metadata": {},
   "source": [
    "Donde M es la cantidad de estados posibles."
   ]
  },
  {
   "cell_type": "markdown",
   "metadata": {},
   "source": [
    "#### Distribucion de estados asintoticos o distribucion asintotica (distribucion estacionaria):"
   ]
  },
  {
   "cell_type": "markdown",
   "metadata": {},
   "source": [
    "$$\n",
    "\\vec{\\pi}=(\\pi_{0}, \\pi_{1},..., \\pi_{M})\n",
    "$$"
   ]
  },
  {
   "cell_type": "markdown",
   "metadata": {},
   "source": [
    "<b>Observacion</b>: podria no existir"
   ]
  },
  {
   "cell_type": "markdown",
   "metadata": {},
   "source": [
    "Cumple que:"
   ]
  },
  {
   "cell_type": "markdown",
   "metadata": {},
   "source": [
    "$$\n",
    "\\vec{\\pi} P = \\vec{\\pi}\n",
    "$$"
   ]
  },
  {
   "cell_type": "markdown",
   "metadata": {},
   "source": [
    "Una distribucion es estacionaria si al aplicarle la matriz de transicion, O dicho de otra forma si hacemos un paso mas en la cadena de Markov, volvemos a obtener la misma distribucion de probabilidades."
   ]
  },
  {
   "cell_type": "markdown",
   "metadata": {},
   "source": [
    "c)"
   ]
  },
  {
   "cell_type": "markdown",
   "metadata": {},
   "source": [
    "Nos piden el tiempo que la maquina no se encuentre trabando."
   ]
  },
  {
   "cell_type": "markdown",
   "metadata": {},
   "source": [
    "Planteamos entonces:"
   ]
  },
  {
   "cell_type": "markdown",
   "metadata": {},
   "source": [
    "$$\n",
    "\\vec{\\pi} P = \\vec{\\pi}\n",
    "$$"
   ]
  },
  {
   "cell_type": "markdown",
   "metadata": {},
   "source": [
    "Esto es:"
   ]
  },
  {
   "cell_type": "markdown",
   "metadata": {},
   "source": [
    "$$\n",
    "(\\pi_1 \\pi_2) P = (\\pi_1 \\pi_2)\n",
    "$$"
   ]
  },
  {
   "cell_type": "markdown",
   "metadata": {},
   "source": [
    "Lo que nos interesa es $\\pi_2$"
   ]
  },
  {
   "cell_type": "markdown",
   "metadata": {},
   "source": [
    "Esto nos va a dar una nocion de no importa en que estado se encuentra la maquina, que probabilidad hay de que se encuentre en estado 2, osea rota."
   ]
  },
  {
   "cell_type": "markdown",
   "metadata": {},
   "source": [
    "Esta probabilidad la podemos ver como la fraccion de tiempo buscada."
   ]
  },
  {
   "cell_type": "markdown",
   "metadata": {},
   "source": [
    "Resolvemos el sistema:"
   ]
  },
  {
   "cell_type": "markdown",
   "metadata": {},
   "source": [
    "$$\n",
    "(\\pi_1 \\pi_2) \n",
    "\\begin{bmatrix}\n",
    "0.95 & 0.05\\\\\n",
    "0.4  & 0.6 \\\\\n",
    "\\end{bmatrix}\n",
    "= (\\pi_1 \\pi_2)\n",
    "$$"
   ]
  },
  {
   "cell_type": "markdown",
   "metadata": {},
   "source": [
    "$$\n",
    "\\pi_10.95 + \\pi_20.4 = \\pi_1\n",
    "$$"
   ]
  },
  {
   "cell_type": "markdown",
   "metadata": {},
   "source": [
    "$$\n",
    "\\pi_10.05 + \\pi_20.6 = \\pi_2\n",
    "$$"
   ]
  },
  {
   "cell_type": "markdown",
   "metadata": {},
   "source": [
    "$$\n",
    "\\pi_1 + \\pi_2 = 1\n",
    "$$"
   ]
  },
  {
   "cell_type": "markdown",
   "metadata": {},
   "source": [
    "Esto da:"
   ]
  },
  {
   "cell_type": "markdown",
   "metadata": {},
   "source": [
    "$$\n",
    "\\pi_1 = \\frac{8}{9}\n",
    "$$"
   ]
  },
  {
   "cell_type": "markdown",
   "metadata": {},
   "source": [
    "$$\n",
    "\\pi_2 = \\frac{1}{9}\n",
    "$$"
   ]
  },
  {
   "cell_type": "markdown",
   "metadata": {},
   "source": [
    "Por lo tanto la respuesta es un 1/9, que es aprox 0.11 esto quiere decir que un 11% porciento del tiempo aproximadamente la maquina permanece rota."
   ]
  },
  {
   "cell_type": "markdown",
   "metadata": {},
   "source": [
    "<b>Observacion</b>: este metodo lo pudimos aplicar porque el sistema converge, esto es porque la matrix tiene autovalores menores o iguales a 1."
   ]
  },
  {
   "cell_type": "markdown",
   "metadata": {},
   "source": [
    "d)"
   ]
  },
  {
   "cell_type": "code",
   "execution_count": 82,
   "metadata": {},
   "outputs": [],
   "source": [
    "import random\n",
    "def simulation(n):\n",
    "    TRABAJANDO = 1\n",
    "    ROTA = 2\n",
    "    PROB_TRABAJANDO_TO_TRABAJANDO = 0.95\n",
    "    PROB_ROTA_TO_ROTA = 0.6\n",
    "    \n",
    "    state = TRABAJANDO\n",
    "    states = [state]\n",
    "    \n",
    "    for i in range(n):\n",
    "    \n",
    "        state = states[i]\n",
    "        \n",
    "        if (state == TRABAJANDO):\n",
    "            value = random.random()\n",
    "            if value <= PROB_TRABAJANDO_TO_TRABAJANDO:\n",
    "                states.append(TRABAJANDO)\n",
    "            else:\n",
    "                states.append(ROTA)\n",
    "\n",
    "        elif (state == ROTA):\n",
    "            value = random.random()\n",
    "            if value <= PROB_ROTA_TO_ROTA:\n",
    "                states.append(ROTA)\n",
    "            else:\n",
    "                states.append(TRABAJANDO)\n",
    "\n",
    "        else:\n",
    "            raise \"invalid state\"\n",
    "    \n",
    "    return states"
   ]
  },
  {
   "cell_type": "code",
   "execution_count": 84,
   "metadata": {},
   "outputs": [
    {
     "data": {
      "image/png": "[encoded data removed]",
      "text/plain": [
       "<Figure size 432x288 with 1 Axes>"
      ]
     },
     "metadata": {
      "needs_background": "light"
     },
     "output_type": "display_data"
    }
   ],
   "source": [
    "import matplotlib.pyplot as pyplot\n",
    "states = simulation(100)\n",
    "pyplot.plot(states)\n",
    "pyplot.show()"
   ]
  },
  {
   "cell_type": "code",
   "execution_count": 85,
   "metadata": {},
   "outputs": [],
   "source": [
    "states = simulation(1000000)\n",
    "count_state_trabajando = 0\n",
    "count_state_roto = 0\n",
    "for state in states:\n",
    "    if state == 1:\n",
    "        count_state_trabajando += 1\n",
    "    \n",
    "    if state == 2:\n",
    "        count_state_roto += 1"
   ]
  },
  {
   "cell_type": "code",
   "execution_count": 86,
   "metadata": {},
   "outputs": [
    {
     "data": {
      "text/plain": [
       "0.8896871103128897"
      ]
     },
     "execution_count": 86,
     "metadata": {},
     "output_type": "execute_result"
    }
   ],
   "source": [
    "count_state_trabajando / len(states)"
   ]
  },
  {
   "cell_type": "code",
   "execution_count": 87,
   "metadata": {},
   "outputs": [
    {
     "data": {
      "text/plain": [
       "0.11031288968711031"
      ]
     },
     "execution_count": 87,
     "metadata": {},
     "output_type": "execute_result"
    }
   ],
   "source": [
    "count_state_roto / len(states)"
   ]
  },
  {
   "cell_type": "markdown",
   "metadata": {},
   "source": [
    "Vemos que nos dio 0.88 y 0.11 cuando el n es grande, estos son $\\pi_1$ y $\\pi_2$"
   ]
  }
 ],
 "metadata": {
  "kernelspec": {
   "display_name": "Python 3",
   "language": "python",
   "name": "python3"
  },
  "language_info": {
   "codemirror_mode": {
    "name": "ipython",
    "version": 3
   },
   "file_extension": ".py",
   "mimetype": "text/x-python",
   "name": "python",
   "nbconvert_exporter": "python",
   "pygments_lexer": "ipython3",
   "version": "3.7.6"
  }
 },
 "nbformat": 4,
 "nbformat_minor": 4
}
