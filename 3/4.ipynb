{
 "cells": [
  {
   "cell_type": "markdown",
   "metadata": {},
   "source": [
    "Una maquina de una linea de produccion se puede encontrar en alguno de los siguientes estados:"
   ]
  },
  {
   "cell_type": "markdown",
   "metadata": {},
   "source": [
    "$$\n",
    "S_1 = Trabajando\n",
    "$$"
   ]
  },
  {
   "cell_type": "markdown",
   "metadata": {},
   "source": [
    "$$\n",
    "S_2 = Rota\n",
    "$$"
   ]
  },
  {
   "cell_type": "markdown",
   "metadata": {},
   "source": [
    "La empresa cuenta con un sistema de control que verifica el funcionamiento de la maquina cada 1 minuto."
   ]
  },
  {
   "cell_type": "markdown",
   "metadata": {},
   "source": [
    "Si en un control la maquina se encuentra en estado \"Trabajando\" la prababilidad que en el siguiente control este en estado \"Rota\" es $P_{12}$ = 0.05"
   ]
  },
  {
   "cell_type": "markdown",
   "metadata": {},
   "source": [
    "Si la maquina se encuentra operativa la probabilidad que continue en el mismo estado en la siguiente verificacion es $P_{11}=0.95$ "
   ]
  },
  {
   "cell_type": "markdown",
   "metadata": {},
   "source": [
    "Si se verifica que la maquina esta en estado \"Rota\" la probabilidad que en la siguiente verificacion este en estado \"Trabajando\" es $P_{21}=0.4$"
   ]
  },
  {
   "cell_type": "markdown",
   "metadata": {},
   "source": [
    "Y si la maquina se encuentra en estado \"Rota\" la proababilidad que continue en el mismo estado en la proxima verificacion es $P_{22}=0.6$"
   ]
  },
  {
   "cell_type": "markdown",
   "metadata": {},
   "source": [
    "a) Determine la matriz de cambio de estado.<br>\n",
    "b) Sabiendo que la maquina se encuentra trabajando, determinar la probabilidad que la maquina se encuentre operativa luego de 2 verificaciones.<br>\n",
    "c) Determine la fraccion de tiempo que la maquina no se encuentra trabajando.<br>\n",
    "d) Utilizando Matlab, Octave o Python simule 20 verificaciones realizadas por el sistema de control, mostrando en un grafico el estado en el que se encuentra la maquina en cada verificacion."
   ]
  },
  {
   "cell_type": "markdown",
   "metadata": {},
   "source": [
    "<hr>"
   ]
  },
  {
   "cell_type": "markdown",
   "metadata": {},
   "source": [
    "a)"
   ]
  },
  {
   "cell_type": "markdown",
   "metadata": {},
   "source": [
    "Matriz de cambio de estado:"
   ]
  },
  {
   "cell_type": "markdown",
   "metadata": {},
   "source": [
    "$$\n",
    "P = \\begin{bmatrix}\n",
    "P_{1/1} & P_{2/1} \\\\\n",
    "P_{1/2} & P_{2/2} \\\\\n",
    "\\end{bmatrix}\n",
    "$$"
   ]
  },
  {
   "cell_type": "markdown",
   "metadata": {},
   "source": [
    "Nos dan todos los datos para completar la matriz."
   ]
  },
  {
   "cell_type": "markdown",
   "metadata": {},
   "source": [
    "$$\n",
    "P = \\begin{bmatrix}\n",
    "P_{1/1} & P_{2/1} \\\\\n",
    "P_{1/2} & P_{1/2} \\\\\n",
    "\\end{bmatrix}\n",
    "$$"
   ]
  },
  {
   "cell_type": "markdown",
   "metadata": {},
   "source": [
    "$$\n",
    "P(1/1) = P_{11} = 0.95\n",
    "$$"
   ]
  },
  {
   "cell_type": "markdown",
   "metadata": {},
   "source": [
    "$$\n",
    "P(2/1) = P_{12} = 0.05\n",
    "$$"
   ]
  },
  {
   "cell_type": "markdown",
   "metadata": {},
   "source": [
    "$$\n",
    "P(1/2) = P_{21} = 0.4\n",
    "$$"
   ]
  },
  {
   "cell_type": "markdown",
   "metadata": {},
   "source": [
    "$$\n",
    "P(2/2) = P_{22} = 0.6\n",
    "$$"
   ]
  },
  {
   "cell_type": "markdown",
   "metadata": {},
   "source": [
    "Entonces:"
   ]
  },
  {
   "cell_type": "markdown",
   "metadata": {},
   "source": [
    "$$\n",
    "P = \\begin{bmatrix}\n",
    "0.95 & 0.05 \\\\\n",
    "0.4  & 0.6 \\\\\n",
    "\\end{bmatrix}\n",
    "$$"
   ]
  },
  {
   "cell_type": "markdown",
   "metadata": {},
   "source": [
    "b)"
   ]
  },
  {
   "cell_type": "markdown",
   "metadata": {},
   "source": [
    "La maquina se encuentra en estado trabajando, esto es 1. Luego de dos verificaciones para que este rota pueden ocurrir los siguientes caminos:"
   ]
  },
  {
   "cell_type": "markdown",
   "metadata": {},
   "source": [
    "$$\n",
    "S_1 -> S_2 y S_2 -> S_2\n",
    "$$"
   ]
  },
  {
   "cell_type": "markdown",
   "metadata": {},
   "source": [
    "$$\n",
    "S_1 -> S_1 y S_1 -> S_2\n",
    "$$"
   ]
  },
  {
   "cell_type": "markdown",
   "metadata": {},
   "source": [
    "Entonces:"
   ]
  },
  {
   "cell_type": "markdown",
   "metadata": {},
   "source": [
    "$$\n",
    "P_{{en dos pasos}_{12}} = P_{12} P_{22} + P_{11} P_{12}\n",
    "$$"
   ]
  },
  {
   "cell_type": "markdown",
   "metadata": {},
   "source": [
    "$$\n",
    "0.05 * 0.6 + 0.95 * 0.05 = 0.0775\n",
    "$$"
   ]
  },
  {
   "cell_type": "markdown",
   "metadata": {},
   "source": [
    "Ahora hagamos lo mismo, pero usando la matriz de cambio de estados, usando la propiedad de que multiplicar la matriz por si misma n veces nos da las probabilidad en n pasos."
   ]
  },
  {
   "cell_type": "markdown",
   "metadata": {},
   "source": [
    "$$\n",
    "P^2 = P * P\n",
    "$$"
   ]
  },
  {
   "cell_type": "markdown",
   "metadata": {},
   "source": [
    "$$\n",
    "P^2 = \\begin{bmatrix}\n",
    "P_{1/1} & P_{2/1} \\\\\n",
    "P_{1/2} & P_{1/2} \\\\\n",
    "\\end{bmatrix} *\n",
    "\\begin{bmatrix}\n",
    "P_{1/1} & P_{2/1} \\\\\n",
    "P_{1/2} & P_{1/2} \\\\\n",
    "\\end{bmatrix}\n",
    "$$"
   ]
  },
  {
   "cell_type": "markdown",
   "metadata": {},
   "source": [
    "$$\n",
    "P^2 = \\begin{bmatrix}\n",
    "0.95 & 0.05 \\\\\n",
    "0.4  & 0.6 \\\\\n",
    "\\end{bmatrix} *\n",
    "\\begin{bmatrix}\n",
    "0.95 & 0.05 \\\\\n",
    "0.4  & 0.6 \\\\\n",
    "\\end{bmatrix}\n",
    "$$"
   ]
  },
  {
   "cell_type": "markdown",
   "metadata": {},
   "source": [
    "Nos interesa el valor de P_{2/1} de la matriz $P^2$ asi que solo hago la multiplicacion de la primera fila por la segunda columna: $0.95 * 0.05 + 0.05 * 0.6$, notar que es la misma cuenta que nos dio antes, por lo tanto el resultados es 0.0775."
   ]
  }
 ],
 "metadata": {
  "kernelspec": {
   "display_name": "Python 3",
   "language": "python",
   "name": "python3"
  },
  "language_info": {
   "codemirror_mode": {
    "name": "ipython",
    "version": 3
   },
   "file_extension": ".py",
   "mimetype": "text/x-python",
   "name": "python",
   "nbconvert_exporter": "python",
   "pygments_lexer": "ipython3",
   "version": "3.7.6"
  }
 },
 "nbformat": 4,
 "nbformat_minor": 4
}
