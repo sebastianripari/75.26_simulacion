{
 "cells": [
  {
   "cell_type": "markdown",
   "id": "0b1947bf-680a-49b8-895d-9fdeca330daf",
   "metadata": {},
   "source": [
    "Dado un sistema de cola representado por la siguiente cadenad de Markov, donde $\\lambda$ es proporcional a la tasa de arribos de un proceso de Poisson, $\\mu$ es proporcional a la tasa de servicio con tiempos distribuidos exponencialmente, y donde cada nodo representa el numero de trabajos N en el sistema."
   ]
  },
  {
   "cell_type": "markdown",
   "id": "24ed29dc-2025-40f2-81ee-c89e14c3c661",
   "metadata": {},
   "source": [
    "<img src=\"imagenes/markov.png\" width=\"300\" />"
   ]
  },
  {
   "cell_type": "markdown",
   "id": "f5beda2e-9fab-41f5-9325-45558b1696bd",
   "metadata": {},
   "source": [
    "Indique con un circulo la respuesta correcta (solo una) a cada una de las preguntas a continuacion (cada respuesta vale 5 puntos)"
   ]
  },
  {
   "cell_type": "markdown",
   "id": "c987cea7-a741-4ce2-bdc7-e99e239674ac",
   "metadata": {},
   "source": [
    "<hr>"
   ]
  },
  {
   "cell_type": "markdown",
   "id": "651b58a7-4f7b-4f98-838d-86dc790f4e78",
   "metadata": {},
   "source": [
    "#### 1) El sistema se trata de una cola tipo:"
   ]
  },
  {
   "cell_type": "markdown",
   "id": "1a7c15e4-4cc5-4aef-8195-97726bdecc8f",
   "metadata": {},
   "source": [
    "a) M/M/2/2 <br>\n",
    "b) M/M/1/2 <br>\n",
    "c) M/M/Infinito <br>\n",
    "d) M/M/1 <br>\n",
    "e) Ninguna de las opciones"
   ]
  },
  {
   "cell_type": "markdown",
   "id": "69954abf-38be-4670-a013-b2904ed9fdcb",
   "metadata": {},
   "source": [
    "Viendo el diagrama de markov, vemos que el sistema tiene una capacidad de 2, y viendo las transiciones de 2 a 1 y 1 a 0, que son con probabilidad 2\\mu y \\mu vemos que el sistema tiene dos canales de atencion, pero como tambien vemos que la tasa de arribos cambia dependiendo de las transiciones, entonces concluimos que es un sistema que no se corresponde con ninguna cola estudiada teoricamente, por lo tanto la respeusta es la (e)"
   ]
  },
  {
   "cell_type": "markdown",
   "id": "1d1c6948-7fae-49d6-900e-9dd3447afe3f",
   "metadata": {},
   "source": [
    "<hr>"
   ]
  },
  {
   "cell_type": "markdown",
   "id": "132f7814-8534-412b-8a58-e7f894c86f59",
   "metadata": {},
   "source": [
    "#### 2) Si definimos $a = \\frac{\\lambda}{\\mu}$, y asumimos que existe el estado estacionario, las probabilidades son:"
   ]
  },
  {
   "cell_type": "markdown",
   "id": "d12b883d-e2c3-46a7-808c-51d031cb56f6",
   "metadata": {},
   "source": [
    "a)"
   ]
  },
  {
   "cell_type": "markdown",
   "id": "3d3345c2-1b02-4eed-b97b-79fbe222e0dc",
   "metadata": {},
   "source": [
    "$$\n",
    "p_0 = \\frac{1}{1 + 2a + a^2}\n",
    "$$"
   ]
  },
  {
   "cell_type": "markdown",
   "id": "64d7dbba-160d-4b83-9073-73e38d0c1a36",
   "metadata": {},
   "source": [
    "$$\n",
    "p_1 = \\frac{2a}{1 + 2a + a^2}\n",
    "$$"
   ]
  },
  {
   "cell_type": "markdown",
   "id": "cae9ea86-4c45-4634-8c80-c9d1711a745f",
   "metadata": {},
   "source": [
    "$$\n",
    "p_2 = \\frac{a^2}{1 + 2a + a^2} \n",
    "$$"
   ]
  },
  {
   "cell_type": "markdown",
   "id": "4dd1ffc6-3de2-455b-a992-e7e5acde07b0",
   "metadata": {},
   "source": [
    "b)"
   ]
  },
  {
   "cell_type": "markdown",
   "id": "c78cbfd1-7fc3-41a3-a2d1-9693bb316576",
   "metadata": {},
   "source": [
    "$$\n",
    "p_0 = \\frac{a}{1 + a}\n",
    "$$"
   ]
  },
  {
   "cell_type": "markdown",
   "id": "118aa0bb-5c9b-4e72-a7af-a9d14274de58",
   "metadata": {},
   "source": [
    "$$\n",
    "p_1 = \\frac{\\frac{1}{2}}{1 + a}\n",
    "$$"
   ]
  },
  {
   "cell_type": "markdown",
   "id": "d612ed44-9b46-42f3-83a5-01018c2eefa0",
   "metadata": {},
   "source": [
    "$$\n",
    "p_2 = \\frac{\\frac{1}{2}}{1 + a}\n",
    "$$"
   ]
  },
  {
   "cell_type": "markdown",
   "id": "31ccbc8a-c5b4-4f9e-babd-bdbeb294dcd2",
   "metadata": {},
   "source": [
    "c)"
   ]
  },
  {
   "cell_type": "markdown",
   "id": "db7838b5-44c4-4a7a-a88f-c61e80acb359",
   "metadata": {},
   "source": [
    "$$\n",
    "p_0 = \\frac{1}{1 + a + a^2}\n",
    "$$"
   ]
  },
  {
   "cell_type": "markdown",
   "id": "1c698104-079e-4b00-82df-e65cceab9862",
   "metadata": {},
   "source": [
    "$$\n",
    "p_1 = \\frac{a}{1 + a + a^2}\n",
    "$$"
   ]
  },
  {
   "cell_type": "markdown",
   "id": "04c96ced-35fc-43ab-810e-1bd9d335f1da",
   "metadata": {},
   "source": [
    "$$\n",
    "p_2 = \\frac{a^2}{1 + a + a^2}\n",
    "$$"
   ]
  },
  {
   "cell_type": "markdown",
   "id": "72bd5ddd-aa1d-4f87-97fe-80943541f6c1",
   "metadata": {},
   "source": [
    "d)"
   ]
  },
  {
   "cell_type": "markdown",
   "id": "bf79f39a-2b3a-40dd-a5f3-6035a84db846",
   "metadata": {},
   "source": [
    "$$\n",
    "p_0 = \\frac{\\frac{1}{2}}{1 + 3a}\n",
    "$$"
   ]
  },
  {
   "cell_type": "markdown",
   "id": "cfc8a10a-9b70-470e-a12b-1381acbeb3e0",
   "metadata": {},
   "source": [
    "$$\n",
    "p_1 = \\frac{3a}{1 + 3a}\n",
    "$$"
   ]
  },
  {
   "cell_type": "markdown",
   "id": "2820229f-755c-4194-8a7f-ce2ba15e3f1f",
   "metadata": {},
   "source": [
    "$$\n",
    "p_2 = \\frac{\\frac{1}{2}}{1 + 3a}\n",
    "$$"
   ]
  },
  {
   "cell_type": "markdown",
   "id": "2ed53a13-22e7-4b97-8a0d-59c441f2a2f7",
   "metadata": {},
   "source": [
    "e) Ninguna de las opciones"
   ]
  },
  {
   "cell_type": "markdown",
   "id": "b82c0871-3883-4a70-82f2-5f4e472f0dc6",
   "metadata": {},
   "source": [
    "Como no es un caso teorico, no podemos usar las ecuaciones teoricas, tenemos que resolverlo usando Markov."
   ]
  },
  {
   "cell_type": "code",
   "execution_count": null,
   "id": "ee2deb76-5b63-4345-98c0-e1266b397624",
   "metadata": {},
   "outputs": [],
   "source": []
  }
 ],
 "metadata": {
  "kernelspec": {
   "display_name": "Python 3 (ipykernel)",
   "language": "python",
   "name": "python3"
  },
  "language_info": {
   "codemirror_mode": {
    "name": "ipython",
    "version": 3
   },
   "file_extension": ".py",
   "mimetype": "text/x-python",
   "name": "python",
   "nbconvert_exporter": "python",
   "pygments_lexer": "ipython3",
   "version": "3.11.1"
  }
 },
 "nbformat": 4,
 "nbformat_minor": 5
}
