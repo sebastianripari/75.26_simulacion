{
 "cells": [
  {
   "cell_type": "markdown",
   "id": "0b1947bf-680a-49b8-895d-9fdeca330daf",
   "metadata": {},
   "source": [
    "Dado un sistema de cola representado por la siguiente cadenad de Markov, donde $\\lambda$ es proporcional a la tasa de arribos de un proceso de Poisson, $\\mu$ es proporcional a la tasa de servicio con tiempos distribuidos exponencialmente, y donde cada nodo representa el numero de trabajos N en el sistema."
   ]
  },
  {
   "cell_type": "markdown",
   "id": "24ed29dc-2025-40f2-81ee-c89e14c3c661",
   "metadata": {},
   "source": [
    "<img src=\"imagenes/markov.png\" width=\"300\" />"
   ]
  },
  {
   "cell_type": "markdown",
   "id": "f5beda2e-9fab-41f5-9325-45558b1696bd",
   "metadata": {},
   "source": [
    "Indique con un circulo la respuesta correcta (solo una) a cada una de las preguntas a continuacion (cada respuesta vale 5 puntos)"
   ]
  },
  {
   "cell_type": "markdown",
   "id": "c987cea7-a741-4ce2-bdc7-e99e239674ac",
   "metadata": {},
   "source": [
    "<hr>"
   ]
  },
  {
   "cell_type": "markdown",
   "id": "651b58a7-4f7b-4f98-838d-86dc790f4e78",
   "metadata": {},
   "source": [
    "#### 1) El sistema se trata de una cola tipo:"
   ]
  },
  {
   "cell_type": "markdown",
   "id": "1a7c15e4-4cc5-4aef-8195-97726bdecc8f",
   "metadata": {},
   "source": [
    "a) M/M/2/2 <br>\n",
    "b) M/M/1/2 <br>\n",
    "c) M/M/Infinito <br>\n",
    "d) M/M/1 <br>\n",
    "e) Ninguna de las opciones"
   ]
  },
  {
   "cell_type": "markdown",
   "id": "69954abf-38be-4670-a013-b2904ed9fdcb",
   "metadata": {},
   "source": [
    "Viendo el diagrama de markov, vemos que el sistema tiene una capacidad de 2, y viendo las transiciones de 2 a 1 y 1 a 0, que son con probabilidad 2\\mu y \\mu vemos que el sistema tiene dos canales de atencion, pero como tambien vemos que la tasa de arribos cambia dependiendo de las transiciones, entonces concluimos que es un sistema que no se corresponde con ninguna cola estudiada teoricamente, por lo tanto la respeusta es la (e)"
   ]
  },
  {
   "cell_type": "markdown",
   "id": "1d1c6948-7fae-49d6-900e-9dd3447afe3f",
   "metadata": {},
   "source": [
    "<hr>"
   ]
  },
  {
   "cell_type": "markdown",
   "id": "132f7814-8534-412b-8a58-e7f894c86f59",
   "metadata": {},
   "source": [
    "#### 2) Si definimos $a = \\frac{\\lambda}{\\mu}$, y asumimos que existe el estado estacionario, las probabilidades son:"
   ]
  },
  {
   "cell_type": "markdown",
   "id": "d12b883d-e2c3-46a7-808c-51d031cb56f6",
   "metadata": {},
   "source": [
    "a)"
   ]
  },
  {
   "cell_type": "markdown",
   "id": "3d3345c2-1b02-4eed-b97b-79fbe222e0dc",
   "metadata": {},
   "source": [
    "$$\n",
    "p_0 = \\frac{1}{1 + 2a + a^2}\n",
    "$$"
   ]
  },
  {
   "cell_type": "markdown",
   "id": "64d7dbba-160d-4b83-9073-73e38d0c1a36",
   "metadata": {},
   "source": [
    "$$\n",
    "p_1 = \\frac{2a}{1 + 2a + a^2}\n",
    "$$"
   ]
  },
  {
   "cell_type": "markdown",
   "id": "cae9ea86-4c45-4634-8c80-c9d1711a745f",
   "metadata": {},
   "source": [
    "$$\n",
    "p_2 = \\frac{a^2}{1 + 2a + a^2} \n",
    "$$"
   ]
  },
  {
   "cell_type": "markdown",
   "id": "4dd1ffc6-3de2-455b-a992-e7e5acde07b0",
   "metadata": {},
   "source": [
    "b)"
   ]
  },
  {
   "cell_type": "markdown",
   "id": "c78cbfd1-7fc3-41a3-a2d1-9693bb316576",
   "metadata": {},
   "source": [
    "$$\n",
    "p_0 = \\frac{a}{1 + a}\n",
    "$$"
   ]
  },
  {
   "cell_type": "markdown",
   "id": "118aa0bb-5c9b-4e72-a7af-a9d14274de58",
   "metadata": {},
   "source": [
    "$$\n",
    "p_1 = \\frac{\\frac{1}{2}}{1 + a}\n",
    "$$"
   ]
  },
  {
   "cell_type": "markdown",
   "id": "d612ed44-9b46-42f3-83a5-01018c2eefa0",
   "metadata": {},
   "source": [
    "$$\n",
    "p_2 = \\frac{\\frac{1}{2}}{1 + a}\n",
    "$$"
   ]
  },
  {
   "cell_type": "markdown",
   "id": "31ccbc8a-c5b4-4f9e-babd-bdbeb294dcd2",
   "metadata": {},
   "source": [
    "c)"
   ]
  },
  {
   "cell_type": "markdown",
   "id": "db7838b5-44c4-4a7a-a88f-c61e80acb359",
   "metadata": {},
   "source": [
    "$$\n",
    "p_0 = \\frac{1}{1 + a + a^2}\n",
    "$$"
   ]
  },
  {
   "cell_type": "markdown",
   "id": "1c698104-079e-4b00-82df-e65cceab9862",
   "metadata": {},
   "source": [
    "$$\n",
    "p_1 = \\frac{a}{1 + a + a^2}\n",
    "$$"
   ]
  },
  {
   "cell_type": "markdown",
   "id": "04c96ced-35fc-43ab-810e-1bd9d335f1da",
   "metadata": {},
   "source": [
    "$$\n",
    "p_2 = \\frac{a^2}{1 + a + a^2}\n",
    "$$"
   ]
  },
  {
   "cell_type": "markdown",
   "id": "72bd5ddd-aa1d-4f87-97fe-80943541f6c1",
   "metadata": {},
   "source": [
    "d)"
   ]
  },
  {
   "cell_type": "markdown",
   "id": "bf79f39a-2b3a-40dd-a5f3-6035a84db846",
   "metadata": {},
   "source": [
    "$$\n",
    "p_0 = \\frac{\\frac{1}{2}}{1 + 3a}\n",
    "$$"
   ]
  },
  {
   "cell_type": "markdown",
   "id": "cfc8a10a-9b70-470e-a12b-1381acbeb3e0",
   "metadata": {},
   "source": [
    "$$\n",
    "p_1 = \\frac{3a}{1 + 3a}\n",
    "$$"
   ]
  },
  {
   "cell_type": "markdown",
   "id": "2820229f-755c-4194-8a7f-ce2ba15e3f1f",
   "metadata": {},
   "source": [
    "$$\n",
    "p_2 = \\frac{\\frac{1}{2}}{1 + 3a}\n",
    "$$"
   ]
  },
  {
   "cell_type": "markdown",
   "id": "2ed53a13-22e7-4b97-8a0d-59c441f2a2f7",
   "metadata": {},
   "source": [
    "e) Ninguna de las opciones"
   ]
  },
  {
   "cell_type": "markdown",
   "id": "b82c0871-3883-4a70-82f2-5f4e472f0dc6",
   "metadata": {},
   "source": [
    "Como no es un caso teorico, no podemos usar las ecuaciones teoricas, tenemos que resolverlo usando Markov. Vamos a plantear la matriz de Markov y encontrar las probabilidades en el sistema estacionario."
   ]
  },
  {
   "cell_type": "markdown",
   "id": "a72e1620-4d97-4015-b0db-0c86cd283994",
   "metadata": {},
   "source": [
    "$$\n",
    "P = \\begin{bmatrix}\n",
    "P_{00} & P_{01} & P_{02} \\\\\n",
    "P_{10} & P_{11} & P_{12} \\\\\n",
    "P_{20} & P_{21} & P_{22} \\\\\n",
    "\\end{bmatrix}\n",
    "$$"
   ]
  },
  {
   "cell_type": "markdown",
   "id": "7585488a-7af5-4dd2-b0c9-e3316b2ccbcb",
   "metadata": {},
   "source": [
    "$P_{ij}$ es la probabilidad de que dado que estoy en <b>i</b> vallamos a <b>j</b>"
   ]
  },
  {
   "cell_type": "markdown",
   "id": "16864a62-57b8-4434-85be-d43ff5f597c8",
   "metadata": {},
   "source": [
    "Completamos los valores mirando el diagrama"
   ]
  },
  {
   "cell_type": "markdown",
   "id": "05c4ff9e-db61-4192-93c0-eb636f59d317",
   "metadata": {},
   "source": [
    "$$\n",
    "P = \\begin{bmatrix}\n",
    "0 & 2\\lambda & 0 \\\\\n",
    "\\mu & 0 & \\lambda \\\\\n",
    "0 & 2\\mu & 0 \\\\\n",
    "\\end{bmatrix}\n",
    "$$"
   ]
  },
  {
   "cell_type": "markdown",
   "id": "941841e0-13b0-4930-8b8e-0bee7fcc4c44",
   "metadata": {},
   "source": [
    "Ahora si buscamos las probabilidades en el estado estacionario:"
   ]
  },
  {
   "cell_type": "markdown",
   "id": "cbd7b7b6-d162-4f37-ae9a-f430aa977190",
   "metadata": {},
   "source": [
    "$$\n",
    "\\vec{\\pi} P = \\vec{\\pi}\n",
    "$$"
   ]
  },
  {
   "cell_type": "markdown",
   "id": "dbeeba2e-1408-4573-b997-ebb5f3c519c4",
   "metadata": {},
   "source": [
    "$$\n",
    "\\pi_0 + \\pi_1 + \\pi_2 = 1\n",
    "$$"
   ]
  },
  {
   "cell_type": "markdown",
   "id": "70f7bdf9-67c8-4189-8819-35d4ffd92316",
   "metadata": {},
   "source": [
    "$$\n",
    "(\\pi_0, \\pi_1, \\pi_2)\n",
    "\\begin{bmatrix}\n",
    "1 - 2\\lambda & 2\\lambda & 0 \\\\\n",
    "\\mu & 1 - (\\lambda + \\mu) & \\lambda \\\\\n",
    "0 & 2\\mu & 1 - 2\\mu \\\\\n",
    "\\end{bmatrix}\n",
    "= (\\pi_0, \\pi_1, \\pi_2)\n",
    "$$"
   ]
  },
  {
   "cell_type": "markdown",
   "id": "867fac3e-146c-423d-b001-2b2d3848e43c",
   "metadata": {},
   "source": [
    "$$\n",
    "\\pi_0 (1 - 2\\lambda) + \\pi_1 \\mu = \\pi_0\n",
    "$$"
   ]
  },
  {
   "cell_type": "markdown",
   "id": "06adeb21-8108-4ded-90af-ba9bf25029da",
   "metadata": {},
   "source": [
    "$$\n",
    "\\pi_0 2 \\lambda + \\pi_1 (1 - (\\lambda + \\mu)) + \\pi_2 2 \\mu = 1\n",
    "$$"
   ]
  },
  {
   "cell_type": "markdown",
   "id": "890b6e26-bee4-422b-ba4f-6a991fa772d0",
   "metadata": {},
   "source": [
    "$$\n",
    "\\pi_1 \\lambda + \\pi_2 (1 - 2\\mu) = \\pi_2\n",
    "$$"
   ]
  },
  {
   "cell_type": "markdown",
   "id": "bef9c4a3-8d2d-4f22-9e0e-222647b1d93c",
   "metadata": {},
   "source": [
    "Entonces:"
   ]
  },
  {
   "cell_type": "markdown",
   "id": "e7705fe5-cb7e-4a0d-98c2-f1eebb9a6a8b",
   "metadata": {},
   "source": [
    "De la primera ecuacion:"
   ]
  },
  {
   "cell_type": "markdown",
   "id": "c299cf3f-53ed-4a3b-9c8e-d9cf77503fd1",
   "metadata": {},
   "source": [
    "$$\n",
    "\\pi_01 - \\pi_0 2\\lambda + \\pi_1 \\mu = \\pi_0\n",
    "$$"
   ]
  },
  {
   "cell_type": "markdown",
   "id": "3614c317-7a2e-4a62-9b4c-1195e4a9d959",
   "metadata": {},
   "source": [
    "$$\n",
    "\\pi_01 - \\pi_0 2\\lambda - \\pi_0 + \\pi_1 \\mu = 0\n",
    "$$"
   ]
  },
  {
   "cell_type": "markdown",
   "id": "41ba868e-c4ba-4ead-9ac7-b42e38a227e4",
   "metadata": {},
   "source": [
    "$$\n",
    "\\pi_0 (1 - 2\\lambda - 1) + \\pi_1 \\mu = 0\n",
    "$$"
   ]
  },
  {
   "cell_type": "markdown",
   "id": "1fd38b99-6790-419c-94b8-296c43acce35",
   "metadata": {},
   "source": [
    "$$\n",
    "\\pi_0 (-2\\lambda) + \\pi_1 \\mu = 0\n",
    "$$"
   ]
  },
  {
   "cell_type": "markdown",
   "id": "0002326f-4987-4a6e-b349-024bd03110d3",
   "metadata": {},
   "source": [
    "$$\n",
    "\\pi_1 \\mu = \\pi_0 2\\lambda\n",
    "$$"
   ]
  },
  {
   "cell_type": "markdown",
   "id": "888649f6-1ac9-4d09-afc4-d59a30c72d82",
   "metadata": {},
   "source": [
    "$$\n",
    "\\pi_1 = \\pi_0 \\frac{2\\lambda}{\\mu}\n",
    "$$"
   ]
  },
  {
   "cell_type": "markdown",
   "id": "a027e804-88ef-434f-ade0-d4fd307a790a",
   "metadata": {},
   "source": [
    "$$\n",
    "\\pi_1 = \\pi_0 2a\n",
    "$$"
   ]
  },
  {
   "cell_type": "markdown",
   "id": "d8b744d7-9e01-4663-81cb-593a63447acb",
   "metadata": {},
   "source": [
    "De la tercera ecuacion:"
   ]
  },
  {
   "cell_type": "markdown",
   "id": "ad44e44d-5801-4681-8972-63391b944a46",
   "metadata": {},
   "source": [
    "$$\n",
    "\\pi_1 \\lambda  = \\pi_2 - \\pi_2 (1 - 2\\mu)\n",
    "$$"
   ]
  },
  {
   "cell_type": "markdown",
   "id": "cf4dbff6-5e69-46c2-98cd-db540a8229ba",
   "metadata": {},
   "source": [
    "$$\n",
    "\\pi_1 \\lambda  = \\pi_2 (1 - (1 - 2\\mu)\n",
    "$$"
   ]
  },
  {
   "cell_type": "markdown",
   "id": "9ce2ee72-eebf-4cf7-8f68-b806f427be21",
   "metadata": {},
   "source": [
    "$$\n",
    "\\pi_1 \\lambda  = \\pi_2 2\\mu\n",
    "$$"
   ]
  },
  {
   "cell_type": "markdown",
   "id": "8ccf9fe2-941e-4057-9721-8e74dcd3f9a3",
   "metadata": {},
   "source": [
    "$$\n",
    "\\pi_2 = \\frac{\\pi_1a}{2}\n",
    "$$"
   ]
  },
  {
   "cell_type": "markdown",
   "id": "62408555-1031-4ac8-94fe-bc48fcfed1cf",
   "metadata": {},
   "source": [
    "$$\n",
    "\\pi_0 + \\pi_0 2a + \\frac{\\pi_1a}{2} = 1\n",
    "$$"
   ]
  },
  {
   "cell_type": "markdown",
   "id": "014d7cc2-ffbe-4cf0-858e-b78f1129e676",
   "metadata": {},
   "source": [
    "$$\n",
    "\\pi_0 + \\pi_0 2a + \\frac{ \\pi_0 2a^2}{2} = 1\n",
    "$$"
   ]
  },
  {
   "cell_type": "markdown",
   "id": "88515c4e-42b5-4c2b-837d-ad5a68cc054f",
   "metadata": {},
   "source": [
    "$$\n",
    "\\pi_0(1 + 2a + a^2) = 1\n",
    "$$"
   ]
  },
  {
   "cell_type": "markdown",
   "id": "4ce20fa6-57bf-4bd8-aea8-8cf0682b3343",
   "metadata": {},
   "source": [
    "$$\n",
    "\\pi_0 = \\frac{1}{1 + 2a + a^2}\n",
    "$$"
   ]
  },
  {
   "cell_type": "markdown",
   "id": "f98adfc8-c05f-429c-8c04-d150439643ee",
   "metadata": {},
   "source": [
    "$$\n",
    "\\pi_1 = \\frac{2a}{1 + 2a + a^2}\n",
    "$$"
   ]
  },
  {
   "cell_type": "markdown",
   "id": "b5c1d0d5-0132-4472-9b84-4cc966371171",
   "metadata": {},
   "source": [
    "$$\n",
    "\\pi_2 = \\frac{a^2}{1 + 2a + a^2}\n",
    "$$"
   ]
  },
  {
   "cell_type": "markdown",
   "id": "e790620f-3b6e-4667-924b-07fd0775f0df",
   "metadata": {},
   "source": [
    "Estas son las probabilidades en el estado estacionario, es decir:"
   ]
  },
  {
   "cell_type": "markdown",
   "id": "24f7cab9-9d47-4a80-87c7-d58734ec4b9a",
   "metadata": {},
   "source": [
    "$$\n",
    "p_0 = \\pi_0 = \\frac{1}{1 + 2a + a^2}\n",
    "$$"
   ]
  },
  {
   "cell_type": "markdown",
   "id": "ad3ccfb7-5fc6-44d0-b695-a9a353446b39",
   "metadata": {},
   "source": [
    "$$\n",
    "p_1 = \\pi_1 = \\frac{2a}{1 + 2a + a^2}\n",
    "$$"
   ]
  },
  {
   "cell_type": "markdown",
   "id": "1830eac9-db7f-4d13-a746-dea0b266b0e9",
   "metadata": {},
   "source": [
    "$$\n",
    "p_2 = \\pi_2 = \\frac{a^2}{1 + 2a + a^2}\n",
    "$$"
   ]
  },
  {
   "cell_type": "markdown",
   "id": "f39f5d8c-7a97-4ebf-ad74-96cd0bd87f89",
   "metadata": {},
   "source": [
    "<hr>"
   ]
  },
  {
   "cell_type": "markdown",
   "id": "675f57e3-fad5-47f0-b0ff-92980872181a",
   "metadata": {},
   "source": [
    "#### 3) Que sucede cuando $\\lambda = \\mu$ en el estado estacionario?"
   ]
  },
  {
   "cell_type": "markdown",
   "id": "8cbe9a83-8ab4-4973-be9f-d38eb24db232",
   "metadata": {},
   "source": [
    "a) El sistema se satura ($p_2 = 1$) <br>\n",
    "b) Los estados son equiprobables. <br>\n",
    "c) La distribucion de probabilidades es estrictamente decreciente. <br>\n",
    "d) La mitad del tiempo el sistema esta en el estado N=1 ($p_1 = 1/2$) <br>\n",
    "e) Ninguna de las opciones."
   ]
  },
  {
   "cell_type": "markdown",
   "id": "80d872f5-a3bc-4ea2-af87-afcaa7c3f016",
   "metadata": {},
   "source": [
    "$$\n",
    "p_0 = \\frac{1}{1 + 2 + 1} = \\frac{1}{4}\n",
    "$$"
   ]
  },
  {
   "cell_type": "markdown",
   "id": "daf93471-05a5-4732-b0e4-71ab2775f4f9",
   "metadata": {},
   "source": [
    "$$\n",
    "p_1 = \\frac{2}{1 + 2 + 1} = \\frac{2}{4} = \\frac{1}{2}\n",
    "$$"
   ]
  },
  {
   "cell_type": "markdown",
   "id": "6d0a488b-cde7-4159-8b57-d4a1ef766a03",
   "metadata": {},
   "source": [
    "$$\n",
    "p_2 = \\frac{1}{1 + 2 + 1} = \\frac{1}{4}\n",
    "$$"
   ]
  },
  {
   "cell_type": "markdown",
   "id": "a6eefb53-91ae-4952-953f-f02d358f60c4",
   "metadata": {},
   "source": [
    "Vemos que la respuesta correcta es la (d)"
   ]
  },
  {
   "cell_type": "markdown",
   "id": "46dcc687-1935-4ccd-a65c-4870957a1a6c",
   "metadata": {},
   "source": [
    "<hr>"
   ]
  },
  {
   "cell_type": "markdown",
   "id": "bc3d4c5b-7937-4950-9539-3c012395ce62",
   "metadata": {},
   "source": [
    "#### 4) Que sucede cuando $\\lambda >> \\mu$?"
   ]
  },
  {
   "cell_type": "markdown",
   "id": "124e2da3-4831-4a55-8ae9-80984a4bb461",
   "metadata": {},
   "source": [
    "a) El sistema se estabiliza en un numero de trabajos N = 2<br>\n",
    "b) Los estados son equiprobables <br>\n",
    "c) No existe estado estacionario<br>\n",
    "d) El numero de trabajos en el sistema tiende a infinito<br>\n",
    "e) Ninguna de las opciones"
   ]
  },
  {
   "cell_type": "markdown",
   "id": "01b44849-7a99-4432-ae1a-4a51021712cb",
   "metadata": {},
   "source": [
    "$\\lambda >> \\mu$ entonces a tiende a infinito"
   ]
  },
  {
   "cell_type": "markdown",
   "id": "c1889d08-981d-48e1-b199-3f47c2ff6cff",
   "metadata": {},
   "source": [
    "$$\n",
    "\\lim_{a \\to \\infty} \\frac{1}{1 + 2a + a^2} = 0\n",
    "$$"
   ]
  },
  {
   "cell_type": "markdown",
   "id": "070db0cc-16d1-4966-9aa5-62afe7d0eee5",
   "metadata": {},
   "source": [
    "$$\n",
    "\\lim_{a \\to \\infty} \\frac{2a}{1 + 2a + a^2} = \\lim_{a \\to \\infty} \\frac{2a}{a(\\frac{1}{a} + 2 + a)} = 0\n",
    "$$"
   ]
  },
  {
   "cell_type": "markdown",
   "id": "0226aa40-c28c-45e9-ac36-a7b78e1afdb0",
   "metadata": {},
   "source": [
    "$$\n",
    "\\lim_{a \\to \\infty} \\frac{a^2}{1 + 2a + a^2} = \\lim_{a \\to \\infty} \\frac{a^2}{a^2(\\frac{1}{a^2} + \\frac{2}{a} + 1)} = 1\n",
    "$$"
   ]
  },
  {
   "cell_type": "markdown",
   "id": "df04db58-4831-4f43-89b8-f6092de1293b",
   "metadata": {},
   "source": [
    "Por lo tanto la respuesta es la (a)"
   ]
  },
  {
   "cell_type": "markdown",
   "id": "48f5bc09-298a-4738-b77f-3e11433f6741",
   "metadata": {},
   "source": [
    "<hr>"
   ]
  },
  {
   "cell_type": "markdown",
   "id": "87853137-da57-4b53-b96a-34678ea3b333",
   "metadata": {},
   "source": [
    "#### 5) Que sucede cuando $\\lambda << \\mu$?"
   ]
  },
  {
   "cell_type": "markdown",
   "id": "b7329e76-00cc-4722-b030-dd6a4bfa9522",
   "metadata": {},
   "source": [
    "a) Los estados son equiprobables <br>\n",
    "b) No existe estado estacionario <br>\n",
    "c) La distribucion de probabilides es estrictamente creciente <br>\n",
    "d) El sistema se estabiliza en un numero de trabajos N = 0 <br>\n",
    "e) Ninguna de las opciones"
   ]
  },
  {
   "cell_type": "markdown",
   "id": "9bd9788b-13ab-4977-a76b-7e73b256c823",
   "metadata": {},
   "source": [
    "$\\lambda << \\mu$ entonces a tiende a 0"
   ]
  },
  {
   "cell_type": "markdown",
   "id": "c9a486fc-51f6-4f92-9900-d460956d0b9c",
   "metadata": {},
   "source": [
    "$$\n",
    "\\lim_{a \\to 0} \\frac{1}{1 + 2a + a^2} = 1\n",
    "$$"
   ]
  },
  {
   "cell_type": "markdown",
   "id": "cdf8141e-3d34-424a-8a51-3fd153a02910",
   "metadata": {},
   "source": [
    "$$\n",
    "\\lim_{a \\to 0} \\frac{2a}{1 + 2a + a^2} = 0\n",
    "$$"
   ]
  },
  {
   "cell_type": "markdown",
   "id": "805150e5-215f-4faf-8b73-87fbf5250e4e",
   "metadata": {},
   "source": [
    "$$\n",
    "\\lim_{a \\to \\infty} \\frac{a^2}{1 + 2a + a^2} = 0\n",
    "$$"
   ]
  },
  {
   "cell_type": "markdown",
   "id": "38c2fdef-362d-4c94-ae8d-6af23822dcb6",
   "metadata": {},
   "source": [
    "Por lo tanto la respuesta es la (d)"
   ]
  },
  {
   "cell_type": "markdown",
   "id": "ee29657d-a31d-4ae5-8c17-ecd58134cd85",
   "metadata": {},
   "source": [
    "<hr>"
   ]
  },
  {
   "cell_type": "markdown",
   "id": "cbe43390-ab3b-4f27-a4cf-65981b735512",
   "metadata": {},
   "source": [
    "#### 6) Si $\\lambda = 2\\mu$. Cuanto vale la probabilidad P(N = 2) en el estacionario?"
   ]
  },
  {
   "cell_type": "markdown",
   "id": "e0c6a357-e5ba-48b8-911f-d52fc316f442",
   "metadata": {},
   "source": [
    "a) 1/9 <br>\n",
    "b) 2/9 <br>\n",
    "c) 1/3 <br>\n",
    "d) 4/9 <br>\n",
    "e) Ninguna de las opciones"
   ]
  },
  {
   "cell_type": "markdown",
   "id": "524576c9-4fec-4d42-894e-b64158e22bb0",
   "metadata": {},
   "source": [
    "Por lo tanto $a = \\frac{\\lambda}{\\mu}$ es $a = \\frac{2\\mu}{\\mu} = 2$"
   ]
  },
  {
   "cell_type": "markdown",
   "id": "c072728e-0e62-4fb3-b389-120610b4f288",
   "metadata": {},
   "source": [
    "$$\n",
    "p_2 = \\frac{2^2}{1 + 2 * 2 + 2^2} = \\frac{4}{1 + 4 + 4} = \\frac{4}{9}\n",
    "$$"
   ]
  },
  {
   "cell_type": "markdown",
   "id": "fb8adbf5-310a-43af-8173-077188cf5017",
   "metadata": {},
   "source": [
    "Por lo tanto la respuesta es la (d)"
   ]
  },
  {
   "cell_type": "markdown",
   "id": "cdbf873a-e4af-4325-a098-12221667a1c2",
   "metadata": {},
   "source": [
    "#### 7) Si $\\mu = 2\\lambda$. Cuanto vale la probabilidad P(N=2) en el estacionario?"
   ]
  },
  {
   "cell_type": "markdown",
   "id": "3394d531-08e6-40e5-83aa-dfb83b1534f4",
   "metadata": {},
   "source": [
    "a) 1/9 <br>\n",
    "b) 2/9 <br>\n",
    "c) 1/3 <br>\n",
    "d) 1/7 <br>\n",
    "e) Ninguna de las opciones"
   ]
  },
  {
   "cell_type": "markdown",
   "id": "c522933d-3ee8-4df0-bdc1-328e70f70a7b",
   "metadata": {},
   "source": [
    "Por lo tanto $a = \\frac{\\lambda}{\\mu}$ es $a = \\frac{\\lambda}{2\\lambda} = \\frac{1}{2}$"
   ]
  },
  {
   "cell_type": "markdown",
   "id": "215ee100-b5e5-46ab-92ee-85311ac53c91",
   "metadata": {},
   "source": [
    "$$\n",
    "p_2 = \\frac{(\\frac{1}{2})^2}{1 + 2 \\frac{1}{2} + \\frac{1}{2}^2} = \\frac{\\frac{1}{4}}{2 + \\frac{1}{4}} = \\frac{\\frac{1}{4}}{\\frac{9}{4}} = \\frac{1}{9}\n",
    "$$"
   ]
  },
  {
   "cell_type": "markdown",
   "id": "8618a392-34c2-419d-834b-d91996267fe7",
   "metadata": {},
   "source": [
    "Por lo tanto la respuesta es la (a)"
   ]
  },
  {
   "cell_type": "code",
   "execution_count": null,
   "id": "d1690a41-b358-4f0f-932f-d2343d502294",
   "metadata": {},
   "outputs": [],
   "source": []
  }
 ],
 "metadata": {
  "kernelspec": {
   "display_name": "Python 3 (ipykernel)",
   "language": "python",
   "name": "python3"
  },
  "language_info": {
   "codemirror_mode": {
    "name": "ipython",
    "version": 3
   },
   "file_extension": ".py",
   "mimetype": "text/x-python",
   "name": "python",
   "nbconvert_exporter": "python",
   "pygments_lexer": "ipython3",
   "version": "3.11.1"
  }
 },
 "nbformat": 4,
 "nbformat_minor": 5
}
