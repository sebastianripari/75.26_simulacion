{
 "cells": [
  {
   "cell_type": "code",
   "execution_count": 19,
   "id": "ce68f777-2fdc-46d3-a3be-c6be49d866ab",
   "metadata": {},
   "outputs": [],
   "source": [
    "import numpy as np"
   ]
  },
  {
   "cell_type": "markdown",
   "id": "cfbb699e-071c-4a25-8ef5-b08a9bd6ee82",
   "metadata": {},
   "source": [
    "Dado el siguiente sistema dinamico con $x(t)$ perteneciente a los reales, tiempo continuo y parametro b perteneciente a los reales."
   ]
  },
  {
   "cell_type": "markdown",
   "id": "240e96a2-9bbd-4798-af80-84abf7284641",
   "metadata": {},
   "source": [
    "$$\n",
    "\\frac{dx}{dt} = x^2 (x + b) + x\n",
    "$$"
   ]
  },
  {
   "cell_type": "markdown",
   "id": "24978bd5-3885-4e3a-bf4d-0a26ea5ec356",
   "metadata": {},
   "source": [
    "Indique con un circulo la respuesta correcta (solo una) a cada una de las preguntas a continuacion (cada respuesta vale 5 puntos)"
   ]
  },
  {
   "cell_type": "markdown",
   "id": "cdff4ff6-ad4e-473c-ac2f-907f688568e6",
   "metadata": {},
   "source": [
    "<hr>"
   ]
  },
  {
   "cell_type": "markdown",
   "id": "5d75ed67-e869-4f78-ae41-d8fb01c85c70",
   "metadata": {},
   "source": [
    "#### 1) Cuantos puntos de equilibrio hay cuando b = 5?"
   ]
  },
  {
   "cell_type": "markdown",
   "id": "6292ccf9-3e05-4a73-8f3f-36d7df4a1000",
   "metadata": {},
   "source": [
    "a) Dos <br>\n",
    "b) Uno <br>\n",
    "c) Cuatro <br>\n",
    "d) Tres <br>\n",
    "e) Ninguna de las opciones."
   ]
  },
  {
   "cell_type": "markdown",
   "id": "b79d65fd-9ab4-4953-b81c-7e9e4ff8144b",
   "metadata": {},
   "source": [
    "$$\n",
    "\\frac{dx}{dt} = x^2 (x + b) + x = x^3 + bx^2 + x\n",
    "$$"
   ]
  },
  {
   "cell_type": "markdown",
   "id": "73898056-f32c-46d2-8780-3f3c43d205b3",
   "metadata": {},
   "source": [
    "Para buscar los puntos de equilibrio, pleanteamos:"
   ]
  },
  {
   "cell_type": "markdown",
   "id": "c682866a-f0fb-4753-9c5c-ea967dce238a",
   "metadata": {},
   "source": [
    "$$\n",
    "\\frac{dx}{dt} = 0\n",
    "$$"
   ]
  },
  {
   "cell_type": "markdown",
   "id": "adbcfb3d-d909-45a9-89cb-fcdc2682a1b3",
   "metadata": {},
   "source": [
    "$$\n",
    "x^3 + bx^2 + x = 0\n",
    "$$"
   ]
  },
  {
   "cell_type": "markdown",
   "id": "a279350c-e581-4ee5-81a6-b27fda1bbb79",
   "metadata": {},
   "source": [
    "Para b = 5"
   ]
  },
  {
   "cell_type": "markdown",
   "id": "24d82a25-3899-4013-af24-d48d8715782a",
   "metadata": {},
   "source": [
    "$$\n",
    "x^3 + 5x^2 + x = 0\n",
    "$$"
   ]
  },
  {
   "cell_type": "markdown",
   "id": "3fd221e1-6d2b-443c-b4f3-89d6c70327e0",
   "metadata": {},
   "source": [
    "Calculamos las raices, de dos formas:"
   ]
  },
  {
   "cell_type": "code",
   "execution_count": 20,
   "id": "eb2525eb-4aae-4392-93b9-0f9a954b6dc3",
   "metadata": {},
   "outputs": [
    {
     "data": {
      "text/plain": [
       "array([-4.79128785, -0.20871215,  0.        ])"
      ]
     },
     "execution_count": 20,
     "metadata": {},
     "output_type": "execute_result"
    }
   ],
   "source": [
    "p = np.poly1d([1, 5, 1, 0])\n",
    "raices = np.roots(p)\n",
    "raices"
   ]
  },
  {
   "cell_type": "markdown",
   "id": "e0d0860f-77b6-41f7-8378-dd88c549c43c",
   "metadata": {},
   "source": [
    "https://www.wolframalpha.com/input?i=x+%5E+3+%2B+5+*+x%5E2+%2B+x+"
   ]
  },
  {
   "cell_type": "markdown",
   "id": "651ebe51-eaa0-41fe-b37b-d3cad09cb652",
   "metadata": {},
   "source": [
    "Vemos que hay 3, por lo tanto hay tres puntos de equilibrio, la respuesta es la (d)"
   ]
  },
  {
   "cell_type": "markdown",
   "id": "70ecf4d6-a45a-434b-9366-f2b0b148de2a",
   "metadata": {},
   "source": [
    "<hr>"
   ]
  },
  {
   "cell_type": "markdown",
   "id": "73b329de-354b-4c65-ad94-0faad9eed55a",
   "metadata": {},
   "source": [
    "#### 2) Cuantos puntos de equilibrio hay cuando b = - 2?"
   ]
  },
  {
   "cell_type": "markdown",
   "id": "030a198f-be97-4abd-a068-b2f3764fd7ab",
   "metadata": {},
   "source": [
    "a) Tres <br>\n",
    "b) Dos <br>\n",
    "c) Uno <br>\n",
    "d) Cuatro <br>\n",
    "e) Ninguna de las opciones."
   ]
  },
  {
   "cell_type": "markdown",
   "id": "1411cfc9-e3f1-4110-8274-666cd4c3842a",
   "metadata": {},
   "source": [
    "$$\n",
    "x^3 - 2x^2 + x = 0\n",
    "$$"
   ]
  },
  {
   "cell_type": "code",
   "execution_count": 24,
   "id": "8c198aa8-3835-4452-8c81-9d7e3e6f4dc0",
   "metadata": {},
   "outputs": [
    {
     "data": {
      "text/plain": [
       "array([1., 1., 0.])"
      ]
     },
     "execution_count": 24,
     "metadata": {},
     "output_type": "execute_result"
    }
   ],
   "source": [
    "p = np.poly1d([1, -2, 1, 0])\n",
    "raices = np.roots(p)\n",
    "raices"
   ]
  },
  {
   "cell_type": "markdown",
   "id": "75664267-e16f-4f10-b1b0-5f925f884384",
   "metadata": {},
   "source": [
    "https://www.wolframalpha.com/input?i=x+%5E+3+-+2+*+x%5E2+%2B+x+"
   ]
  },
  {
   "cell_type": "markdown",
   "id": "74436bc8-185d-479c-a0c4-423277a3aff5",
   "metadata": {},
   "source": [
    "Vemos que hay 2 raices, por lo tanto hay dos puntos de equilibrio, la respuesta es la (b)"
   ]
  },
  {
   "cell_type": "markdown",
   "id": "4534c77a-8057-480d-b93b-82cff511bd0b",
   "metadata": {},
   "source": [
    "<hr>"
   ]
  },
  {
   "cell_type": "markdown",
   "id": "9716705c-4c4c-4577-9000-208aac5c5d35",
   "metadata": {},
   "source": [
    "#### 3) Cuantos puntos de equilibrio hay cuando b = 1?"
   ]
  },
  {
   "cell_type": "markdown",
   "id": "8fe3f5b5-60d7-4fa3-8016-6ed83b942b65",
   "metadata": {},
   "source": [
    "$$\n",
    "x^3 + x^2 + x = 0\n",
    "$$"
   ]
  },
  {
   "cell_type": "code",
   "execution_count": 25,
   "id": "8a213f78-4279-496b-879e-5e01bb9fdae2",
   "metadata": {},
   "outputs": [
    {
     "data": {
      "text/plain": [
       "array([-0.5+0.8660254j, -0.5-0.8660254j,  0. +0.j       ])"
      ]
     },
     "execution_count": 25,
     "metadata": {},
     "output_type": "execute_result"
    }
   ],
   "source": [
    "p = np.poly1d([1, 1, 1, 0])\n",
    "raices = np.roots(p)\n",
    "raices"
   ]
  },
  {
   "cell_type": "markdown",
   "id": "a7059d8b-37ba-47ac-9581-9230a0eed8cc",
   "metadata": {},
   "source": [
    "https://www.wolframalpha.com/input?i=x%5E3+%2B+x%5E2+%2B+x+"
   ]
  },
  {
   "cell_type": "code",
   "execution_count": null,
   "id": "ab4aebc2-b1b3-45fa-b5c3-03c460acbf72",
   "metadata": {},
   "outputs": [],
   "source": []
  }
 ],
 "metadata": {
  "kernelspec": {
   "display_name": "Python 3 (ipykernel)",
   "language": "python",
   "name": "python3"
  },
  "language_info": {
   "codemirror_mode": {
    "name": "ipython",
    "version": 3
   },
   "file_extension": ".py",
   "mimetype": "text/x-python",
   "name": "python",
   "nbconvert_exporter": "python",
   "pygments_lexer": "ipython3",
   "version": "3.11.1"
  }
 },
 "nbformat": 4,
 "nbformat_minor": 5
}
