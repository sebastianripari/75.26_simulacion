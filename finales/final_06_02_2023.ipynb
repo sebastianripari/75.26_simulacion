{
 "cells": [
  {
   "cell_type": "code",
   "execution_count": 19,
   "id": "ce68f777-2fdc-46d3-a3be-c6be49d866ab",
   "metadata": {},
   "outputs": [],
   "source": [
    "import numpy as np"
   ]
  },
  {
   "cell_type": "markdown",
   "id": "cfbb699e-071c-4a25-8ef5-b08a9bd6ee82",
   "metadata": {},
   "source": [
    "Dado el siguiente sistema dinamico con $x(t)$ perteneciente a los reales, tiempo continuo y parametro b perteneciente a los reales."
   ]
  },
  {
   "cell_type": "markdown",
   "id": "240e96a2-9bbd-4798-af80-84abf7284641",
   "metadata": {},
   "source": [
    "$$\n",
    "\\frac{dx}{dt} = x^2 (x + b) + x\n",
    "$$"
   ]
  },
  {
   "cell_type": "markdown",
   "id": "24978bd5-3885-4e3a-bf4d-0a26ea5ec356",
   "metadata": {},
   "source": [
    "Indique con un circulo la respuesta correcta (solo una) a cada una de las preguntas a continuacion (cada respuesta vale 5 puntos)"
   ]
  },
  {
   "cell_type": "markdown",
   "id": "cdff4ff6-ad4e-473c-ac2f-907f688568e6",
   "metadata": {},
   "source": [
    "<hr>"
   ]
  },
  {
   "cell_type": "markdown",
   "id": "5d75ed67-e869-4f78-ae41-d8fb01c85c70",
   "metadata": {},
   "source": [
    "#### 1) Cuantos puntos de equilibrio hay cuando b = 5?"
   ]
  },
  {
   "cell_type": "markdown",
   "id": "6292ccf9-3e05-4a73-8f3f-36d7df4a1000",
   "metadata": {},
   "source": [
    "a) Dos <br>\n",
    "b) Uno <br>\n",
    "c) Cuatro <br>\n",
    "d) Tres <br>\n",
    "e) Ninguna de las opciones."
   ]
  },
  {
   "cell_type": "markdown",
   "id": "b79d65fd-9ab4-4953-b81c-7e9e4ff8144b",
   "metadata": {},
   "source": [
    "$$\n",
    "\\frac{dx}{dt} = x^2 (x + b) + x = x^3 + bx^2 + x\n",
    "$$"
   ]
  },
  {
   "cell_type": "markdown",
   "id": "73898056-f32c-46d2-8780-3f3c43d205b3",
   "metadata": {},
   "source": [
    "Para buscar los puntos de equilibrio, pleanteamos:"
   ]
  },
  {
   "cell_type": "markdown",
   "id": "c682866a-f0fb-4753-9c5c-ea967dce238a",
   "metadata": {},
   "source": [
    "$$\n",
    "\\frac{dx}{dt} = 0\n",
    "$$"
   ]
  },
  {
   "cell_type": "markdown",
   "id": "adbcfb3d-d909-45a9-89cb-fcdc2682a1b3",
   "metadata": {},
   "source": [
    "$$\n",
    "x^3 + bx^2 + x = 0\n",
    "$$"
   ]
  },
  {
   "cell_type": "markdown",
   "id": "a279350c-e581-4ee5-81a6-b27fda1bbb79",
   "metadata": {},
   "source": [
    "Para b = 5"
   ]
  },
  {
   "cell_type": "markdown",
   "id": "24d82a25-3899-4013-af24-d48d8715782a",
   "metadata": {},
   "source": [
    "$$\n",
    "x^3 + 5x^2 + x = 0\n",
    "$$"
   ]
  },
  {
   "cell_type": "markdown",
   "id": "3fd221e1-6d2b-443c-b4f3-89d6c70327e0",
   "metadata": {},
   "source": [
    "Calculamos las raices, de dos formas:"
   ]
  },
  {
   "cell_type": "code",
   "execution_count": 20,
   "id": "eb2525eb-4aae-4392-93b9-0f9a954b6dc3",
   "metadata": {},
   "outputs": [
    {
     "data": {
      "text/plain": [
       "array([-4.79128785, -0.20871215,  0.        ])"
      ]
     },
     "execution_count": 20,
     "metadata": {},
     "output_type": "execute_result"
    }
   ],
   "source": [
    "p = np.poly1d([1, 5, 1, 0])\n",
    "raices = np.roots(p)\n",
    "raices"
   ]
  },
  {
   "cell_type": "markdown",
   "id": "e0d0860f-77b6-41f7-8378-dd88c549c43c",
   "metadata": {},
   "source": [
    "https://www.wolframalpha.com/input?i=x+%5E+3+%2B+5+*+x%5E2+%2B+x+"
   ]
  },
  {
   "cell_type": "markdown",
   "id": "651ebe51-eaa0-41fe-b37b-d3cad09cb652",
   "metadata": {},
   "source": [
    "Vemos que hay 3, por lo tanto hay tres puntos de equilibrio, la respuesta es la (d)"
   ]
  },
  {
   "cell_type": "markdown",
   "id": "70ecf4d6-a45a-434b-9366-f2b0b148de2a",
   "metadata": {},
   "source": [
    "<hr>"
   ]
  },
  {
   "cell_type": "markdown",
   "id": "73b329de-354b-4c65-ad94-0faad9eed55a",
   "metadata": {},
   "source": [
    "#### 2) Cuantos puntos de equilibrio hay cuando b = - 2?"
   ]
  },
  {
   "cell_type": "markdown",
   "id": "030a198f-be97-4abd-a068-b2f3764fd7ab",
   "metadata": {},
   "source": [
    "a) Tres <br>\n",
    "b) Dos <br>\n",
    "c) Uno <br>\n",
    "d) Cuatro <br>\n",
    "e) Ninguna de las opciones."
   ]
  },
  {
   "cell_type": "markdown",
   "id": "1411cfc9-e3f1-4110-8274-666cd4c3842a",
   "metadata": {},
   "source": [
    "$$\n",
    "x^3 - 2x^2 + x = 0\n",
    "$$"
   ]
  },
  {
   "cell_type": "code",
   "execution_count": 24,
   "id": "8c198aa8-3835-4452-8c81-9d7e3e6f4dc0",
   "metadata": {},
   "outputs": [
    {
     "data": {
      "text/plain": [
       "array([1., 1., 0.])"
      ]
     },
     "execution_count": 24,
     "metadata": {},
     "output_type": "execute_result"
    }
   ],
   "source": [
    "p = np.poly1d([1, -2, 1, 0])\n",
    "raices = np.roots(p)\n",
    "raices"
   ]
  },
  {
   "cell_type": "markdown",
   "id": "75664267-e16f-4f10-b1b0-5f925f884384",
   "metadata": {},
   "source": [
    "https://www.wolframalpha.com/input?i=x+%5E+3+-+2+*+x%5E2+%2B+x+"
   ]
  },
  {
   "cell_type": "markdown",
   "id": "74436bc8-185d-479c-a0c4-423277a3aff5",
   "metadata": {},
   "source": [
    "Vemos que hay 2 raices, por lo tanto hay dos puntos de equilibrio, la respuesta es la (b)"
   ]
  },
  {
   "cell_type": "markdown",
   "id": "4534c77a-8057-480d-b93b-82cff511bd0b",
   "metadata": {},
   "source": [
    "<hr>"
   ]
  },
  {
   "cell_type": "markdown",
   "id": "9716705c-4c4c-4577-9000-208aac5c5d35",
   "metadata": {},
   "source": [
    "#### 3) Cuantos puntos de equilibrio hay cuando b = 1?"
   ]
  },
  {
   "cell_type": "markdown",
   "id": "67c092e9-f77f-48a4-8e90-4491239ebe53",
   "metadata": {},
   "source": [
    "a) Tres <br>\n",
    "b) Dos <br>\n",
    "c) Uno <br>\n",
    "d) Cuatro <br>\n",
    "e) Ninguna de las opciones"
   ]
  },
  {
   "cell_type": "markdown",
   "id": "8fe3f5b5-60d7-4fa3-8016-6ed83b942b65",
   "metadata": {},
   "source": [
    "$$\n",
    "x^3 + x^2 + x = 0\n",
    "$$"
   ]
  },
  {
   "cell_type": "code",
   "execution_count": 25,
   "id": "8a213f78-4279-496b-879e-5e01bb9fdae2",
   "metadata": {},
   "outputs": [
    {
     "data": {
      "text/plain": [
       "array([-0.5+0.8660254j, -0.5-0.8660254j,  0. +0.j       ])"
      ]
     },
     "execution_count": 25,
     "metadata": {},
     "output_type": "execute_result"
    }
   ],
   "source": [
    "p = np.poly1d([1, 1, 1, 0])\n",
    "raices = np.roots(p)\n",
    "raices"
   ]
  },
  {
   "cell_type": "markdown",
   "id": "a7059d8b-37ba-47ac-9581-9230a0eed8cc",
   "metadata": {},
   "source": [
    "https://www.wolframalpha.com/input?i=x%5E3+%2B+x%5E2+%2B+x+"
   ]
  },
  {
   "cell_type": "markdown",
   "id": "0b1947bf-680a-49b8-895d-9fdeca330daf",
   "metadata": {},
   "source": [
    "Vemos que hay 3 raices, dos complejas y un real, como el sistema dinamico tiene variables reales, entonces el unico punto fijo es el 0. Porl o tanto la respuesta es la (c)."
   ]
  },
  {
   "cell_type": "markdown",
   "id": "af5b5748-47a0-418d-9daa-f5c9a63bee33",
   "metadata": {},
   "source": [
    "<hr>"
   ]
  },
  {
   "cell_type": "markdown",
   "id": "8c8f07a9-594c-4ed0-bae2-3b63f117e7cd",
   "metadata": {},
   "source": [
    "#### 4) Haga un analisis de bifurcacion respecto del parametro b. Cuantos valores criticos hay?"
   ]
  },
  {
   "cell_type": "markdown",
   "id": "82927d29-c201-471b-8908-8e9a253c1891",
   "metadata": {},
   "source": [
    "a) Dos <br>\n",
    "b) Uno <br>\n",
    "c) Ninguno <br>\n",
    "d) Ninguna de las opciones"
   ]
  },
  {
   "cell_type": "markdown",
   "id": "4d27bd59-0c8c-42b9-ada0-9f91d20e480d",
   "metadata": {},
   "source": [
    "Analisis de bifurcacion:"
   ]
  },
  {
   "cell_type": "markdown",
   "id": "8f5dc938-6e1e-490c-b7bb-87be5360b4de",
   "metadata": {},
   "source": [
    "$$\n",
    "f(x) = x^2 (x + b) + x\n",
    "$$"
   ]
  },
  {
   "cell_type": "markdown",
   "id": "2f91f602-9444-44c5-b2da-da0cd7120269",
   "metadata": {},
   "source": [
    "$$\n",
    "Re(\\frac{df(x_{eq})}{dt}) = 0\n",
    "$$"
   ]
  },
  {
   "cell_type": "markdown",
   "id": "5848e04a-538c-4a30-baae-103c87f6d8a0",
   "metadata": {},
   "source": [
    "$$\n",
    "f(x) = x^3 + x^2b + x\n",
    "$$"
   ]
  },
  {
   "cell_type": "markdown",
   "id": "d21ddb7f-84d9-481a-9569-cfc428fd831d",
   "metadata": {},
   "source": [
    "$$\n",
    "\\frac{df(x)}{dx} = x^3 + x^2b + x\n",
    "$$"
   ]
  },
  {
   "cell_type": "markdown",
   "id": "0196b1b9-8c53-46a4-af7b-919c7b0c27b5",
   "metadata": {},
   "source": [
    "$$\n",
    "\\frac{df(x)}{dx} = 3x^2 + 2xb + 1\n",
    "$$"
   ]
  },
  {
   "cell_type": "markdown",
   "id": "6f6de783-4dac-47c4-8102-2f58d7b72e56",
   "metadata": {},
   "source": [
    "Primero busquemos los puntos de equilibrio:"
   ]
  },
  {
   "cell_type": "markdown",
   "id": "269debff-3f5d-419c-8ea2-454780dd9f3e",
   "metadata": {},
   "source": [
    "https://www.wolframalpha.com/input?i=x%5E2+%28x+%2B+b%29+%2B+x"
   ]
  },
  {
   "cell_type": "markdown",
   "id": "24c08634-6a90-4a09-8386-0e9981da92c4",
   "metadata": {},
   "source": [
    "$$\n",
    "x_1 = 0\n",
    "$$"
   ]
  },
  {
   "cell_type": "markdown",
   "id": "28ecf10a-031a-479a-96c8-ea91a7741845",
   "metadata": {},
   "source": [
    "$$\n",
    "x_2 = \\frac{1}{2} (-\\sqrt{b^2 - 4} - b)\n",
    "$$"
   ]
  },
  {
   "cell_type": "markdown",
   "id": "e9b79f6d-2d1f-49b6-be01-5588954d4015",
   "metadata": {},
   "source": [
    "$$\n",
    "x_3 = \\frac{1}{2} (\\sqrt{b^2 - 4} - b)\n",
    "$$"
   ]
  },
  {
   "cell_type": "markdown",
   "id": "2a018df3-abf8-48ca-867d-f3cc14df645a",
   "metadata": {},
   "source": [
    "Ahora estudiemos la estabilidad de esto puntos de equilibrio:"
   ]
  },
  {
   "cell_type": "markdown",
   "id": "b0aca8c4-8434-45c1-ab79-9b151e891d4d",
   "metadata": {},
   "source": [
    "$$\n",
    "J(x) = \n",
    "\\begin{bmatrix}\n",
    "\\frac{df(x)}{dx}\n",
    "\\end{bmatrix}\n",
    "$$"
   ]
  },
  {
   "cell_type": "markdown",
   "id": "affdb132-b814-47d6-a743-dbd38ebf7ef4",
   "metadata": {},
   "source": [
    "$$\n",
    "J(x) = \n",
    "\\begin{bmatrix}\n",
    "3x^2 + 2bx + 1\n",
    "\\end{bmatrix}\n",
    "$$"
   ]
  },
  {
   "cell_type": "markdown",
   "id": "0391e04d-23bc-418c-b3c4-338642b4be01",
   "metadata": {},
   "source": [
    "Autovalores"
   ]
  },
  {
   "cell_type": "markdown",
   "id": "fc52ed2a-655e-4a83-9d9f-cc6cbe20d861",
   "metadata": {},
   "source": [
    "$$\n",
    "3x^2 + 2bx + 1 - \\lambda = 0\n",
    "$$"
   ]
  },
  {
   "cell_type": "markdown",
   "id": "97676f53-065c-4452-a41e-4bf8613823a8",
   "metadata": {},
   "source": [
    "$x_1 = 0$"
   ]
  },
  {
   "cell_type": "markdown",
   "id": "48ad98d5-72c0-4a08-8b71-af3930111ee3",
   "metadata": {},
   "source": [
    "$$\n",
    "\\lambda = 1\n",
    "$$"
   ]
  },
  {
   "cell_type": "markdown",
   "id": "a6bbff78-002b-4e45-94a6-1c966d693fd4",
   "metadata": {},
   "source": [
    "No cambia su estabilidad dependiendo de b, siempre es es un punto de equilibrio inestable. Por lo tanto para este punto fijo, no hay puntos criticos."
   ]
  },
  {
   "cell_type": "markdown",
   "id": "f6439de0-9e6c-4e19-ae0d-da4863ed358b",
   "metadata": {},
   "source": [
    "$x_2 = \\frac{1}{2} (-\\sqrt{b^2 - 4} - b)$"
   ]
  },
  {
   "cell_type": "markdown",
   "id": "e1f06616-b667-41f1-bf82-a9db5c99fecd",
   "metadata": {},
   "source": [
    "https://www.wolframalpha.com/input?i=3x+%5E+2+%2B+2bx+%2B+1++-+lambda+%3D+0+with+x+%3D+-1%2F2+*+%28%28b%5E2+-+4%29%5E%281%2F2%29+%2B+b%29"
   ]
  },
  {
   "cell_type": "markdown",
   "id": "b4fd821f-1042-459c-b55d-e2ab697a30af",
   "metadata": {},
   "source": [
    "Soluciones $b = 0$ y $b = 2$"
   ]
  },
  {
   "cell_type": "markdown",
   "id": "ca9ec4e4-58fe-4ad0-969e-4b7ccc315362",
   "metadata": {},
   "source": [
    "$x_2 = \\frac{1}{2} (\\sqrt{b^2 - 4} - b)$"
   ]
  },
  {
   "cell_type": "markdown",
   "id": "5ae7aa09-3edf-411d-a99e-4aa214efba6c",
   "metadata": {},
   "source": [
    "https://www.wolframalpha.com/input?i=3x+%5E+2+%2B+2bx+%2B+1++-+lambda+%3D+0+with+x+%3D+1%2F2+*+%28%28b%5E2+-+4%29%5E%281%2F2%29+-+b%29"
   ]
  },
  {
   "cell_type": "markdown",
   "id": "7616d148-50c2-464c-8fc8-610dbd44e503",
   "metadata": {},
   "source": [
    "Soluciones $b = 0$ y $b = 2$"
   ]
  },
  {
   "cell_type": "markdown",
   "id": "10d1339c-df6b-4ada-83eb-92b6a18d8e7a",
   "metadata": {},
   "source": [
    "Por lo tanto la respuesta final es que hay dos valores criticos."
   ]
  },
  {
   "cell_type": "code",
   "execution_count": null,
   "id": "8067476e-d782-46e0-9eb5-3ba28dd272f1",
   "metadata": {},
   "outputs": [],
   "source": []
  }
 ],
 "metadata": {
  "kernelspec": {
   "display_name": "Python 3 (ipykernel)",
   "language": "python",
   "name": "python3"
  },
  "language_info": {
   "codemirror_mode": {
    "name": "ipython",
    "version": 3
   },
   "file_extension": ".py",
   "mimetype": "text/x-python",
   "name": "python",
   "nbconvert_exporter": "python",
   "pygments_lexer": "ipython3",
   "version": "3.11.1"
  }
 },
 "nbformat": 4,
 "nbformat_minor": 5
}
