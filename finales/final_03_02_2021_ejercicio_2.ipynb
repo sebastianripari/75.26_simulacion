{
 "cells": [
  {
   "cell_type": "markdown",
   "id": "d5ce5dea-13af-4bb3-9ddc-c72afd7f47ba",
   "metadata": {},
   "source": [
    "Dado el siguiente sistema dinamico con tiempo continuo t, variable x(t) perteneciente al los reales y paraemtro a > 0:"
   ]
  },
  {
   "cell_type": "markdown",
   "id": "382ee62b-d8aa-46f5-a425-9e2f644f8660",
   "metadata": {},
   "source": [
    "$$\n",
    "\\frac{dx}{dt} = x (x - a) + 5x\n",
    "$$"
   ]
  },
  {
   "cell_type": "markdown",
   "id": "fd794fe0-72b9-4dad-b764-44ccd27ebd20",
   "metadata": {},
   "source": [
    "<hr>"
   ]
  },
  {
   "cell_type": "markdown",
   "id": "cb120d8a-019f-4433-837c-7b1a4beca3c1",
   "metadata": {},
   "source": [
    "#### 1) Para a = 5 y condicion inicial x(0) = 0, el sistema:"
   ]
  },
  {
   "cell_type": "markdown",
   "id": "9caafc64-0558-41c7-b6e7-5d620ed2fdb0",
   "metadata": {},
   "source": [
    "a) x decrecera hasta converger a un punto fijo negativo <br>\n",
    "b) No se apartara de de su estado inicial <br>\n",
    "c) x crecera un poco para luego volver a la condicion inicial <br>\n",
    "d) Ninguna de las opciones <br>\n",
    "e) x crecera tendiendo a +infinito"
   ]
  },
  {
   "cell_type": "markdown",
   "id": "e435d96a-00e5-44f3-935e-1ad7876812fd",
   "metadata": {},
   "source": [
    "$$\n",
    "\\frac{dx}{dt} = x (x - 5) + 5x = x^2 - 5x + 5x = x^2\n",
    "$$"
   ]
  },
  {
   "cell_type": "markdown",
   "id": "0e83ab5b-e819-4c5d-a942-4f7127bcfa51",
   "metadata": {},
   "source": [
    "El unico punto de equilibrio es $x=0$"
   ]
  },
  {
   "cell_type": "markdown",
   "id": "7d70c477-8076-49fc-82bd-648998885a22",
   "metadata": {},
   "source": [
    "Como es un punto de equilibrio si el sistema arranca en 0 va a quedar en cero, entonces la respuesta correcta es la (b)"
   ]
  }
 ],
 "metadata": {
  "kernelspec": {
   "display_name": "Python 3 (ipykernel)",
   "language": "python",
   "name": "python3"
  },
  "language_info": {
   "codemirror_mode": {
    "name": "ipython",
    "version": 3
   },
   "file_extension": ".py",
   "mimetype": "text/x-python",
   "name": "python",
   "nbconvert_exporter": "python",
   "pygments_lexer": "ipython3",
   "version": "3.11.1"
  }
 },
 "nbformat": 4,
 "nbformat_minor": 5
}
