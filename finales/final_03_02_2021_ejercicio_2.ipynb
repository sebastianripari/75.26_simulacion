{
 "cells": [
  {
   "cell_type": "markdown",
   "id": "d5ce5dea-13af-4bb3-9ddc-c72afd7f47ba",
   "metadata": {},
   "source": [
    "Dado el siguiente sistema dinamico con tiempo continuo t, variable x(t) perteneciente al los reales y paraemtro a > 0:"
   ]
  },
  {
   "cell_type": "markdown",
   "id": "382ee62b-d8aa-46f5-a425-9e2f644f8660",
   "metadata": {},
   "source": [
    "$$\n",
    "\\frac{dx}{dt} = x (x - a) + 5x\n",
    "$$"
   ]
  },
  {
   "cell_type": "markdown",
   "id": "fd794fe0-72b9-4dad-b764-44ccd27ebd20",
   "metadata": {},
   "source": [
    "<hr>"
   ]
  },
  {
   "cell_type": "markdown",
   "id": "cb120d8a-019f-4433-837c-7b1a4beca3c1",
   "metadata": {},
   "source": [
    "#### 1) Para a = 5 y condicion inicial x(0) = 0, el sistema:"
   ]
  },
  {
   "cell_type": "markdown",
   "id": "9caafc64-0558-41c7-b6e7-5d620ed2fdb0",
   "metadata": {},
   "source": [
    "a) x decrecera hasta converger a un punto fijo negativo <br>\n",
    "b) No se apartara de de su estado inicial <br>\n",
    "c) x crecera un poco para luego volver a la condicion inicial <br>\n",
    "d) Ninguna de las opciones <br>\n",
    "e) x crecera tendiendo a +infinito"
   ]
  },
  {
   "cell_type": "markdown",
   "id": "e435d96a-00e5-44f3-935e-1ad7876812fd",
   "metadata": {},
   "source": [
    "$$\n",
    "\\frac{dx}{dt} = x (x - 5) + 5x = x^2 - 5x + 5x = x^2\n",
    "$$"
   ]
  },
  {
   "cell_type": "markdown",
   "id": "0e83ab5b-e819-4c5d-a942-4f7127bcfa51",
   "metadata": {},
   "source": [
    "El unico punto de equilibrio es $x=0$"
   ]
  },
  {
   "cell_type": "markdown",
   "id": "7d70c477-8076-49fc-82bd-648998885a22",
   "metadata": {},
   "source": [
    "Como es un punto de equilibrio si el sistema arranca en 0 va a quedar en cero, entonces la respuesta correcta es la (b)"
   ]
  },
  {
   "cell_type": "markdown",
   "id": "34536720-2f0f-4f0a-9eb9-b4443f1ce1d4",
   "metadata": {},
   "source": [
    "#### 2) Puede el sistema manifestar comportamiento caotico?"
   ]
  },
  {
   "cell_type": "markdown",
   "id": "c6b04e90-0c4f-4fbe-8289-70cbea63aebc",
   "metadata": {},
   "source": [
    "Seleccione una: <br>\n",
    "a) No <br>\n",
    "b) Dependiendo del valor del parametro a <br>\n",
    "c) Ninguna de las opciones <br>\n",
    "d) Si <br>\n",
    "e) Dependiendo de la condicion inicial"
   ]
  },
  {
   "cell_type": "markdown",
   "id": "e9f1e5cd-91d4-4bf9-895e-c0c810d946b8",
   "metadata": {},
   "source": [
    "No, porque en variables continuas, solo se comportamiento caotico a partir de 3 dimensiones."
   ]
  },
  {
   "cell_type": "markdown",
   "id": "b90e4a64-bf73-458f-a8fa-f7e6bd89387c",
   "metadata": {},
   "source": [
    "#### 3) Para a = 8 y condicion inicial x(0) = 2.9999999, el sistema evolucionara:"
   ]
  },
  {
   "cell_type": "markdown",
   "id": "61abcf60-5c95-4490-9dbc-11c9e446370f",
   "metadata": {},
   "source": [
    "a) Convergiendo a x = 0 <br>\n",
    "b) Convergiendo a x = 3 <br>\n",
    "c) Ninguna de las opciones <br>\n",
    "d) Convergiendo a x = -3 <br>"
   ]
  },
  {
   "cell_type": "markdown",
   "id": "e9c5b7d2-613c-43e6-a8d9-c1a4358db57a",
   "metadata": {},
   "source": [
    "$$\n",
    "\\frac{dx}{dt} = x (x - 8) + 5x = x^2 - 8x + 5x = x^2 - 3x\n",
    "$$"
   ]
  },
  {
   "cell_type": "markdown",
   "id": "9d83bd55-153d-4ac0-923a-1957f6330bca",
   "metadata": {},
   "source": [
    "Busquemos primero los puntos de equilibrio"
   ]
  },
  {
   "cell_type": "markdown",
   "id": "0d07bd3d-7f7f-4368-b1d0-e412bb1f5487",
   "metadata": {},
   "source": [
    "Estos son $x=0$ y $x=3$"
   ]
  },
  {
   "cell_type": "markdown",
   "id": "5ac50078-204c-4f6e-a3ac-c72bd5bd4e89",
   "metadata": {},
   "source": [
    "Ahora vamos a estudiar la estabilidad de estos puntos de equilibrio."
   ]
  },
  {
   "cell_type": "markdown",
   "id": "106ceaa4-931f-4368-9abf-99fdf6cb0f9a",
   "metadata": {},
   "source": [
    "$$\n",
    "f(x) = x^2 - 3x\n",
    "$$"
   ]
  },
  {
   "cell_type": "markdown",
   "id": "af9685bb-abe9-40d7-828d-f59fd685d729",
   "metadata": {},
   "source": [
    "$$\n",
    "J(x) =\n",
    "\\begin{bmatrix}\n",
    "\\frac{df(x)}{dx}\n",
    "\\end{bmatrix}\n",
    "$$"
   ]
  },
  {
   "cell_type": "markdown",
   "id": "f868ce1a-8891-4f56-8489-fec646bc7314",
   "metadata": {},
   "source": [
    "$$\n",
    "J(x) =\n",
    "\\begin{bmatrix}\n",
    "2x - 3\n",
    "\\end{bmatrix}\n",
    "$$"
   ]
  },
  {
   "cell_type": "markdown",
   "id": "c48d9a50-2c69-486a-aafb-3bd47f707684",
   "metadata": {},
   "source": [
    "$$\n",
    "\\lambda = 2x - 3\n",
    "$$"
   ]
  },
  {
   "cell_type": "markdown",
   "id": "aa611322-0b35-4e49-8d85-3623e532c396",
   "metadata": {},
   "source": [
    "$x=0$"
   ]
  },
  {
   "cell_type": "markdown",
   "id": "49eb9b0e-6bc8-44fb-acb7-f325f766849b",
   "metadata": {},
   "source": [
    "$$\n",
    "\\lambda = -3\n",
    "$$"
   ]
  },
  {
   "cell_type": "markdown",
   "id": "ccde9469-bb77-4950-a5a8-cb8ac64f49d6",
   "metadata": {},
   "source": [
    "$\\lambda > 0$ por lo tanto es estable"
   ]
  },
  {
   "cell_type": "markdown",
   "id": "ebe4d031-c2a7-4298-b6f0-4b0743729a9f",
   "metadata": {},
   "source": [
    "$x = 3$"
   ]
  },
  {
   "cell_type": "markdown",
   "id": "562274d9-8f9f-4d08-902b-c6b959f37157",
   "metadata": {},
   "source": [
    "$$\n",
    "\\lambda = 3\n",
    "$$"
   ]
  },
  {
   "cell_type": "markdown",
   "id": "4e17c2e9-5fc7-4733-8b1a-176d743a8601",
   "metadata": {},
   "source": [
    "$\\lambda > 0$ por lo tanto es inestable"
   ]
  },
  {
   "cell_type": "markdown",
   "id": "9323b3f8-4eda-431f-991e-4e3d4b107cb2",
   "metadata": {},
   "source": [
    "Punto de Equilibrio|Estabilidad\n",
    "-|-\n",
    "x = 0|Estable\n",
    "x = 3|Inestable"
   ]
  },
  {
   "cell_type": "markdown",
   "id": "db8bc96f-13e0-4db3-99cd-f8b7cee7114c",
   "metadata": {},
   "source": [
    "Por lo tanto si el sistema arranca en $2.999$, como en $x=3$ hay un punto de equilibrio inestable, lo va a repeler, llevandolo al atractor que esta en $x=0$"
   ]
  },
  {
   "cell_type": "code",
   "execution_count": null,
   "id": "45b54c9f-51c2-4e70-990f-ffd4902a1a7c",
   "metadata": {},
   "outputs": [],
   "source": []
  }
 ],
 "metadata": {
  "kernelspec": {
   "display_name": "Python 3 (ipykernel)",
   "language": "python",
   "name": "python3"
  },
  "language_info": {
   "codemirror_mode": {
    "name": "ipython",
    "version": 3
   },
   "file_extension": ".py",
   "mimetype": "text/x-python",
   "name": "python",
   "nbconvert_exporter": "python",
   "pygments_lexer": "ipython3",
   "version": "3.11.1"
  }
 },
 "nbformat": 4,
 "nbformat_minor": 5
}
