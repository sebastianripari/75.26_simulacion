{
 "cells": [
  {
   "cell_type": "markdown",
   "id": "3dd8d72b",
   "metadata": {},
   "source": [
    "Se desea simular un proceso de Poisson $T_i$ con una tasa de arribos $\\lambda=0.5/seg$."
   ]
  },
  {
   "cell_type": "markdown",
   "id": "b7472a81",
   "metadata": {},
   "source": [
    "<b>Nota</b>: $T_i$ (con i 1,2,...) son los instantes de tiempo en los que arriban cada uno de los eventos."
   ]
  },
  {
   "cell_type": "markdown",
   "id": "929f5d59",
   "metadata": {},
   "source": [
    "#### 1) Considere las probabilidades P(A): probabilidad que ocurran 3 eventos en el intervalo [0.0, 2.5] seg y P(B): probabilidad de que ocurran 3 eventos en el intervalo [4.5, 7.0] seg. Elija la respuesta correcta."
   ]
  },
  {
   "cell_type": "markdown",
   "id": "0acda998",
   "metadata": {},
   "source": [
    "a) P(A) = P(B) <br>\n",
    "b) Ninguna de las opciones <br>\n",
    "c) P(A) = 2 P(B) <br>\n",
    "d) P(A) < P(B)"
   ]
  },
  {
   "cell_type": "markdown",
   "id": "822ac2bc",
   "metadata": {},
   "source": [
    "<b>P(A)</b>: Probabilidad de que ocurran 3 eventos en el intervalo [0.0, 2.5]"
   ]
  },
  {
   "cell_type": "markdown",
   "id": "12a4bec1",
   "metadata": {},
   "source": [
    "<b>P(B)</b>: Probabilidad de que ocurran 3 eventos en el intervalo [4.5, 7.0]"
   ]
  },
  {
   "cell_type": "markdown",
   "id": "ca937cf0",
   "metadata": {},
   "source": [
    "En ambos casos el intervalo es el mismo, por lo tanto la probabilidad que se calcula de la siguiente manera es lo mismo."
   ]
  },
  {
   "cell_type": "markdown",
   "id": "4262301f",
   "metadata": {},
   "source": [
    "\\begin{equation}\n",
    "P(N_{(s,t]}=n) = \\frac{e^{-\\lambda (t-s)} (\\lambda (t-s))^n }{n!}\n",
    "\\end{equation}"
   ]
  },
  {
   "cell_type": "markdown",
   "id": "3e5ee32d",
   "metadata": {},
   "source": [
    "Por lo tanto la respuesta correcta es la (a)"
   ]
  },
  {
   "cell_type": "markdown",
   "id": "f63d2c2e",
   "metadata": {},
   "source": [
    "#### 2) Elija el metodo correcto para simular dicho proceso:"
   ]
  },
  {
   "cell_type": "markdown",
   "id": "cf76920d",
   "metadata": {},
   "source": [
    "a) Ninguna de las opciones <br>\n",
    "b) Para cada instante de tiempo i se genera una variable $U_i$ uniformemente distribuida en el intervalo [0, 0.5]seg y se asigna $T_{i + 1} = T_i + U_i$ <br>\n",
    "c) Para cada instante de tiempo i se genera una variable $E_i$ exponencialmente distribuida con media 0.5 seg y se asigna $T_{i + 1} = T_i + E_i$ <br>\n",
    "d) Para cada instante de tiempo i se genera una variable $U_i$ uniformemente distribuida en el intervalo [0,2] seg y se asigna $T_{i+1} = T_i + U_i$ <br>\n",
    "e) Para cada instante de tiempo i se genera una variable $U_i$ uniformemente distribuida en el intervalo [0,4] seg y se asigna $T_{i + 1} = T_i + U_i$ <br>\n",
    "f) Para cada i=1,2... se genera una variable $E_i$ exponencialmente distribuida con varianza 4s^2 y se asigna $T_{i + 1} = T_i + E_i$"
   ]
  },
  {
   "cell_type": "code",
   "execution_count": null,
   "id": "51d23396",
   "metadata": {},
   "outputs": [],
   "source": []
  }
 ],
 "metadata": {
  "kernelspec": {
   "display_name": "Python 3 (ipykernel)",
   "language": "python",
   "name": "python3"
  },
  "language_info": {
   "codemirror_mode": {
    "name": "ipython",
    "version": 3
   },
   "file_extension": ".py",
   "mimetype": "text/x-python",
   "name": "python",
   "nbconvert_exporter": "python",
   "pygments_lexer": "ipython3",
   "version": "3.11.1"
  }
 },
 "nbformat": 4,
 "nbformat_minor": 5
}
