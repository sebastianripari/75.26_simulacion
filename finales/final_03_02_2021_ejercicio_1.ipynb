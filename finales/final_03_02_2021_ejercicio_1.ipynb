{
 "cells": [
  {
   "cell_type": "markdown",
   "id": "3dd8d72b",
   "metadata": {},
   "source": [
    "Se desea simular un proceso de Poisson $T_i$ con una tasa de arribos $\\lambda=0.5/seg$."
   ]
  },
  {
   "cell_type": "markdown",
   "id": "b7472a81",
   "metadata": {},
   "source": [
    "<b>Nota</b>: $T_i$ (con i 1,2,...) son los instantes de tiempo en los que arriban cada uno de los eventos."
   ]
  },
  {
   "cell_type": "markdown",
   "id": "929f5d59",
   "metadata": {},
   "source": [
    "#### 1) Considere las probabilidades P(A): probabilidad que ocurran 3 eventos en el intervalo [0.0, 2.5] seg y P(B): probabilidad de que ocurran 3 eventos en el intervalo [4.5, 7.0] seg. Elija la respuesta correcta."
   ]
  },
  {
   "cell_type": "markdown",
   "id": "0acda998",
   "metadata": {},
   "source": [
    "a) P(A) = P(B) <br>\n",
    "b) Ninguna de las opciones <br>\n",
    "c) P(A) = 2 P(B) <br>\n",
    "d) P(A) < P(B)"
   ]
  },
  {
   "cell_type": "markdown",
   "id": "822ac2bc",
   "metadata": {},
   "source": [
    "<b>P(A)</b>: Probabilidad de que ocurran 3 eventos en el intervalo [0.0, 2.5]"
   ]
  },
  {
   "cell_type": "markdown",
   "id": "12a4bec1",
   "metadata": {},
   "source": [
    "<b>P(B)</b>: Probabilidad de que ocurran 3 eventos en el intervalo [4.5, 7.0]"
   ]
  },
  {
   "cell_type": "markdown",
   "id": "ca937cf0",
   "metadata": {},
   "source": [
    "En ambos casos el intervalo es el mismo, por lo tanto la probabilidad que se calcula de la siguiente manera es lo mismo."
   ]
  },
  {
   "cell_type": "markdown",
   "id": "4262301f",
   "metadata": {},
   "source": [
    "\\begin{equation}\n",
    "P(N_{(s,t]}=n) = \\frac{e^{-\\lambda (t-s)} (\\lambda (t-s))^n }{n!}\n",
    "\\end{equation}"
   ]
  },
  {
   "cell_type": "markdown",
   "id": "3e5ee32d",
   "metadata": {},
   "source": [
    "Por lo tanto la respuesta correcta es la (a)"
   ]
  },
  {
   "cell_type": "markdown",
   "id": "f63d2c2e",
   "metadata": {},
   "source": [
    "#### 2) Elija el metodo correcto para simular dicho proceso:"
   ]
  },
  {
   "cell_type": "markdown",
   "id": "cf76920d",
   "metadata": {},
   "source": [
    "a) Ninguna de las opciones <br>\n",
    "b) Para cada instante de tiempo i se genera una variable $U_i$ uniformemente distribuida en el intervalo [0, 0.5]seg y se asigna $T_{i + 1} = T_i + U_i$ <br>\n",
    "c) Para cada instante de tiempo i se genera una variable $E_i$ exponencialmente distribuida con media 0.5 seg y se asigna $T_{i + 1} = T_i + E_i$ <br>\n",
    "d) Para cada instante de tiempo i se genera una variable $U_i$ uniformemente distribuida en el intervalo [0,2] seg y se asigna $T_{i+1} = T_i + U_i$ <br>\n",
    "e) Para cada instante de tiempo i se genera una variable $U_i$ uniformemente distribuida en el intervalo [0,4] seg y se asigna $T_{i + 1} = T_i + U_i$ <br>\n",
    "f) Para cada i=1,2... se genera una variable $E_i$ exponencialmente distribuida con varianza 4s^2 y se asigna $T_{i + 1} = T_i + E_i$"
   ]
  },
  {
   "cell_type": "markdown",
   "id": "17b5f5a0-1116-4f63-bbc9-baff9b2cb151",
   "metadata": {},
   "source": [
    "$T_i$: instante de tiempo que arriba cada evento"
   ]
  },
  {
   "cell_type": "markdown",
   "id": "8ad5cc4b-69c0-4b66-ae0d-b00eaa1faa99",
   "metadata": {},
   "source": [
    "Ejemplo:"
   ]
  },
  {
   "cell_type": "markdown",
   "id": "8fadacac-2649-4805-bdc2-a42ffd84f43b",
   "metadata": {},
   "source": [
    "$T_1$: instante de tiempo que arriba el evento 1"
   ]
  },
  {
   "cell_type": "markdown",
   "id": "4b71562b-83d2-443a-95db-1299623b3ea5",
   "metadata": {},
   "source": [
    "Para simular este proceso, para cada arribo se genera una variable aleatoria exponencialmente distribuida, de media: $\\frac{1}{\\lambda}$"
   ]
  },
  {
   "cell_type": "markdown",
   "id": "2820a631-9e10-4f97-ad34-7e9d440b414b",
   "metadata": {},
   "source": [
    "Como la tasa es 0.5, entonces la media de la exponencial es 1/0.5, que es 2. Y la varianza es la media al cuadrado por lo tanto es 4."
   ]
  },
  {
   "cell_type": "markdown",
   "id": "e35aea86-6f94-41a7-bdbe-f6b871068978",
   "metadata": {},
   "source": [
    "#### 3) Cual es la probabilidad de que arriben solo 4 eventos en el intervalo [0, 2.5] seg, distribuidos de la siguiente forma: 1 evento en el intervalo [0,1]seg y 3 eventos en el intervalo [2, 2.5] seg? Seleccione una:"
   ]
  },
  {
   "cell_type": "markdown",
   "id": "aeab09fb-9095-489c-bc25-9d552417228a",
   "metadata": {},
   "source": [
    "a) 0.000615 <br>\n",
    "b) 0.001522 <br>\n",
    "c) 0.557333 <br>\n",
    "d) 0.000373"
   ]
  },
  {
   "cell_type": "markdown",
   "id": "b2fe2d5a-3f26-49e4-9044-b20b822d339f",
   "metadata": {},
   "source": [
    "$$\n",
    "p = P(N_{(0, 1.0]} = 1) * P(N_{(1.0, 2.0]} = 0) * P(N_{(2.0, 2.5]} = 3)\n",
    "$$"
   ]
  },
  {
   "cell_type": "markdown",
   "id": "063dee78-7424-49b7-a1d3-a3d8213f643d",
   "metadata": {},
   "source": [
    "$$\n",
    "P(N_{(0, 1.0]} = 1) = \\frac{e^{-0.5 * 1} (0.5 * 1)^1 }{1!} = e^{-0.5} * 0.5\n",
    "$$"
   ]
  },
  {
   "cell_type": "markdown",
   "id": "00262304-8b43-489b-bbba-3cfaeb19c8fc",
   "metadata": {},
   "source": [
    "$$\n",
    "P(N_{(1.0, 2.0]} = 0) = \\frac{e^{-0.5 * 1} (0.5 * 1)^0 }{0!} = e^{-0.5}\n",
    "$$"
   ]
  },
  {
   "cell_type": "markdown",
   "id": "a1152424-f22c-4f14-9dc0-424197487453",
   "metadata": {},
   "source": [
    "$$\n",
    "P(N_{(2.0, 2.5]} = 3) = \\frac{e^{-0.5 * 0.5} (0.5 * 0.5)^3 }{3!}\n",
    "$$"
   ]
  },
  {
   "cell_type": "markdown",
   "id": "1d79a8bf-e82f-43ab-877c-297e4ec27eec",
   "metadata": {},
   "source": [
    "https://www.wolframalpha.com/input?i=%28e%5E%7B-0.5%7D+*+0.5%29+*+%28e%5E%7B-0.5%7D%29+*+%28%5Cfrac%7Be%5E%7B-0.5+*+0.5%7D+%280.5+*+0.5%29%5E3+%7D%7B3%21%7D%29"
   ]
  },
  {
   "cell_type": "markdown",
   "id": "586efd98-6aa4-4a0a-b0a9-da0bc95af8cd",
   "metadata": {},
   "source": [
    "$$\n",
    "p = 0.000373053\n",
    "$$"
   ]
  },
  {
   "cell_type": "markdown",
   "id": "6a496887-0f84-4e19-9f44-39433cb23bfa",
   "metadata": {},
   "source": [
    "#### 4) Cual es la probabilidad de que entre el tercer y cuarto evento transcurran mas de 2 segundos?"
   ]
  },
  {
   "cell_type": "markdown",
   "id": "549b762e-df57-45a1-ad8f-659ade508e46",
   "metadata": {},
   "source": [
    "a) 0.857 <br>\n",
    "b) 0.632 <br>\n",
    "c) 0.111 <br>\n",
    "d) 0.368"
   ]
  },
  {
   "cell_type": "markdown",
   "id": "d66f1564-bcf0-4f9a-b185-e4c62af8a667",
   "metadata": {},
   "source": [
    "Aca usaremos la propiedad de que en un proceso de Poisson, los eventos son independientes Entonces hablar del tercer o cuarto, se reduce a pedir que entre dos eventos cualesquiera, transcurran mas de 2 segundos."
   ]
  },
  {
   "cell_type": "markdown",
   "id": "744e18fa-9522-49cf-96cd-8860c0370336",
   "metadata": {},
   "source": [
    "Es lo mismo que pedir que en dos segundos no halla ningun evento."
   ]
  },
  {
   "cell_type": "markdown",
   "id": "8ce94708-1a41-4ea3-b30d-23750f6d01e2",
   "metadata": {},
   "source": [
    "$$\n",
    "p = P(N_{(0, 2.0]} = 0)\n",
    "$$"
   ]
  },
  {
   "cell_type": "markdown",
   "id": "7677d228-3fb9-4024-a574-d61009dd0680",
   "metadata": {},
   "source": [
    "\\begin{equation}\n",
    "p = P(N_{(0,2.0]}=0) = \\frac{e^{-0.5 * 2} (0.5 * 2)^0 }{0!}\n",
    "\\end{equation}"
   ]
  },
  {
   "cell_type": "markdown",
   "id": "f8d15811-8c6a-4a2b-a7d2-ed980e5fc266",
   "metadata": {},
   "source": [
    "https://www.wolframalpha.com/input?i=%5Cfrac%7Be%5E%7B-0.5+*+2%7D+%280.5+*+2%29%5E0+%7D%7B0%21%7D"
   ]
  },
  {
   "cell_type": "markdown",
   "id": "f166957f-3df1-414a-9226-4a47acb53b0f",
   "metadata": {},
   "source": [
    "$$\n",
    "p = 0.367879\n",
    "$$"
   ]
  },
  {
   "cell_type": "code",
   "execution_count": null,
   "id": "a49a36b9-0ce8-4105-b487-4f9703fabd0e",
   "metadata": {},
   "outputs": [],
   "source": []
  }
 ],
 "metadata": {
  "kernelspec": {
   "display_name": "Python 3 (ipykernel)",
   "language": "python",
   "name": "python3"
  },
  "language_info": {
   "codemirror_mode": {
    "name": "ipython",
    "version": 3
   },
   "file_extension": ".py",
   "mimetype": "text/x-python",
   "name": "python",
   "nbconvert_exporter": "python",
   "pygments_lexer": "ipython3",
   "version": "3.11.1"
  }
 },
 "nbformat": 4,
 "nbformat_minor": 5
}
