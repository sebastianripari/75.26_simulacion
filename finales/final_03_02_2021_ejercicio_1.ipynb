{
 "cells": [
  {
   "cell_type": "markdown",
   "id": "3dd8d72b",
   "metadata": {},
   "source": [
    "Se desea simular un proceso de Poisson $T_i$ con una tasa de arribos $\\lambda=0.5/seg$."
   ]
  },
  {
   "cell_type": "markdown",
   "id": "b7472a81",
   "metadata": {},
   "source": [
    "<b>Nota</b>: $T_i$ (con i 1,2,...) son los instantes de tiempo en los que arriban cada uno de los eventos."
   ]
  },
  {
   "cell_type": "markdown",
   "id": "929f5d59",
   "metadata": {},
   "source": [
    "#### 1) Considere las probabilidades P(A): probabilidad que ocurran 3 eventos en el intervalo [0.0, 2.5] seg y P(B): probabilidad de que ocurran 3 eventos en el intervalo [4.5, 7.0] seg. Elija la respuesta correcta."
   ]
  },
  {
   "cell_type": "markdown",
   "id": "0acda998",
   "metadata": {},
   "source": [
    "a) P(A) = P(B) <br>\n",
    "b) Ninguna de las opciones <br>\n",
    "c) P(A) = 2 P(B) <br>\n",
    "d) P(A) < P(B)"
   ]
  },
  {
   "cell_type": "markdown",
   "id": "822ac2bc",
   "metadata": {},
   "source": [
    "<b>P(A)</b>: Probabilidad de que ocurran 3 eventos en el intervalo [0.0, 2.5]"
   ]
  },
  {
   "cell_type": "markdown",
   "id": "12a4bec1",
   "metadata": {},
   "source": [
    "<b>P(B)</b>: Probabilidad de que ocurran 3 eventos en el intervalo [4.5, 7.0]"
   ]
  },
  {
   "cell_type": "markdown",
   "id": "ca937cf0",
   "metadata": {},
   "source": [
    "En ambos casos el intervalo es el mismo, por lo tanto la probabilidad que se calcula de la siguiente manera es lo mismo."
   ]
  },
  {
   "cell_type": "markdown",
   "id": "4262301f",
   "metadata": {},
   "source": [
    "\\begin{equation}\n",
    "P(N_{(s,t]}=n) = \\frac{e^{-\\lambda (t-s)} (\\lambda (t-s))^n }{n!}\n",
    "\\end{equation}"
   ]
  },
  {
   "cell_type": "markdown",
   "id": "3e5ee32d",
   "metadata": {},
   "source": [
    "Por lo tanto la respuesta correcta es la (a)"
   ]
  },
  {
   "cell_type": "markdown",
   "id": "f63d2c2e",
   "metadata": {
    "tags": []
   },
   "source": [
    "#### 2) Elija el metodo correcto para simular dicho proceso:"
   ]
  },
  {
   "cell_type": "markdown",
   "id": "cf76920d",
   "metadata": {},
   "source": [
    "a) Ninguna de las opciones <br>\n",
    "b) Para cada instante de tiempo i se genera una variable $U_i$ uniformemente distribuida en el intervalo [0, 0.5]seg y se asigna $T_{i + 1} = T_i + U_i$ <br>\n",
    "c) Para cada instante de tiempo i se genera una variable $E_i$ exponencialmente distribuida con media 0.5 seg y se asigna $T_{i + 1} = T_i + E_i$ <br>\n",
    "d) Para cada instante de tiempo i se genera una variable $U_i$ uniformemente distribuida en el intervalo [0,2] seg y se asigna $T_{i+1} = T_i + U_i$ <br>\n",
    "e) Para cada instante de tiempo i se genera una variable $U_i$ uniformemente distribuida en el intervalo [0,4] seg y se asigna $T_{i + 1} = T_i + U_i$ <br>\n",
    "f) Para cada i=1,2... se genera una variable $E_i$ exponencialmente distribuida con varianza 4s^2 y se asigna $T_{i + 1} = T_i + E_i$"
   ]
  },
  {
   "cell_type": "markdown",
   "id": "17b5f5a0-1116-4f63-bbc9-baff9b2cb151",
   "metadata": {},
   "source": [
    "$T_i$: instante de tiempo que arriba cada evento"
   ]
  },
  {
   "cell_type": "markdown",
   "id": "8ad5cc4b-69c0-4b66-ae0d-b00eaa1faa99",
   "metadata": {},
   "source": [
    "Ejemplo:"
   ]
  },
  {
   "cell_type": "markdown",
   "id": "8fadacac-2649-4805-bdc2-a42ffd84f43b",
   "metadata": {},
   "source": [
    "$T_1$: instante de tiempo que arriba el evento 1"
   ]
  },
  {
   "cell_type": "markdown",
   "id": "4b71562b-83d2-443a-95db-1299623b3ea5",
   "metadata": {},
   "source": [
    "Para simular este proceso, para cada arribo se genera una variable aleatoria exponencialmente distribuida, de media: $\\frac{1}{\\lambda}$"
   ]
  },
  {
   "cell_type": "markdown",
   "id": "2820a631-9e10-4f97-ad34-7e9d440b414b",
   "metadata": {},
   "source": [
    "Como la tasa es 0.5, entonces la media de la exponencial es 1/0.5, que es 2. Y la varianza es la media al cuadrado por lo tanto es 4."
   ]
  },
  {
   "cell_type": "markdown",
   "id": "e35aea86-6f94-41a7-bdbe-f6b871068978",
   "metadata": {
    "tags": []
   },
   "source": [
    "#### 3) Cual es la probabilidad de que arriben solo 4 eventos en el intervalo [0, 2.5] seg, distribuidos de la siguiente forma: 1 evento en el intervalo [0,1]seg y 3 eventos en el intervalo [2, 2.5] seg? Seleccione una:"
   ]
  },
  {
   "cell_type": "markdown",
   "id": "aeab09fb-9095-489c-bc25-9d552417228a",
   "metadata": {},
   "source": [
    "a) 0.000615 <br>\n",
    "b) 0.001522 <br>\n",
    "c) 0.557333 <br>\n",
    "d) 0.000373"
   ]
  },
  {
   "cell_type": "markdown",
   "id": "b2fe2d5a-3f26-49e4-9044-b20b822d339f",
   "metadata": {},
   "source": [
    "$$\n",
    "p = P(N_{(0, 1.0]} = 1) * P(N_{(1.0, 2.0]} = 0) * P(N_{(2.0, 2.5]} = 3)\n",
    "$$"
   ]
  },
  {
   "cell_type": "markdown",
   "id": "063dee78-7424-49b7-a1d3-a3d8213f643d",
   "metadata": {},
   "source": [
    "$$\n",
    "P(N_{(0, 1.0]} = 1) = \\frac{e^{-0.5 * 1} (0.5 * 1)^1 }{1!} = e^{-0.5} * 0.5\n",
    "$$"
   ]
  },
  {
   "cell_type": "markdown",
   "id": "00262304-8b43-489b-bbba-3cfaeb19c8fc",
   "metadata": {},
   "source": [
    "$$\n",
    "P(N_{(1.0, 2.0]} = 0) = \\frac{e^{-0.5 * 1} (0.5 * 1)^0 }{0!} = e^{-0.5}\n",
    "$$"
   ]
  },
  {
   "cell_type": "markdown",
   "id": "a1152424-f22c-4f14-9dc0-424197487453",
   "metadata": {},
   "source": [
    "$$\n",
    "P(N_{(2.0, 2.5]} = 3) = \\frac{e^{-0.5 * 0.5} (0.5 * 0.5)^3 }{3!}\n",
    "$$"
   ]
  },
  {
   "cell_type": "markdown",
   "id": "1d79a8bf-e82f-43ab-877c-297e4ec27eec",
   "metadata": {},
   "source": [
    "https://www.wolframalpha.com/input?i=%28e%5E%7B-0.5%7D+*+0.5%29+*+%28e%5E%7B-0.5%7D%29+*+%28%5Cfrac%7Be%5E%7B-0.5+*+0.5%7D+%280.5+*+0.5%29%5E3+%7D%7B3%21%7D%29"
   ]
  },
  {
   "cell_type": "markdown",
   "id": "586efd98-6aa4-4a0a-b0a9-da0bc95af8cd",
   "metadata": {},
   "source": [
    "$$\n",
    "p = 0.000373053\n",
    "$$"
   ]
  },
  {
   "cell_type": "markdown",
   "id": "6a496887-0f84-4e19-9f44-39433cb23bfa",
   "metadata": {
    "tags": []
   },
   "source": [
    "#### 4) Cual es la probabilidad de que entre el tercer y cuarto evento transcurran mas de 2 segundos?"
   ]
  },
  {
   "cell_type": "markdown",
   "id": "549b762e-df57-45a1-ad8f-659ade508e46",
   "metadata": {},
   "source": [
    "a) 0.857 <br>\n",
    "b) 0.632 <br>\n",
    "c) 0.111 <br>\n",
    "d) 0.368"
   ]
  },
  {
   "cell_type": "markdown",
   "id": "d66f1564-bcf0-4f9a-b185-e4c62af8a667",
   "metadata": {},
   "source": [
    "Aca usaremos la propiedad de que en un proceso de Poisson, los eventos son independientes, entonces hablar del tercer o cuarto, se reduce a pedir que entre dos eventos cualesquiera, transcurran mas de 2 segundos."
   ]
  },
  {
   "cell_type": "markdown",
   "id": "744e18fa-9522-49cf-96cd-8860c0370336",
   "metadata": {},
   "source": [
    "Que es lo mismo que pedir que en dos segundos no halla ningun evento."
   ]
  },
  {
   "cell_type": "markdown",
   "id": "8ce94708-1a41-4ea3-b30d-23750f6d01e2",
   "metadata": {},
   "source": [
    "$$\n",
    "p = P(N_{(0, 2.0]} = 0)\n",
    "$$"
   ]
  },
  {
   "cell_type": "markdown",
   "id": "7677d228-3fb9-4024-a574-d61009dd0680",
   "metadata": {},
   "source": [
    "\\begin{equation}\n",
    "p = P(N_{(0,2.0]}=0) = \\frac{e^{-0.5 * 2} (0.5 * 2)^0 }{0!}\n",
    "\\end{equation}"
   ]
  },
  {
   "cell_type": "markdown",
   "id": "f8d15811-8c6a-4a2b-a7d2-ed980e5fc266",
   "metadata": {},
   "source": [
    "https://www.wolframalpha.com/input?i=%5Cfrac%7Be%5E%7B-0.5+*+2%7D+%280.5+*+2%29%5E0+%7D%7B0%21%7D"
   ]
  },
  {
   "cell_type": "markdown",
   "id": "f166957f-3df1-414a-9226-4a47acb53b0f",
   "metadata": {},
   "source": [
    "$$\n",
    "p = 0.367879\n",
    "$$"
   ]
  },
  {
   "cell_type": "markdown",
   "id": "beed09ea-c93a-4cc0-815c-a02661f6ca7c",
   "metadata": {
    "tags": []
   },
   "source": [
    "#### 5) Cual es la probabilidad de que no haya arribos durante un periodo de longitud 2 segundos?"
   ]
  },
  {
   "cell_type": "markdown",
   "id": "61d57b9f-e215-4904-b6ab-9f2727c93596",
   "metadata": {},
   "source": [
    "a) 0.368 <br>\n",
    "b) 0.111 <br>\n",
    "c) 0.857 <br>\n",
    "d) 0.638"
   ]
  },
  {
   "cell_type": "markdown",
   "id": "6027ea1f-c5b4-4fac-a266-ba05e3d3c668",
   "metadata": {},
   "source": [
    "Por lo mismo que el item anterior, es la (a)"
   ]
  },
  {
   "cell_type": "markdown",
   "id": "fcf28f14-1488-4bf9-8268-e846a90fe3a6",
   "metadata": {},
   "source": [
    "#### 6) Cual es la probabilidad de que entre el cuarto y quinto evento transcurran menos de 1 segundo?"
   ]
  },
  {
   "cell_type": "markdown",
   "id": "12ac9b10-d500-495c-ba9b-40802c3fa3a7",
   "metadata": {},
   "source": [
    "a) 0.3935 <br>\n",
    "b) 0.111 <br>\n",
    "c) 0.6065 <br>\n",
    "d) 0.857"
   ]
  },
  {
   "cell_type": "markdown",
   "id": "1a943cc4-1706-4e8e-82e2-1570671ae8f7",
   "metadata": {},
   "source": [
    "Por la independencia de eventos, se traduce a pedir que entre dos eventos pase menos de 1 segundo, esto se calcula:"
   ]
  },
  {
   "cell_type": "markdown",
   "id": "d3a32ce2-eb36-49d6-8121-c8d78f01bc4a",
   "metadata": {},
   "source": [
    "T: tiempo hasta que transcurra el siguiente evento"
   ]
  },
  {
   "cell_type": "markdown",
   "id": "7fdf52d7-5995-4e1c-9e85-f64ce16e62bd",
   "metadata": {},
   "source": [
    "$$\n",
    "P(T < 1) = 1 - P(T > 1)\n",
    "$$"
   ]
  },
  {
   "cell_type": "markdown",
   "id": "89f1d7d9-7f2d-4052-a222-b97a3cc5c757",
   "metadata": {},
   "source": [
    "$$\n",
    "P(T > 1) = e ^ {-\\lambda * 1} = e ^ {-0.5 * 1} = e ^ {-0.5}\n",
    "$$"
   ]
  },
  {
   "cell_type": "markdown",
   "id": "5814c5af-fe6c-4d4c-bee0-8f9bf362e60a",
   "metadata": {},
   "source": [
    "https://www.wolframalpha.com/input?i=+e+%5E+%7B-0.5%7D"
   ]
  },
  {
   "cell_type": "markdown",
   "id": "df64a0ee-4e39-4854-b708-bad07d9d80a1",
   "metadata": {},
   "source": [
    "0.606531"
   ]
  },
  {
   "cell_type": "markdown",
   "id": "5aaf9646-2fff-4b49-93d4-efb79bbee328",
   "metadata": {},
   "source": [
    "La respuesta es la (c)"
   ]
  },
  {
   "cell_type": "markdown",
   "id": "936def07-a7a1-4a09-be2f-f97a4ea9c7a6",
   "metadata": {},
   "source": [
    "#### 7) Cual es la probabilidad de que entre dos eventos consecutivos transcurra exactamente 1 segundo?"
   ]
  },
  {
   "cell_type": "markdown",
   "id": "dd9fa954-24f1-4559-9fd2-2e4a94f70dfb",
   "metadata": {},
   "source": [
    "a) 0.111 <br>\n",
    "b) 0.857 <br>\n",
    "c) Ninguna de las opciones <br>\n",
    "d) 0.3935 <br>\n",
    "e) 0.6065 <br>"
   ]
  },
  {
   "cell_type": "markdown",
   "id": "428a1f8a-f2aa-4b6f-a58d-00f7dda92218",
   "metadata": {},
   "source": [
    "\\begin{equation}\n",
    "P(N_{(0,1]}=1) = \\frac{e^{-0.5 * 1} (0.5 * 1)^1 }{1!} = 0.3036\n",
    "\\end{equation}"
   ]
  },
  {
   "cell_type": "markdown",
   "id": "85ab4d07-67c7-45fe-b013-3b6f77662d22",
   "metadata": {},
   "source": [
    "Por lo tanto la respuesta es la (c)"
   ]
  },
  {
   "cell_type": "markdown",
   "id": "fb1d6ede-c586-4210-90b4-4e3f2dbeb02e",
   "metadata": {},
   "source": [
    "#### 8) Sabiendo que en el intervalo [0, 2] seg ocurrieron 0 eventos. Cual es la probabilidad que no ocurran eventos en el intervalo [2, 4] seg?"
   ]
  },
  {
   "cell_type": "markdown",
   "id": "d52f417f-5f1a-4e6b-afc3-82f4937d03f5",
   "metadata": {},
   "source": [
    "a) 0.111 <br>\n",
    "b) 0.632 <br>\n",
    "c) 0.368 <br>\n",
    "d) 0.857 <br>"
   ]
  },
  {
   "cell_type": "markdown",
   "id": "0c488fe5-39e1-4583-9ef7-726677a2b81a",
   "metadata": {},
   "source": [
    "Por propiedad de perdida de memoria, podemos calcular en el intervalo [2,4] sin tener en cuenta lo que pas en el [0,2]. Entonces:"
   ]
  },
  {
   "cell_type": "markdown",
   "id": "881a89c0-f6cf-4a3c-80a5-9e8c4646494e",
   "metadata": {},
   "source": [
    "\\begin{equation}\n",
    "P(N_{(2,4]}=0) = \\frac{e^{-0.5 (4-2)} (0.5 * (4-2))^0 }{0!}\n",
    "\\end{equation}"
   ]
  },
  {
   "cell_type": "markdown",
   "id": "0dcefefa-017d-4cfd-b653-af0187571f82",
   "metadata": {},
   "source": [
    "https://www.wolframalpha.com/input?i=%5Cfrac%7Be%5E%7B-0.5+%284-2%29%7D+%280.5+*+%284-2%29%29%5E0+%7D%7B0%21%7D"
   ]
  },
  {
   "cell_type": "markdown",
   "id": "50423c3b-c983-4f9d-9429-a607a47ceaf0",
   "metadata": {},
   "source": [
    "0.367879"
   ]
  },
  {
   "cell_type": "markdown",
   "id": "62133c23-0939-4e56-abcf-e5e6301e5541",
   "metadata": {},
   "source": [
    "Por lo tanto la correcta es la (c)"
   ]
  },
  {
   "cell_type": "markdown",
   "id": "57ca05ca-9141-4ca1-8b88-c54147dd2b67",
   "metadata": {},
   "source": [
    "#### 9) Sabiendo que entre el tercer y cuarto evento transcurrio exactamente 1 segundo. Cual es la probabilidad que entre el cuarto y quinto evento transcurran menos de 1 segundo?"
   ]
  },
  {
   "cell_type": "markdown",
   "id": "b56a22c1-7510-4efd-86bc-8bb434c8324f",
   "metadata": {},
   "source": [
    "a) 0.857 <br>\n",
    "b) 0.111 <br>\n",
    "c) 0.6065 <br>\n",
    "d) 0.3935"
   ]
  },
  {
   "cell_type": "markdown",
   "id": "7941383d-479a-43c7-b745-a7666b971ef2",
   "metadata": {},
   "source": [
    "Esto es lo mismo que pedir que el proximo evento llege en un tiempo menos de 1 segundo, por perdida de memoria e independencia de eventos."
   ]
  },
  {
   "cell_type": "markdown",
   "id": "ab98e58a-2743-4e7c-a4c4-5f885bbd0328",
   "metadata": {},
   "source": [
    "T: tiempo hasta que llegue el proximo el evento."
   ]
  },
  {
   "cell_type": "markdown",
   "id": "3d1a7721-a98e-42d5-a0c0-7a7f8ad4b1e6",
   "metadata": {},
   "source": [
    "$$\n",
    "P(T < 1) = 1 - P(T > 1)\n",
    "$$"
   ]
  },
  {
   "cell_type": "markdown",
   "id": "4fc7988b-1b89-4d71-a07b-fdd8294bd42d",
   "metadata": {},
   "source": [
    "$$\n",
    "P(T > 1) = e ^ {-\\lambda * 1} = e ^ {-0.5 * 1} = e ^ {-0.5}\n",
    "$$"
   ]
  },
  {
   "cell_type": "markdown",
   "id": "47fea205-ab9c-464c-a893-bfc407419a3e",
   "metadata": {},
   "source": [
    "https://www.wolframalpha.com/input?i=e+%5E+%7B-0.5%7D"
   ]
  },
  {
   "cell_type": "markdown",
   "id": "a676849e-f99c-40e7-9063-42dadc3664a1",
   "metadata": {},
   "source": [
    "0.606531"
   ]
  },
  {
   "cell_type": "markdown",
   "id": "abc98716-bea9-4705-8694-b99ecee317eb",
   "metadata": {},
   "source": [
    "Por lo tanto la correcta es la (c)"
   ]
  },
  {
   "cell_type": "markdown",
   "id": "55884272-f9e6-46ba-85d6-2574d432bc8a",
   "metadata": {},
   "source": [
    "#### 10) Sabiendo que entre el tercer y cuarto evento transcurrieron exactamente 2 segundos. Cual es la probabilidad que el cuarto y quinto evento transcurran menos de 1 segundo?"
   ]
  },
  {
   "cell_type": "markdown",
   "id": "bf6d09fb-e998-4160-81d7-6e88a40326ca",
   "metadata": {},
   "source": [
    "a) 0.857 <br>\n",
    "b) 0.111 <br>\n",
    "c) 0.3935 <br>\n",
    "d) 0.6065 <br>"
   ]
  },
  {
   "cell_type": "markdown",
   "id": "8ce2cca9-8e80-45ad-bf5f-afe6df681982",
   "metadata": {},
   "source": [
    "Idem anterior, la respuesta es la (c)"
   ]
  }
 ],
 "metadata": {
  "kernelspec": {
   "display_name": "Python 3 (ipykernel)",
   "language": "python",
   "name": "python3"
  },
  "language_info": {
   "codemirror_mode": {
    "name": "ipython",
    "version": 3
   },
   "file_extension": ".py",
   "mimetype": "text/x-python",
   "name": "python",
   "nbconvert_exporter": "python",
   "pygments_lexer": "ipython3",
   "version": "3.11.1"
  }
 },
 "nbformat": 4,
 "nbformat_minor": 5
}
